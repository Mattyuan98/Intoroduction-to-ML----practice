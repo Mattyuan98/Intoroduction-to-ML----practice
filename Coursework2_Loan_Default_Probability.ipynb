{
 "cells": [
  {
   "cell_type": "markdown",
   "metadata": {
    "_cell_guid": "83708667-4fdc-1563-7b3a-06b6575d2865"
   },
   "source": [
    "\n",
    "\n",
    "# Coursework 2 - Loan Default Probability \n",
    "\n",
    "The goal of this case study is to build a machine learning model to predict the probability that a loan will default. By the end of the analysis you should be able to recommend a choice of model and associated hyperparameters."
   ]
  },
  {
   "cell_type": "markdown",
   "metadata": {},
   "source": [
    "The comment is a guide for you but is not strict - you can use more cells or less. If you want to try other things then you can but it is not gauranteed to raise your score. What I want you to do is to do the things I ask for well and to explain them clearly. "
   ]
  },
  {
   "cell_type": "markdown",
   "metadata": {},
   "source": [
    "### Authors:\n",
    "@ Puen YUAN  \n",
    "@ Runze CAI  \n",
    "@ Hui ZENG "
   ]
  },
  {
   "cell_type": "code",
   "execution_count": 206,
   "metadata": {},
   "outputs": [],
   "source": [
    "# Disable the warnings\n",
    "import warnings\n",
    "warnings.filterwarnings('ignore')"
   ]
  },
  {
   "cell_type": "markdown",
   "metadata": {},
   "source": [
    "## Overview"
   ]
  },
  {
   "cell_type": "markdown",
   "metadata": {},
   "source": [
    "* [1. Problem Definition](#0)\n",
    "* [2. Getting Started - Load Libraries and Dataset](#1)\n",
    "    * [2.1. Load Libraries](#1.1)    \n",
    "    * [2.2. Load Dataset](#1.2)\n",
    "* [3. Data Preparation and Feature Selection](#2)\n",
    "    * [3.1. Preparing the predicted variable](#2.1)    \n",
    "    * [3.2. Feature Selection-Limit the Feature Space](#2.2)\n",
    "        * [3.2.1.  Features elimination by significant missing values ](#2.2.1)\n",
    "        * [3.2.2.  Features elimination based on the intutiveness](#2.2.2)\n",
    "        * [3.2.3.  Features elimination based on the correlation](#2.2.3)   \n",
    "* [4. Feature Engineering and Exploratory Analysis](#3)\n",
    "    * [4.1 Feature Analysis and Exploration](#3.1)\n",
    "        * [4.1.1. Analysing the categorical features](#3.1.1)\n",
    "        * [4.1.2  Analysing the continuous features ](#3.1.2) \n",
    "    * [4.2.Encoding Categorical Data](#3.2)\n",
    "    * [4.3.Sampling Data](#3.3)    \n",
    "* [5.Evaluate Algorithms and Models](#4)        \n",
    "    * [5.1. Train/Test Split](#4.1)\n",
    "    * [5.2. Test Options and Evaluation Metrics](#4.2)\n",
    "    * [5.3. Compare Models and Algorithms](#4.3)\n",
    "* [6. Model Tuning and Grid Search](#5)  \n",
    "* [7. Finalize the Model](#6)  \n",
    "    * [7.1. Results on test dataset](#6.1)\n",
    "    * [7.1. Variable Intuition/Feature Selection](#6.2) \n",
    "    * [7.3. Save model for later use](#6.3)\n"
   ]
  },
  {
   "cell_type": "markdown",
   "metadata": {},
   "source": [
    "<a id='0'></a>\n",
    "# 1. Problem Definition"
   ]
  },
  {
   "cell_type": "markdown",
   "metadata": {},
   "source": [
    "This case study aims to analyze data for loans through 2007-2017Q3 from Lending Club available on Kaggle. Dataset contains over 887 thousand observations and 150 variables among which one is describing the loan status. The predicted variable is “Charge-Off ”. A charge-off is a debt that a creditor has given up trying to collect on after you’ve missed payments for several months. You want a model that can predict charge-off."
   ]
  },
  {
   "cell_type": "markdown",
   "metadata": {},
   "source": [
    "<a id='1'></a>\n",
    "# 2. Getting Started- Loading the data and python packages"
   ]
  },
  {
   "cell_type": "markdown",
   "metadata": {},
   "source": [
    "## 2.1. Load all the python packages "
   ]
  },
  {
   "cell_type": "code",
   "execution_count": 207,
   "metadata": {
    "_cell_guid": "5d8fee34-f454-2642-8b06-ed719f0317e1"
   },
   "outputs": [],
   "source": [
    "# DO THIS HERE\n",
    "import numpy as np     \n",
    "import pandas as pd     \n",
    "import matplotlib.pyplot as plt     \n",
    "%matplotlib inline\n",
    "import matplotlib as mpl    \n",
    "import seaborn as sns\n",
    "from sklearn.preprocessing import LabelEncoder\n",
    "from sklearn.model_selection import KFold,cross_val_score,GridSearchCV,train_test_split\n",
    "from sklearn.metrics import accuracy_score,classification_report, confusion_matrix,plot_confusion_matrix\n",
    "from sklearn.linear_model import LogisticRegression\n",
    "from sklearn.neighbors import KNeighborsClassifier\n",
    "from sklearn.tree import DecisionTreeClassifier\n",
    "from sklearn.naive_bayes import GaussianNB\n",
    "from sklearn.ensemble import AdaBoostClassifier\n",
    "from sklearn.ensemble import RandomForestClassifier\n",
    "from sklearn.neural_network import MLPClassifier\n",
    "from sklearn.feature_selection import RFE"
   ]
  },
  {
   "cell_type": "markdown",
   "metadata": {},
   "source": [
    "<a id='1.2'></a>\n",
    "## 2.2. Loading the Data"
   ]
  },
  {
   "cell_type": "markdown",
   "metadata": {},
   "source": [
    "### Load a zipped csv file LoansData_sample.csv.gz using a utf-8 encoding. Call the dataframe \"dataset\""
   ]
  },
  {
   "cell_type": "code",
   "execution_count": 208,
   "metadata": {
    "_cell_guid": "787e35f7-bf9e-0969-8d13-a54fa87f3519",
    "scrolled": true
   },
   "outputs": [],
   "source": [
    "# Read the Zipped CSV file from our directory path using utf-8 coding. \n",
    "# Please adjust your directory path to read the data.\n",
    "dataset = pd.read_csv('LoansData_sample.csv.gz', compression='gzip', low_memory=False, index_col=0, encoding='utf-8')"
   ]
  },
  {
   "cell_type": "markdown",
   "metadata": {},
   "source": [
    "### Examine the properties of the data frame"
   ]
  },
  {
   "cell_type": "code",
   "execution_count": 209,
   "metadata": {},
   "outputs": [
    {
     "name": "stdout",
     "output_type": "stream",
     "text": [
      "Dataset Shape :  (100000, 150)\n"
     ]
    }
   ],
   "source": [
    "# Check the dataset shape\n",
    "print('Dataset Shape : ', dataset.shape)"
   ]
  },
  {
   "cell_type": "code",
   "execution_count": 210,
   "metadata": {},
   "outputs": [
    {
     "name": "stdout",
     "output_type": "stream",
     "text": [
      "<class 'pandas.core.frame.DataFrame'>\n",
      "Int64Index: 100000 entries, 0 to 99999\n",
      "Columns: 150 entries, id to settlement_term\n",
      "dtypes: float64(115), int64(1), object(34)\n",
      "memory usage: 115.2+ MB\n"
     ]
    }
   ],
   "source": [
    "# Check the dataset info\n",
    "dataset.info()"
   ]
  },
  {
   "cell_type": "code",
   "execution_count": 211,
   "metadata": {
    "scrolled": true,
    "tags": []
   },
   "outputs": [
    {
     "name": "stdout",
     "output_type": "stream",
     "text": [
      "member_id                                     100000\n",
      "emp_title                                       5264\n",
      "emp_length                                      5259\n",
      "desc                                           99993\n",
      "mths_since_last_delinq                         48703\n",
      "mths_since_last_record                         83268\n",
      "revol_util                                        56\n",
      "last_pymnt_d                                      67\n",
      "next_pymnt_d                                   86138\n",
      "last_credit_pull_d                                17\n",
      "mths_since_last_major_derog                    72059\n",
      "annual_inc_joint                              100000\n",
      "dti_joint                                     100000\n",
      "verification_status_joint                     100000\n",
      "open_acc_6m                                   100000\n",
      "open_act_il                                   100000\n",
      "open_il_12m                                   100000\n",
      "open_il_24m                                   100000\n",
      "mths_since_rcnt_il                            100000\n",
      "total_bal_il                                  100000\n",
      "il_util                                       100000\n",
      "open_rv_12m                                   100000\n",
      "open_rv_24m                                   100000\n",
      "max_bal_bc                                    100000\n",
      "all_util                                      100000\n",
      "inq_fi                                        100000\n",
      "total_cu_tl                                   100000\n",
      "inq_last_12m                                  100000\n",
      "bc_open_to_buy                                  1135\n",
      "bc_util                                         1198\n",
      "mo_sin_old_il_acct                              3007\n",
      "mths_since_recent_bc                            1049\n",
      "mths_since_recent_bc_dlq                       73545\n",
      "mths_since_recent_inq                           9818\n",
      "mths_since_recent_revol_delinq                 63814\n",
      "num_tl_120dpd_2m                                1956\n",
      "percent_bc_gt_75                                1161\n",
      "revol_bal_joint                               100000\n",
      "sec_app_fico_range_low                        100000\n",
      "sec_app_fico_range_high                       100000\n",
      "sec_app_earliest_cr_line                      100000\n",
      "sec_app_inq_last_6mths                        100000\n",
      "sec_app_mort_acc                              100000\n",
      "sec_app_open_acc                              100000\n",
      "sec_app_revol_util                            100000\n",
      "sec_app_open_act_il                           100000\n",
      "sec_app_num_rev_accts                         100000\n",
      "sec_app_chargeoff_within_12_mths              100000\n",
      "sec_app_collections_12_mths_ex_med            100000\n",
      "sec_app_mths_since_last_major_derog           100000\n",
      "hardship_type                                  99815\n",
      "hardship_reason                                99815\n",
      "hardship_status                                99815\n",
      "deferral_term                                  99815\n",
      "hardship_amount                                99815\n",
      "hardship_start_date                            99815\n",
      "hardship_end_date                              99815\n",
      "payment_plan_start_date                        99815\n",
      "hardship_length                                99815\n",
      "hardship_dpd                                   99815\n",
      "hardship_loan_status                           99815\n",
      "orig_projected_additional_accrued_interest     99848\n",
      "hardship_payoff_balance_amount                 99815\n",
      "hardship_last_payment_amount                   99815\n",
      "debt_settlement_flag_date                      98710\n",
      "settlement_status                              98710\n",
      "settlement_date                                98710\n",
      "settlement_amount                              98710\n",
      "settlement_percentage                          98710\n",
      "settlement_term                                98710\n",
      "dtype: int64\n"
     ]
    }
   ],
   "source": [
    "# display the col names and the number of null values\n",
    "pd.set_option('display.max_rows', 70)\n",
    "\n",
    "null_cols = dataset.columns[dataset.isnull().any()]\n",
    "print(dataset[null_cols].isnull().sum())"
   ]
  },
  {
   "cell_type": "markdown",
   "metadata": {},
   "source": [
    "<a id='2'></a>\n",
    "## 3. Data Preparation and Feature Selection"
   ]
  },
  {
   "cell_type": "markdown",
   "metadata": {},
   "source": [
    "<a id='2.1'></a>\n",
    "## 3.1. Preparing the predicted variable\n"
   ]
  },
  {
   "cell_type": "markdown",
   "metadata": {},
   "source": [
    "### The column to predict is loan_status. Look at the values it takes and their counts."
   ]
  },
  {
   "cell_type": "code",
   "execution_count": 212,
   "metadata": {
    "scrolled": true
   },
   "outputs": [
    {
     "data": {
      "text/plain": [
       "array(['Fully Paid', 'Charged Off', 'Current', 'Late (31-120 days)',\n",
       "       'Late (16-30 days)', 'In Grace Period', 'Default'], dtype=object)"
      ]
     },
     "execution_count": 212,
     "metadata": {},
     "output_type": "execute_result"
    }
   ],
   "source": [
    "# Examine our target feature loan_statues and check its values\n",
    "predictor = dataset['loan_status']\n",
    "predictor.unique()"
   ]
  },
  {
   "cell_type": "code",
   "execution_count": 213,
   "metadata": {},
   "outputs": [
    {
     "data": {
      "text/plain": [
       "Fully Paid            69982\n",
       "Charged Off           16156\n",
       "Current               12726\n",
       "Late (31-120 days)      730\n",
       "In Grace Period         264\n",
       "Late (16-30 days)       139\n",
       "Default                   3\n",
       "Name: loan_status, dtype: int64"
      ]
     },
     "execution_count": 213,
     "metadata": {},
     "output_type": "execute_result"
    }
   ],
   "source": [
    "predictor.value_counts()"
   ]
  },
  {
   "cell_type": "markdown",
   "metadata": {},
   "source": [
    "### You need to try to learn differences in the features between completed loans that have been fully paid or charged off. Don't consider loans that are current, don't meet the credit policy, defaulted, or have a missing status. So only keep the loans with status \"Fully Paid\" or \"Charged Off.\" Count the number of each."
   ]
  },
  {
   "cell_type": "code",
   "execution_count": 214,
   "metadata": {},
   "outputs": [
    {
     "data": {
      "text/plain": [
       "Fully Paid     69982\n",
       "Charged Off    16156\n",
       "Name: loan_status, dtype: int64"
      ]
     },
     "execution_count": 214,
     "metadata": {},
     "output_type": "execute_result"
    }
   ],
   "source": [
    "# Keep the required status : Fully paid and Charged off and count the number\n",
    "dataset_1 = pd.concat([dataset[dataset.loan_status == 'Fully Paid'],dataset[dataset.loan_status == 'Charged Off']],axis=0)\n",
    "dataset_1.loan_status.value_counts()"
   ]
  },
  {
   "cell_type": "markdown",
   "metadata": {},
   "source": [
    "### Is this an unbalanced dataset ?"
   ]
  },
  {
   "cell_type": "code",
   "execution_count": 215,
   "metadata": {},
   "outputs": [
    {
     "name": "stdout",
     "output_type": "stream",
     "text": [
      "Here are the fully paid rate and charged off rate:\n",
      " Fully Paid     0.812441\n",
      "Charged Off    0.187559\n",
      "Name: loan_status, dtype: float64\n"
     ]
    }
   ],
   "source": [
    "print('Here are the fully paid rate and charged off rate:\\n', \n",
    "      dataset_1.loan_status.value_counts()/dataset_1.loan_status.shape[0])"
   ]
  },
  {
   "cell_type": "markdown",
   "metadata": {},
   "source": [
    "<font color='darkblue'>We can notice that the dataset is not balanced"
   ]
  },
  {
   "cell_type": "markdown",
   "metadata": {},
   "source": [
    "### Set the labels to be 1 for Charged off else 0"
   ]
  },
  {
   "cell_type": "code",
   "execution_count": 216,
   "metadata": {},
   "outputs": [
    {
     "data": {
      "text/plain": [
       "0    69982\n",
       "1    16156\n",
       "Name: loan_status, dtype: int64"
      ]
     },
     "execution_count": 216,
     "metadata": {},
     "output_type": "execute_result"
    }
   ],
   "source": [
    "# Set the labels 0: Fully paid and 1: Charged off\n",
    "emb_mapping = {'Fully Paid':0, 'Charged Off':1}\n",
    "dataset_1['loan_status'] = dataset_1.loan_status.map(emb_mapping)\n",
    "dataset_1.loan_status.value_counts()"
   ]
  },
  {
   "cell_type": "markdown",
   "metadata": {},
   "source": [
    "<a id='2.2'></a>\n",
    "## 3.2. Feature Selection-Limit the Feature Space "
   ]
  },
  {
   "cell_type": "markdown",
   "metadata": {},
   "source": [
    "The full dataset has 150 features for each\n",
    "loan. We’ll eliminate\n",
    "features in following steps using three different approaches:\n",
    "* Eliminate feature that have more than 30% missing values.\n",
    "* Eliminate features that are unintuitive based on subjective judgement - I will give you these.\n",
    "* Eliminate features with low correlation with the predicted variable"
   ]
  },
  {
   "cell_type": "markdown",
   "metadata": {},
   "source": [
    "<a id='2.2.1'></a>\n",
    "### 3.2.1.  Features elimination by significant missing values"
   ]
  },
  {
   "cell_type": "markdown",
   "metadata": {},
   "source": [
    "### Calculating the percentage of missing data for each feature using isnull().mean():"
   ]
  },
  {
   "cell_type": "code",
   "execution_count": 217,
   "metadata": {
    "scrolled": true,
    "tags": []
   },
   "outputs": [
    {
     "name": "stdout",
     "output_type": "stream",
     "text": [
      "member_id                                     1.000000\n",
      "emp_title                                     0.054819\n",
      "emp_length                                    0.054761\n",
      "desc                                          0.999930\n",
      "mths_since_last_delinq                        0.485291\n",
      "mths_since_last_record                        0.826859\n",
      "revol_util                                    0.000511\n",
      "last_pymnt_d                                  0.000778\n",
      "next_pymnt_d                                  1.000000\n",
      "last_credit_pull_d                            0.000174\n",
      "mths_since_last_major_derog                   0.715457\n",
      "annual_inc_joint                              1.000000\n",
      "dti_joint                                     1.000000\n",
      "verification_status_joint                     1.000000\n",
      "open_acc_6m                                   1.000000\n",
      "open_act_il                                   1.000000\n",
      "open_il_12m                                   1.000000\n",
      "open_il_24m                                   1.000000\n",
      "mths_since_rcnt_il                            1.000000\n",
      "total_bal_il                                  1.000000\n",
      "il_util                                       1.000000\n",
      "open_rv_12m                                   1.000000\n",
      "open_rv_24m                                   1.000000\n",
      "max_bal_bc                                    1.000000\n",
      "all_util                                      1.000000\n",
      "inq_fi                                        1.000000\n",
      "total_cu_tl                                   1.000000\n",
      "inq_last_12m                                  1.000000\n",
      "bc_open_to_buy                                0.011563\n",
      "bc_util                                       0.012178\n",
      "mo_sin_old_il_acct                            0.031566\n",
      "mths_since_recent_bc                          0.010681\n",
      "mths_since_recent_bc_dlq                      0.733242\n",
      "mths_since_recent_inq                         0.095428\n",
      "mths_since_recent_revol_delinq                0.636479\n",
      "num_tl_120dpd_2m                              0.021140\n",
      "percent_bc_gt_75                              0.011853\n",
      "revol_bal_joint                               1.000000\n",
      "sec_app_fico_range_low                        1.000000\n",
      "sec_app_fico_range_high                       1.000000\n",
      "sec_app_earliest_cr_line                      1.000000\n",
      "sec_app_inq_last_6mths                        1.000000\n",
      "sec_app_mort_acc                              1.000000\n",
      "sec_app_open_acc                              1.000000\n",
      "sec_app_revol_util                            1.000000\n",
      "sec_app_open_act_il                           1.000000\n",
      "sec_app_num_rev_accts                         1.000000\n",
      "sec_app_chargeoff_within_12_mths              1.000000\n",
      "sec_app_collections_12_mths_ex_med            1.000000\n",
      "sec_app_mths_since_last_major_derog           1.000000\n",
      "hardship_type                                 0.999675\n",
      "hardship_reason                               0.999675\n",
      "hardship_status                               0.999675\n",
      "deferral_term                                 0.999675\n",
      "hardship_amount                               0.999675\n",
      "hardship_start_date                           0.999675\n",
      "hardship_end_date                             0.999675\n",
      "payment_plan_start_date                       0.999675\n",
      "hardship_length                               0.999675\n",
      "hardship_dpd                                  0.999675\n",
      "hardship_loan_status                          0.999675\n",
      "orig_projected_additional_accrued_interest    0.999942\n",
      "hardship_payoff_balance_amount                0.999675\n",
      "hardship_last_payment_amount                  0.999675\n",
      "debt_settlement_flag_date                     0.985407\n",
      "settlement_status                             0.985407\n",
      "settlement_date                               0.985407\n",
      "settlement_amount                             0.985407\n",
      "settlement_percentage                         0.985407\n",
      "settlement_term                               0.985407\n",
      "dtype: float64\n"
     ]
    }
   ],
   "source": [
    "# Compute the percentage of missing data\n",
    "null_col = dataset_1.columns[dataset_1.isnull().any()]\n",
    "missingdata = dataset_1[null_col].isnull().mean()\n",
    "print(missingdata)"
   ]
  },
  {
   "cell_type": "markdown",
   "metadata": {},
   "source": [
    "### Drop the columns with more than 30% of missing data."
   ]
  },
  {
   "cell_type": "code",
   "execution_count": 218,
   "metadata": {},
   "outputs": [
    {
     "data": {
      "text/html": [
       "<div>\n",
       "<style scoped>\n",
       "    .dataframe tbody tr th:only-of-type {\n",
       "        vertical-align: middle;\n",
       "    }\n",
       "\n",
       "    .dataframe tbody tr th {\n",
       "        vertical-align: top;\n",
       "    }\n",
       "\n",
       "    .dataframe thead th {\n",
       "        text-align: right;\n",
       "    }\n",
       "</style>\n",
       "<table border=\"1\" class=\"dataframe\">\n",
       "  <thead>\n",
       "    <tr style=\"text-align: right;\">\n",
       "      <th></th>\n",
       "      <th>id</th>\n",
       "      <th>loan_amnt</th>\n",
       "      <th>funded_amnt</th>\n",
       "      <th>funded_amnt_inv</th>\n",
       "      <th>term</th>\n",
       "      <th>int_rate</th>\n",
       "      <th>installment</th>\n",
       "      <th>grade</th>\n",
       "      <th>sub_grade</th>\n",
       "      <th>emp_title</th>\n",
       "      <th>...</th>\n",
       "      <th>percent_bc_gt_75</th>\n",
       "      <th>pub_rec_bankruptcies</th>\n",
       "      <th>tax_liens</th>\n",
       "      <th>tot_hi_cred_lim</th>\n",
       "      <th>total_bal_ex_mort</th>\n",
       "      <th>total_bc_limit</th>\n",
       "      <th>total_il_high_credit_limit</th>\n",
       "      <th>hardship_flag</th>\n",
       "      <th>disbursement_method</th>\n",
       "      <th>debt_settlement_flag</th>\n",
       "    </tr>\n",
       "  </thead>\n",
       "  <tbody>\n",
       "    <tr>\n",
       "      <th>0</th>\n",
       "      <td>38098114</td>\n",
       "      <td>15000.0</td>\n",
       "      <td>15000.0</td>\n",
       "      <td>15000.0</td>\n",
       "      <td>60 months</td>\n",
       "      <td>12.39</td>\n",
       "      <td>336.64</td>\n",
       "      <td>C</td>\n",
       "      <td>C1</td>\n",
       "      <td>MANAGEMENT</td>\n",
       "      <td>...</td>\n",
       "      <td>0.0</td>\n",
       "      <td>0.0</td>\n",
       "      <td>0.0</td>\n",
       "      <td>196500.0</td>\n",
       "      <td>149140.0</td>\n",
       "      <td>10000.0</td>\n",
       "      <td>12000.0</td>\n",
       "      <td>N</td>\n",
       "      <td>Cash</td>\n",
       "      <td>N</td>\n",
       "    </tr>\n",
       "    <tr>\n",
       "      <th>2</th>\n",
       "      <td>37842129</td>\n",
       "      <td>21425.0</td>\n",
       "      <td>21425.0</td>\n",
       "      <td>21425.0</td>\n",
       "      <td>60 months</td>\n",
       "      <td>15.59</td>\n",
       "      <td>516.36</td>\n",
       "      <td>D</td>\n",
       "      <td>D1</td>\n",
       "      <td>Programming Analysis Supervisor</td>\n",
       "      <td>...</td>\n",
       "      <td>100.0</td>\n",
       "      <td>0.0</td>\n",
       "      <td>0.0</td>\n",
       "      <td>57073.0</td>\n",
       "      <td>42315.0</td>\n",
       "      <td>15000.0</td>\n",
       "      <td>35573.0</td>\n",
       "      <td>N</td>\n",
       "      <td>Cash</td>\n",
       "      <td>N</td>\n",
       "    </tr>\n",
       "    <tr>\n",
       "      <th>5</th>\n",
       "      <td>37822187</td>\n",
       "      <td>9600.0</td>\n",
       "      <td>9600.0</td>\n",
       "      <td>9600.0</td>\n",
       "      <td>36 months</td>\n",
       "      <td>13.66</td>\n",
       "      <td>326.53</td>\n",
       "      <td>C</td>\n",
       "      <td>C3</td>\n",
       "      <td>Admin Specialist</td>\n",
       "      <td>...</td>\n",
       "      <td>60.0</td>\n",
       "      <td>0.0</td>\n",
       "      <td>0.0</td>\n",
       "      <td>52490.0</td>\n",
       "      <td>38566.0</td>\n",
       "      <td>21100.0</td>\n",
       "      <td>24890.0</td>\n",
       "      <td>N</td>\n",
       "      <td>Cash</td>\n",
       "      <td>N</td>\n",
       "    </tr>\n",
       "    <tr>\n",
       "      <th>6</th>\n",
       "      <td>37741884</td>\n",
       "      <td>2500.0</td>\n",
       "      <td>2500.0</td>\n",
       "      <td>2500.0</td>\n",
       "      <td>36 months</td>\n",
       "      <td>11.99</td>\n",
       "      <td>83.03</td>\n",
       "      <td>B</td>\n",
       "      <td>B5</td>\n",
       "      <td>Manufacturing Engineer</td>\n",
       "      <td>...</td>\n",
       "      <td>66.7</td>\n",
       "      <td>0.0</td>\n",
       "      <td>0.0</td>\n",
       "      <td>415290.0</td>\n",
       "      <td>61606.0</td>\n",
       "      <td>9800.0</td>\n",
       "      <td>47946.0</td>\n",
       "      <td>N</td>\n",
       "      <td>Cash</td>\n",
       "      <td>N</td>\n",
       "    </tr>\n",
       "    <tr>\n",
       "      <th>7</th>\n",
       "      <td>37854444</td>\n",
       "      <td>16000.0</td>\n",
       "      <td>16000.0</td>\n",
       "      <td>16000.0</td>\n",
       "      <td>60 months</td>\n",
       "      <td>11.44</td>\n",
       "      <td>351.40</td>\n",
       "      <td>B</td>\n",
       "      <td>B4</td>\n",
       "      <td>Foreign Service Officer</td>\n",
       "      <td>...</td>\n",
       "      <td>66.7</td>\n",
       "      <td>0.0</td>\n",
       "      <td>0.0</td>\n",
       "      <td>428032.0</td>\n",
       "      <td>34475.0</td>\n",
       "      <td>9200.0</td>\n",
       "      <td>33000.0</td>\n",
       "      <td>N</td>\n",
       "      <td>Cash</td>\n",
       "      <td>N</td>\n",
       "    </tr>\n",
       "  </tbody>\n",
       "</table>\n",
       "<p>5 rows × 92 columns</p>\n",
       "</div>"
      ],
      "text/plain": [
       "         id  loan_amnt  funded_amnt  funded_amnt_inv        term  int_rate  \\\n",
       "0  38098114    15000.0      15000.0          15000.0   60 months     12.39   \n",
       "2  37842129    21425.0      21425.0          21425.0   60 months     15.59   \n",
       "5  37822187     9600.0       9600.0           9600.0   36 months     13.66   \n",
       "6  37741884     2500.0       2500.0           2500.0   36 months     11.99   \n",
       "7  37854444    16000.0      16000.0          16000.0   60 months     11.44   \n",
       "\n",
       "   installment grade sub_grade                        emp_title  ...  \\\n",
       "0       336.64     C        C1                       MANAGEMENT  ...   \n",
       "2       516.36     D        D1  Programming Analysis Supervisor  ...   \n",
       "5       326.53     C        C3                 Admin Specialist  ...   \n",
       "6        83.03     B        B5           Manufacturing Engineer  ...   \n",
       "7       351.40     B        B4          Foreign Service Officer  ...   \n",
       "\n",
       "  percent_bc_gt_75 pub_rec_bankruptcies  tax_liens tot_hi_cred_lim  \\\n",
       "0              0.0                  0.0        0.0        196500.0   \n",
       "2            100.0                  0.0        0.0         57073.0   \n",
       "5             60.0                  0.0        0.0         52490.0   \n",
       "6             66.7                  0.0        0.0        415290.0   \n",
       "7             66.7                  0.0        0.0        428032.0   \n",
       "\n",
       "  total_bal_ex_mort  total_bc_limit total_il_high_credit_limit hardship_flag  \\\n",
       "0          149140.0         10000.0                    12000.0             N   \n",
       "2           42315.0         15000.0                    35573.0             N   \n",
       "5           38566.0         21100.0                    24890.0             N   \n",
       "6           61606.0          9800.0                    47946.0             N   \n",
       "7           34475.0          9200.0                    33000.0             N   \n",
       "\n",
       "  disbursement_method debt_settlement_flag  \n",
       "0                Cash                    N  \n",
       "2                Cash                    N  \n",
       "5                Cash                    N  \n",
       "6                Cash                    N  \n",
       "7                Cash                    N  \n",
       "\n",
       "[5 rows x 92 columns]"
      ]
     },
     "execution_count": 218,
     "metadata": {},
     "output_type": "execute_result"
    }
   ],
   "source": [
    "# We write an iteratin to drop corresponding features\n",
    "for i in range(len(missingdata)):\n",
    "    if missingdata[i] > 0.3:\n",
    "        dataset_1 = dataset_1.drop([missingdata.index[i]],axis=1)\n",
    "dataset_1.head()"
   ]
  },
  {
   "cell_type": "markdown",
   "metadata": {},
   "source": [
    "### How large is the remaining dataset ?"
   ]
  },
  {
   "cell_type": "code",
   "execution_count": 219,
   "metadata": {},
   "outputs": [
    {
     "data": {
      "text/plain": [
       "(86138, 92)"
      ]
     },
     "execution_count": 219,
     "metadata": {},
     "output_type": "execute_result"
    }
   ],
   "source": [
    "# check the new shape of the dataset\n",
    "dataset_1.shape"
   ]
  },
  {
   "cell_type": "markdown",
   "metadata": {},
   "source": [
    "<a id='2.2.2'></a>\n",
    "### 3.2.2.  Features elimination based on the intutiveness"
   ]
  },
  {
   "cell_type": "markdown",
   "metadata": {},
   "source": [
    "### In order to filter the features further I checked the description in the data dictionary and keep the features that are intuitive on the basis of subjective judgement. To do so I examine the LendingClub website and Data Dictionary to determine which features would have been available to potential investors. Here's the list of features I have decided to keep. Can you do the same."
   ]
  },
  {
   "cell_type": "code",
   "execution_count": 220,
   "metadata": {},
   "outputs": [],
   "source": [
    "keep_list = ['charged_off','funded_amnt','addr_state', 'annual_inc', 'application_type', \n",
    "             'dti', 'earliest_cr_line', 'emp_length', 'emp_title', 'fico_range_high', \n",
    "             'fico_range_low', 'grade', 'home_ownership', 'id', 'initial_list_status', \n",
    "             'installment', 'int_rate', 'loan_amnt', 'loan_status', 'mort_acc', 'open_acc', \n",
    "             'pub_rec', 'pub_rec_bankruptcies', 'purpose', 'revol_bal', 'revol_util', \n",
    "             'sub_grade', 'term', 'title', 'total_acc', 'verification_status', 'zip_code',\n",
    "             'last_pymnt_amnt','num_actv_rev_tl', 'mo_sin_rcnt_rev_tl_op','mo_sin_old_rev_tl_op',\n",
    "             \"bc_util\",\"bc_open_to_buy\",\"avg_cur_bal\",\"acc_open_past_24mths\" ]"
   ]
  },
  {
   "cell_type": "markdown",
   "metadata": {},
   "source": [
    "### Drop all of the features except these ones from the dataset."
   ]
  },
  {
   "cell_type": "code",
   "execution_count": 221,
   "metadata": {
    "scrolled": true
   },
   "outputs": [
    {
     "data": {
      "text/plain": [
       "Index(['id', 'loan_amnt', 'funded_amnt', 'funded_amnt_inv', 'term', 'int_rate',\n",
       "       'installment', 'grade', 'sub_grade', 'emp_title', 'emp_length',\n",
       "       'home_ownership', 'annual_inc', 'verification_status', 'issue_d',\n",
       "       'loan_status', 'pymnt_plan', 'purpose', 'title', 'zip_code',\n",
       "       'addr_state', 'dti', 'delinq_2yrs', 'earliest_cr_line',\n",
       "       'fico_range_low', 'fico_range_high', 'inq_last_6mths', 'open_acc',\n",
       "       'pub_rec', 'revol_bal', 'revol_util', 'total_acc',\n",
       "       'initial_list_status', 'out_prncp', 'out_prncp_inv', 'total_pymnt',\n",
       "       'total_pymnt_inv', 'total_rec_prncp', 'total_rec_int',\n",
       "       'total_rec_late_fee', 'recoveries', 'collection_recovery_fee',\n",
       "       'last_pymnt_d', 'last_pymnt_amnt', 'last_credit_pull_d',\n",
       "       'last_fico_range_high', 'last_fico_range_low',\n",
       "       'collections_12_mths_ex_med', 'policy_code', 'application_type',\n",
       "       'acc_now_delinq', 'tot_coll_amt', 'tot_cur_bal', 'total_rev_hi_lim',\n",
       "       'acc_open_past_24mths', 'avg_cur_bal', 'bc_open_to_buy', 'bc_util',\n",
       "       'chargeoff_within_12_mths', 'delinq_amnt', 'mo_sin_old_il_acct',\n",
       "       'mo_sin_old_rev_tl_op', 'mo_sin_rcnt_rev_tl_op', 'mo_sin_rcnt_tl',\n",
       "       'mort_acc', 'mths_since_recent_bc', 'mths_since_recent_inq',\n",
       "       'num_accts_ever_120_pd', 'num_actv_bc_tl', 'num_actv_rev_tl',\n",
       "       'num_bc_sats', 'num_bc_tl', 'num_il_tl', 'num_op_rev_tl',\n",
       "       'num_rev_accts', 'num_rev_tl_bal_gt_0', 'num_sats', 'num_tl_120dpd_2m',\n",
       "       'num_tl_30dpd', 'num_tl_90g_dpd_24m', 'num_tl_op_past_12m',\n",
       "       'pct_tl_nvr_dlq', 'percent_bc_gt_75', 'pub_rec_bankruptcies',\n",
       "       'tax_liens', 'tot_hi_cred_lim', 'total_bal_ex_mort', 'total_bc_limit',\n",
       "       'total_il_high_credit_limit', 'hardship_flag', 'disbursement_method',\n",
       "       'debt_settlement_flag'],\n",
       "      dtype='object')"
      ]
     },
     "execution_count": 221,
     "metadata": {},
     "output_type": "execute_result"
    }
   ],
   "source": [
    "# List all the feature columns\n",
    "col = dataset_1.columns\n",
    "col"
   ]
  },
  {
   "cell_type": "code",
   "execution_count": 222,
   "metadata": {
    "scrolled": true,
    "tags": []
   },
   "outputs": [
    {
     "data": {
      "text/plain": [
       "['funded_amnt_inv',\n",
       " 'issue_d',\n",
       " 'pymnt_plan',\n",
       " 'delinq_2yrs',\n",
       " 'inq_last_6mths',\n",
       " 'out_prncp',\n",
       " 'out_prncp_inv',\n",
       " 'total_pymnt',\n",
       " 'total_pymnt_inv',\n",
       " 'total_rec_prncp',\n",
       " 'total_rec_int',\n",
       " 'total_rec_late_fee',\n",
       " 'recoveries',\n",
       " 'collection_recovery_fee',\n",
       " 'last_pymnt_d',\n",
       " 'last_credit_pull_d',\n",
       " 'last_fico_range_high',\n",
       " 'last_fico_range_low',\n",
       " 'collections_12_mths_ex_med',\n",
       " 'policy_code',\n",
       " 'acc_now_delinq',\n",
       " 'tot_coll_amt',\n",
       " 'tot_cur_bal',\n",
       " 'total_rev_hi_lim',\n",
       " 'chargeoff_within_12_mths',\n",
       " 'delinq_amnt',\n",
       " 'mo_sin_old_il_acct',\n",
       " 'mo_sin_rcnt_tl',\n",
       " 'mths_since_recent_bc',\n",
       " 'mths_since_recent_inq',\n",
       " 'num_accts_ever_120_pd',\n",
       " 'num_actv_bc_tl',\n",
       " 'num_bc_sats',\n",
       " 'num_bc_tl',\n",
       " 'num_il_tl',\n",
       " 'num_op_rev_tl',\n",
       " 'num_rev_accts',\n",
       " 'num_rev_tl_bal_gt_0',\n",
       " 'num_sats',\n",
       " 'num_tl_120dpd_2m',\n",
       " 'num_tl_30dpd',\n",
       " 'num_tl_90g_dpd_24m',\n",
       " 'num_tl_op_past_12m',\n",
       " 'pct_tl_nvr_dlq',\n",
       " 'percent_bc_gt_75',\n",
       " 'tax_liens',\n",
       " 'tot_hi_cred_lim',\n",
       " 'total_bal_ex_mort',\n",
       " 'total_bc_limit',\n",
       " 'total_il_high_credit_limit',\n",
       " 'hardship_flag',\n",
       " 'disbursement_method',\n",
       " 'debt_settlement_flag']"
      ]
     },
     "execution_count": 222,
     "metadata": {},
     "output_type": "execute_result"
    }
   ],
   "source": [
    "# List the feature that we want to drop\n",
    "cols_to_drop = [drop for drop in col if drop not in keep_list]\n",
    "cols_to_drop"
   ]
  },
  {
   "cell_type": "code",
   "execution_count": 223,
   "metadata": {},
   "outputs": [
    {
     "data": {
      "text/html": [
       "<div>\n",
       "<style scoped>\n",
       "    .dataframe tbody tr th:only-of-type {\n",
       "        vertical-align: middle;\n",
       "    }\n",
       "\n",
       "    .dataframe tbody tr th {\n",
       "        vertical-align: top;\n",
       "    }\n",
       "\n",
       "    .dataframe thead th {\n",
       "        text-align: right;\n",
       "    }\n",
       "</style>\n",
       "<table border=\"1\" class=\"dataframe\">\n",
       "  <thead>\n",
       "    <tr style=\"text-align: right;\">\n",
       "      <th></th>\n",
       "      <th>id</th>\n",
       "      <th>loan_amnt</th>\n",
       "      <th>funded_amnt</th>\n",
       "      <th>term</th>\n",
       "      <th>int_rate</th>\n",
       "      <th>installment</th>\n",
       "      <th>grade</th>\n",
       "      <th>sub_grade</th>\n",
       "      <th>emp_title</th>\n",
       "      <th>emp_length</th>\n",
       "      <th>...</th>\n",
       "      <th>application_type</th>\n",
       "      <th>acc_open_past_24mths</th>\n",
       "      <th>avg_cur_bal</th>\n",
       "      <th>bc_open_to_buy</th>\n",
       "      <th>bc_util</th>\n",
       "      <th>mo_sin_old_rev_tl_op</th>\n",
       "      <th>mo_sin_rcnt_rev_tl_op</th>\n",
       "      <th>mort_acc</th>\n",
       "      <th>num_actv_rev_tl</th>\n",
       "      <th>pub_rec_bankruptcies</th>\n",
       "    </tr>\n",
       "  </thead>\n",
       "  <tbody>\n",
       "    <tr>\n",
       "      <th>0</th>\n",
       "      <td>38098114</td>\n",
       "      <td>15000.0</td>\n",
       "      <td>15000.0</td>\n",
       "      <td>60 months</td>\n",
       "      <td>12.39</td>\n",
       "      <td>336.64</td>\n",
       "      <td>C</td>\n",
       "      <td>C1</td>\n",
       "      <td>MANAGEMENT</td>\n",
       "      <td>10+ years</td>\n",
       "      <td>...</td>\n",
       "      <td>Individual</td>\n",
       "      <td>5.0</td>\n",
       "      <td>29828.0</td>\n",
       "      <td>9525.0</td>\n",
       "      <td>4.7</td>\n",
       "      <td>244.0</td>\n",
       "      <td>1.0</td>\n",
       "      <td>0.0</td>\n",
       "      <td>4.0</td>\n",
       "      <td>0.0</td>\n",
       "    </tr>\n",
       "    <tr>\n",
       "      <th>2</th>\n",
       "      <td>37842129</td>\n",
       "      <td>21425.0</td>\n",
       "      <td>21425.0</td>\n",
       "      <td>60 months</td>\n",
       "      <td>15.59</td>\n",
       "      <td>516.36</td>\n",
       "      <td>D</td>\n",
       "      <td>D1</td>\n",
       "      <td>Programming Analysis Supervisor</td>\n",
       "      <td>6 years</td>\n",
       "      <td>...</td>\n",
       "      <td>Individual</td>\n",
       "      <td>4.0</td>\n",
       "      <td>4232.0</td>\n",
       "      <td>324.0</td>\n",
       "      <td>97.8</td>\n",
       "      <td>136.0</td>\n",
       "      <td>7.0</td>\n",
       "      <td>0.0</td>\n",
       "      <td>4.0</td>\n",
       "      <td>0.0</td>\n",
       "    </tr>\n",
       "    <tr>\n",
       "      <th>5</th>\n",
       "      <td>37822187</td>\n",
       "      <td>9600.0</td>\n",
       "      <td>9600.0</td>\n",
       "      <td>36 months</td>\n",
       "      <td>13.66</td>\n",
       "      <td>326.53</td>\n",
       "      <td>C</td>\n",
       "      <td>C3</td>\n",
       "      <td>Admin Specialist</td>\n",
       "      <td>10+ years</td>\n",
       "      <td>...</td>\n",
       "      <td>Individual</td>\n",
       "      <td>8.0</td>\n",
       "      <td>3214.0</td>\n",
       "      <td>6494.0</td>\n",
       "      <td>69.2</td>\n",
       "      <td>265.0</td>\n",
       "      <td>23.0</td>\n",
       "      <td>0.0</td>\n",
       "      <td>7.0</td>\n",
       "      <td>0.0</td>\n",
       "    </tr>\n",
       "    <tr>\n",
       "      <th>6</th>\n",
       "      <td>37741884</td>\n",
       "      <td>2500.0</td>\n",
       "      <td>2500.0</td>\n",
       "      <td>36 months</td>\n",
       "      <td>11.99</td>\n",
       "      <td>83.03</td>\n",
       "      <td>B</td>\n",
       "      <td>B5</td>\n",
       "      <td>Manufacturing Engineer</td>\n",
       "      <td>&lt; 1 year</td>\n",
       "      <td>...</td>\n",
       "      <td>Individual</td>\n",
       "      <td>6.0</td>\n",
       "      <td>44136.0</td>\n",
       "      <td>1333.0</td>\n",
       "      <td>86.4</td>\n",
       "      <td>148.0</td>\n",
       "      <td>24.0</td>\n",
       "      <td>5.0</td>\n",
       "      <td>4.0</td>\n",
       "      <td>0.0</td>\n",
       "    </tr>\n",
       "    <tr>\n",
       "      <th>7</th>\n",
       "      <td>37854444</td>\n",
       "      <td>16000.0</td>\n",
       "      <td>16000.0</td>\n",
       "      <td>60 months</td>\n",
       "      <td>11.44</td>\n",
       "      <td>351.40</td>\n",
       "      <td>B</td>\n",
       "      <td>B4</td>\n",
       "      <td>Foreign Service Officer</td>\n",
       "      <td>6 years</td>\n",
       "      <td>...</td>\n",
       "      <td>Individual</td>\n",
       "      <td>3.0</td>\n",
       "      <td>53392.0</td>\n",
       "      <td>2559.0</td>\n",
       "      <td>72.2</td>\n",
       "      <td>133.0</td>\n",
       "      <td>17.0</td>\n",
       "      <td>2.0</td>\n",
       "      <td>3.0</td>\n",
       "      <td>0.0</td>\n",
       "    </tr>\n",
       "  </tbody>\n",
       "</table>\n",
       "<p>5 rows × 39 columns</p>\n",
       "</div>"
      ],
      "text/plain": [
       "         id  loan_amnt  funded_amnt        term  int_rate  installment grade  \\\n",
       "0  38098114    15000.0      15000.0   60 months     12.39       336.64     C   \n",
       "2  37842129    21425.0      21425.0   60 months     15.59       516.36     D   \n",
       "5  37822187     9600.0       9600.0   36 months     13.66       326.53     C   \n",
       "6  37741884     2500.0       2500.0   36 months     11.99        83.03     B   \n",
       "7  37854444    16000.0      16000.0   60 months     11.44       351.40     B   \n",
       "\n",
       "  sub_grade                        emp_title emp_length  ... application_type  \\\n",
       "0        C1                       MANAGEMENT  10+ years  ...       Individual   \n",
       "2        D1  Programming Analysis Supervisor    6 years  ...       Individual   \n",
       "5        C3                 Admin Specialist  10+ years  ...       Individual   \n",
       "6        B5           Manufacturing Engineer   < 1 year  ...       Individual   \n",
       "7        B4          Foreign Service Officer    6 years  ...       Individual   \n",
       "\n",
       "   acc_open_past_24mths avg_cur_bal  bc_open_to_buy bc_util  \\\n",
       "0                   5.0     29828.0          9525.0     4.7   \n",
       "2                   4.0      4232.0           324.0    97.8   \n",
       "5                   8.0      3214.0          6494.0    69.2   \n",
       "6                   6.0     44136.0          1333.0    86.4   \n",
       "7                   3.0     53392.0          2559.0    72.2   \n",
       "\n",
       "  mo_sin_old_rev_tl_op mo_sin_rcnt_rev_tl_op mort_acc  num_actv_rev_tl  \\\n",
       "0                244.0                   1.0      0.0              4.0   \n",
       "2                136.0                   7.0      0.0              4.0   \n",
       "5                265.0                  23.0      0.0              7.0   \n",
       "6                148.0                  24.0      5.0              4.0   \n",
       "7                133.0                  17.0      2.0              3.0   \n",
       "\n",
       "  pub_rec_bankruptcies  \n",
       "0                  0.0  \n",
       "2                  0.0  \n",
       "5                  0.0  \n",
       "6                  0.0  \n",
       "7                  0.0  \n",
       "\n",
       "[5 rows x 39 columns]"
      ]
     },
     "execution_count": 223,
     "metadata": {},
     "output_type": "execute_result"
    }
   ],
   "source": [
    "# Drop the features in cols_to_drop\n",
    "for i in range(len(cols_to_drop)):\n",
    "    dataset_1 = dataset_1.drop([cols_to_drop[i]],axis=1)\n",
    "dataset_1.head()"
   ]
  },
  {
   "cell_type": "markdown",
   "metadata": {},
   "source": [
    "### How large is the remaining dataset ?"
   ]
  },
  {
   "cell_type": "code",
   "execution_count": 224,
   "metadata": {},
   "outputs": [
    {
     "data": {
      "text/plain": [
       "(86138, 39)"
      ]
     },
     "execution_count": 224,
     "metadata": {},
     "output_type": "execute_result"
    }
   ],
   "source": [
    "# check the shape\n",
    "dataset_1.shape"
   ]
  },
  {
   "cell_type": "markdown",
   "metadata": {},
   "source": [
    "<a id='2.2.3'></a>\n",
    "### 3.2.3.  Features elimination based on the correlation"
   ]
  },
  {
   "cell_type": "markdown",
   "metadata": {},
   "source": [
    "### Now remove all of the features with a correlation of under 3% with the  charge-off label. List the names of the features you are removing."
   ]
  },
  {
   "cell_type": "code",
   "execution_count": 225,
   "metadata": {},
   "outputs": [
    {
     "data": {
      "text/plain": [
       "<matplotlib.axes._subplots.AxesSubplot at 0x7fb827d5ce50>"
      ]
     },
     "execution_count": 225,
     "metadata": {},
     "output_type": "execute_result"
    },
    {
     "data": {
      "image/png": "[encoded data removed]",
      "text/plain": [
       "<Figure size 2160x864 with 2 Axes>"
      ]
     },
     "metadata": {
      "needs_background": "light"
     },
     "output_type": "display_data"
    }
   ],
   "source": [
    "# Let's check te correalation matrix\n",
    "corr = dataset_1.corr(method='pearson')\n",
    "plt.figure(figsize=(30,12))\n",
    "# Generate a mask for the upper triangle\n",
    "mask = np.triu(np.ones_like(corr, dtype=bool))\n",
    "sns.heatmap(corr,mask=mask,cmap=mpl.cm.Blues,annot=True)"
   ]
  },
  {
   "cell_type": "code",
   "execution_count": 226,
   "metadata": {},
   "outputs": [
    {
     "name": "stdout",
     "output_type": "stream",
     "text": [
      "last_pymnt_amnt         -0.319081\n",
      "fico_range_low          -0.121892\n",
      "fico_range_high         -0.121891\n",
      "bc_open_to_buy          -0.080077\n",
      "avg_cur_bal             -0.071977\n",
      "mort_acc                -0.057858\n",
      "annual_inc              -0.050349\n",
      "mo_sin_old_rev_tl_op    -0.049426\n",
      "mo_sin_rcnt_rev_tl_op   -0.048839\n",
      "revol_bal               -0.021714\n",
      "id                       0.002221\n",
      "total_acc                0.005804\n",
      "pub_rec_bankruptcies     0.015815\n",
      "pub_rec                  0.016023\n",
      "installment              0.032847\n",
      "open_acc                 0.039430\n",
      "funded_amnt              0.060818\n",
      "loan_amnt                0.060818\n",
      "revol_util               0.066188\n",
      "num_actv_rev_tl          0.071185\n",
      "bc_util                  0.077744\n",
      "acc_open_past_24mths     0.105989\n",
      "dti                      0.123108\n",
      "int_rate                 0.282825\n",
      "loan_status              1.000000\n",
      "Name: loan_status, dtype: float64\n"
     ]
    }
   ],
   "source": [
    "# Check the correlation between all the features and our target loan_status\n",
    "print(dataset_1.corr(method='pearson')['loan_status'].sort_values())"
   ]
  },
  {
   "cell_type": "code",
   "execution_count": 227,
   "metadata": {},
   "outputs": [
    {
     "data": {
      "text/html": [
       "<div>\n",
       "<style scoped>\n",
       "    .dataframe tbody tr th:only-of-type {\n",
       "        vertical-align: middle;\n",
       "    }\n",
       "\n",
       "    .dataframe tbody tr th {\n",
       "        vertical-align: top;\n",
       "    }\n",
       "\n",
       "    .dataframe thead th {\n",
       "        text-align: right;\n",
       "    }\n",
       "</style>\n",
       "<table border=\"1\" class=\"dataframe\">\n",
       "  <thead>\n",
       "    <tr style=\"text-align: right;\">\n",
       "      <th></th>\n",
       "      <th>loan_amnt</th>\n",
       "      <th>funded_amnt</th>\n",
       "      <th>term</th>\n",
       "      <th>int_rate</th>\n",
       "      <th>installment</th>\n",
       "      <th>grade</th>\n",
       "      <th>sub_grade</th>\n",
       "      <th>emp_title</th>\n",
       "      <th>emp_length</th>\n",
       "      <th>home_ownership</th>\n",
       "      <th>...</th>\n",
       "      <th>last_pymnt_amnt</th>\n",
       "      <th>application_type</th>\n",
       "      <th>acc_open_past_24mths</th>\n",
       "      <th>avg_cur_bal</th>\n",
       "      <th>bc_open_to_buy</th>\n",
       "      <th>bc_util</th>\n",
       "      <th>mo_sin_old_rev_tl_op</th>\n",
       "      <th>mo_sin_rcnt_rev_tl_op</th>\n",
       "      <th>mort_acc</th>\n",
       "      <th>num_actv_rev_tl</th>\n",
       "    </tr>\n",
       "  </thead>\n",
       "  <tbody>\n",
       "    <tr>\n",
       "      <th>0</th>\n",
       "      <td>15000.0</td>\n",
       "      <td>15000.0</td>\n",
       "      <td>60 months</td>\n",
       "      <td>12.39</td>\n",
       "      <td>336.64</td>\n",
       "      <td>C</td>\n",
       "      <td>C1</td>\n",
       "      <td>MANAGEMENT</td>\n",
       "      <td>10+ years</td>\n",
       "      <td>RENT</td>\n",
       "      <td>...</td>\n",
       "      <td>12017.81</td>\n",
       "      <td>Individual</td>\n",
       "      <td>5.0</td>\n",
       "      <td>29828.0</td>\n",
       "      <td>9525.0</td>\n",
       "      <td>4.7</td>\n",
       "      <td>244.0</td>\n",
       "      <td>1.0</td>\n",
       "      <td>0.0</td>\n",
       "      <td>4.0</td>\n",
       "    </tr>\n",
       "    <tr>\n",
       "      <th>2</th>\n",
       "      <td>21425.0</td>\n",
       "      <td>21425.0</td>\n",
       "      <td>60 months</td>\n",
       "      <td>15.59</td>\n",
       "      <td>516.36</td>\n",
       "      <td>D</td>\n",
       "      <td>D1</td>\n",
       "      <td>Programming Analysis Supervisor</td>\n",
       "      <td>6 years</td>\n",
       "      <td>RENT</td>\n",
       "      <td>...</td>\n",
       "      <td>17813.19</td>\n",
       "      <td>Individual</td>\n",
       "      <td>4.0</td>\n",
       "      <td>4232.0</td>\n",
       "      <td>324.0</td>\n",
       "      <td>97.8</td>\n",
       "      <td>136.0</td>\n",
       "      <td>7.0</td>\n",
       "      <td>0.0</td>\n",
       "      <td>4.0</td>\n",
       "    </tr>\n",
       "    <tr>\n",
       "      <th>5</th>\n",
       "      <td>9600.0</td>\n",
       "      <td>9600.0</td>\n",
       "      <td>36 months</td>\n",
       "      <td>13.66</td>\n",
       "      <td>326.53</td>\n",
       "      <td>C</td>\n",
       "      <td>C3</td>\n",
       "      <td>Admin Specialist</td>\n",
       "      <td>10+ years</td>\n",
       "      <td>RENT</td>\n",
       "      <td>...</td>\n",
       "      <td>9338.58</td>\n",
       "      <td>Individual</td>\n",
       "      <td>8.0</td>\n",
       "      <td>3214.0</td>\n",
       "      <td>6494.0</td>\n",
       "      <td>69.2</td>\n",
       "      <td>265.0</td>\n",
       "      <td>23.0</td>\n",
       "      <td>0.0</td>\n",
       "      <td>7.0</td>\n",
       "    </tr>\n",
       "    <tr>\n",
       "      <th>6</th>\n",
       "      <td>2500.0</td>\n",
       "      <td>2500.0</td>\n",
       "      <td>36 months</td>\n",
       "      <td>11.99</td>\n",
       "      <td>83.03</td>\n",
       "      <td>B</td>\n",
       "      <td>B5</td>\n",
       "      <td>Manufacturing Engineer</td>\n",
       "      <td>&lt; 1 year</td>\n",
       "      <td>MORTGAGE</td>\n",
       "      <td>...</td>\n",
       "      <td>2294.26</td>\n",
       "      <td>Individual</td>\n",
       "      <td>6.0</td>\n",
       "      <td>44136.0</td>\n",
       "      <td>1333.0</td>\n",
       "      <td>86.4</td>\n",
       "      <td>148.0</td>\n",
       "      <td>24.0</td>\n",
       "      <td>5.0</td>\n",
       "      <td>4.0</td>\n",
       "    </tr>\n",
       "    <tr>\n",
       "      <th>7</th>\n",
       "      <td>16000.0</td>\n",
       "      <td>16000.0</td>\n",
       "      <td>60 months</td>\n",
       "      <td>11.44</td>\n",
       "      <td>351.40</td>\n",
       "      <td>B</td>\n",
       "      <td>B4</td>\n",
       "      <td>Foreign Service Officer</td>\n",
       "      <td>6 years</td>\n",
       "      <td>OWN</td>\n",
       "      <td>...</td>\n",
       "      <td>4935.54</td>\n",
       "      <td>Individual</td>\n",
       "      <td>3.0</td>\n",
       "      <td>53392.0</td>\n",
       "      <td>2559.0</td>\n",
       "      <td>72.2</td>\n",
       "      <td>133.0</td>\n",
       "      <td>17.0</td>\n",
       "      <td>2.0</td>\n",
       "      <td>3.0</td>\n",
       "    </tr>\n",
       "  </tbody>\n",
       "</table>\n",
       "<p>5 rows × 34 columns</p>\n",
       "</div>"
      ],
      "text/plain": [
       "   loan_amnt  funded_amnt        term  int_rate  installment grade sub_grade  \\\n",
       "0    15000.0      15000.0   60 months     12.39       336.64     C        C1   \n",
       "2    21425.0      21425.0   60 months     15.59       516.36     D        D1   \n",
       "5     9600.0       9600.0   36 months     13.66       326.53     C        C3   \n",
       "6     2500.0       2500.0   36 months     11.99        83.03     B        B5   \n",
       "7    16000.0      16000.0   60 months     11.44       351.40     B        B4   \n",
       "\n",
       "                         emp_title emp_length home_ownership  ...  \\\n",
       "0                       MANAGEMENT  10+ years           RENT  ...   \n",
       "2  Programming Analysis Supervisor    6 years           RENT  ...   \n",
       "5                 Admin Specialist  10+ years           RENT  ...   \n",
       "6           Manufacturing Engineer   < 1 year       MORTGAGE  ...   \n",
       "7          Foreign Service Officer    6 years            OWN  ...   \n",
       "\n",
       "   last_pymnt_amnt application_type  acc_open_past_24mths avg_cur_bal  \\\n",
       "0         12017.81       Individual                   5.0     29828.0   \n",
       "2         17813.19       Individual                   4.0      4232.0   \n",
       "5          9338.58       Individual                   8.0      3214.0   \n",
       "6          2294.26       Individual                   6.0     44136.0   \n",
       "7          4935.54       Individual                   3.0     53392.0   \n",
       "\n",
       "  bc_open_to_buy bc_util mo_sin_old_rev_tl_op  mo_sin_rcnt_rev_tl_op mort_acc  \\\n",
       "0         9525.0     4.7                244.0                    1.0      0.0   \n",
       "2          324.0    97.8                136.0                    7.0      0.0   \n",
       "5         6494.0    69.2                265.0                   23.0      0.0   \n",
       "6         1333.0    86.4                148.0                   24.0      5.0   \n",
       "7         2559.0    72.2                133.0                   17.0      2.0   \n",
       "\n",
       "   num_actv_rev_tl  \n",
       "0              4.0  \n",
       "2              4.0  \n",
       "5              7.0  \n",
       "6              4.0  \n",
       "7              3.0  \n",
       "\n",
       "[5 rows x 34 columns]"
      ]
     },
     "execution_count": 227,
     "metadata": {},
     "output_type": "execute_result"
    }
   ],
   "source": [
    "# Drop the features that have less than 0.03 correlation value with loan_status as required\n",
    "drop_list=[]\n",
    "for i in range(len(corr)):\n",
    "    if abs(corr['loan_status'][i]) < 0.03:\n",
    "        dataset_1 = dataset_1.drop([corr.columns[i]],axis=1)\n",
    "        drop_list.append(corr.columns[i])\n",
    "dataset_1.head()"
   ]
  },
  {
   "cell_type": "code",
   "execution_count": 228,
   "metadata": {},
   "outputs": [
    {
     "name": "stdout",
     "output_type": "stream",
     "text": [
      "['id', 'pub_rec', 'revol_bal', 'total_acc', 'pub_rec_bankruptcies']\n"
     ]
    }
   ],
   "source": [
    "# Print the list that we dropped\n",
    "print(drop_list)"
   ]
  },
  {
   "cell_type": "markdown",
   "metadata": {},
   "source": [
    "### How large is the resulting dataset ?"
   ]
  },
  {
   "cell_type": "code",
   "execution_count": 229,
   "metadata": {},
   "outputs": [
    {
     "data": {
      "text/plain": [
       "(86138, 34)"
      ]
     },
     "execution_count": 229,
     "metadata": {},
     "output_type": "execute_result"
    }
   ],
   "source": [
    "# check again the shape\n",
    "dataset_1.shape"
   ]
  },
  {
   "cell_type": "markdown",
   "metadata": {},
   "source": [
    "<a id='3'></a>\n",
    "# 4. Feature Engineering and Exploratory Analysis"
   ]
  },
  {
   "cell_type": "markdown",
   "metadata": {},
   "source": [
    "### Examine the properties of the remaining features."
   ]
  },
  {
   "cell_type": "code",
   "execution_count": 230,
   "metadata": {},
   "outputs": [
    {
     "name": "stdout",
     "output_type": "stream",
     "text": [
      "<class 'pandas.core.frame.DataFrame'>\n",
      "Int64Index: 86138 entries, 0 to 99998\n",
      "Data columns (total 34 columns):\n",
      " #   Column                 Non-Null Count  Dtype  \n",
      "---  ------                 --------------  -----  \n",
      " 0   loan_amnt              86138 non-null  float64\n",
      " 1   funded_amnt            86138 non-null  float64\n",
      " 2   term                   86138 non-null  object \n",
      " 3   int_rate               86138 non-null  float64\n",
      " 4   installment            86138 non-null  float64\n",
      " 5   grade                  86138 non-null  object \n",
      " 6   sub_grade              86138 non-null  object \n",
      " 7   emp_title              81416 non-null  object \n",
      " 8   emp_length             81421 non-null  object \n",
      " 9   home_ownership         86138 non-null  object \n",
      " 10  annual_inc             86138 non-null  float64\n",
      " 11  verification_status    86138 non-null  object \n",
      " 12  loan_status            86138 non-null  int64  \n",
      " 13  purpose                86138 non-null  object \n",
      " 14  title                  86138 non-null  object \n",
      " 15  zip_code               86138 non-null  object \n",
      " 16  addr_state             86138 non-null  object \n",
      " 17  dti                    86138 non-null  float64\n",
      " 18  earliest_cr_line       86138 non-null  object \n",
      " 19  fico_range_low         86138 non-null  float64\n",
      " 20  fico_range_high        86138 non-null  float64\n",
      " 21  open_acc               86138 non-null  float64\n",
      " 22  revol_util             86094 non-null  float64\n",
      " 23  initial_list_status    86138 non-null  object \n",
      " 24  last_pymnt_amnt        86138 non-null  float64\n",
      " 25  application_type       86138 non-null  object \n",
      " 26  acc_open_past_24mths   86138 non-null  float64\n",
      " 27  avg_cur_bal            86138 non-null  float64\n",
      " 28  bc_open_to_buy         85142 non-null  float64\n",
      " 29  bc_util                85089 non-null  float64\n",
      " 30  mo_sin_old_rev_tl_op   86138 non-null  float64\n",
      " 31  mo_sin_rcnt_rev_tl_op  86138 non-null  float64\n",
      " 32  mort_acc               86138 non-null  float64\n",
      " 33  num_actv_rev_tl        86138 non-null  float64\n",
      "dtypes: float64(19), int64(1), object(14)\n",
      "memory usage: 23.0+ MB\n"
     ]
    }
   ],
   "source": [
    "dataset_1.info()"
   ]
  },
  {
   "cell_type": "code",
   "execution_count": 231,
   "metadata": {},
   "outputs": [
    {
     "data": {
      "text/plain": [
       "Text(55000, 1, '0: Fully Paid')"
      ]
     },
     "execution_count": 231,
     "metadata": {},
     "output_type": "execute_result"
    },
    {
     "data": {
      "image/png": "[encoded data removed]",
      "text/plain": [
       "<Figure size 432x288 with 1 Axes>"
      ]
     },
     "metadata": {
      "needs_background": "light"
     },
     "output_type": "display_data"
    }
   ],
   "source": [
    "# Check the loan_status target\n",
    "dataset_1['loan_status'].value_counts().plot(kind='barh')\n",
    "plt.title('Loan Status Counts')\n",
    "plt.xlabel('Counts number')\n",
    "plt.ylabel('Loan status')\n",
    "plt.text(55000,1.1,\"1: Charged Off\")\n",
    "plt.text(55000,1,\"0: Fully Paid\")"
   ]
  },
  {
   "cell_type": "code",
   "execution_count": 232,
   "metadata": {},
   "outputs": [
    {
     "data": {
      "text/html": [
       "<div>\n",
       "<style scoped>\n",
       "    .dataframe tbody tr th:only-of-type {\n",
       "        vertical-align: middle;\n",
       "    }\n",
       "\n",
       "    .dataframe tbody tr th {\n",
       "        vertical-align: top;\n",
       "    }\n",
       "\n",
       "    .dataframe thead th {\n",
       "        text-align: right;\n",
       "    }\n",
       "</style>\n",
       "<table border=\"1\" class=\"dataframe\">\n",
       "  <thead>\n",
       "    <tr style=\"text-align: right;\">\n",
       "      <th></th>\n",
       "      <th>loan_amnt</th>\n",
       "      <th>funded_amnt</th>\n",
       "      <th>int_rate</th>\n",
       "      <th>installment</th>\n",
       "      <th>annual_inc</th>\n",
       "      <th>loan_status</th>\n",
       "      <th>dti</th>\n",
       "      <th>fico_range_low</th>\n",
       "      <th>fico_range_high</th>\n",
       "      <th>open_acc</th>\n",
       "      <th>revol_util</th>\n",
       "      <th>last_pymnt_amnt</th>\n",
       "      <th>acc_open_past_24mths</th>\n",
       "      <th>avg_cur_bal</th>\n",
       "      <th>bc_open_to_buy</th>\n",
       "      <th>bc_util</th>\n",
       "      <th>mo_sin_old_rev_tl_op</th>\n",
       "      <th>mo_sin_rcnt_rev_tl_op</th>\n",
       "      <th>mort_acc</th>\n",
       "      <th>num_actv_rev_tl</th>\n",
       "    </tr>\n",
       "  </thead>\n",
       "  <tbody>\n",
       "    <tr>\n",
       "      <th>count</th>\n",
       "      <td>86138.000000</td>\n",
       "      <td>86138.000000</td>\n",
       "      <td>86138.000000</td>\n",
       "      <td>86138.000000</td>\n",
       "      <td>8.613800e+04</td>\n",
       "      <td>86138.000000</td>\n",
       "      <td>86138.000000</td>\n",
       "      <td>86138.000000</td>\n",
       "      <td>86138.000000</td>\n",
       "      <td>86138.000000</td>\n",
       "      <td>86094.000000</td>\n",
       "      <td>86138.000000</td>\n",
       "      <td>86138.000000</td>\n",
       "      <td>86138.000000</td>\n",
       "      <td>85142.000000</td>\n",
       "      <td>85089.000000</td>\n",
       "      <td>86138.000000</td>\n",
       "      <td>86138.000000</td>\n",
       "      <td>86138.000000</td>\n",
       "      <td>86138.000000</td>\n",
       "    </tr>\n",
       "    <tr>\n",
       "      <th>mean</th>\n",
       "      <td>14106.526446</td>\n",
       "      <td>14106.526446</td>\n",
       "      <td>13.002360</td>\n",
       "      <td>430.737187</td>\n",
       "      <td>7.384311e+04</td>\n",
       "      <td>0.187559</td>\n",
       "      <td>18.532747</td>\n",
       "      <td>692.462966</td>\n",
       "      <td>696.463024</td>\n",
       "      <td>11.746453</td>\n",
       "      <td>54.582777</td>\n",
       "      <td>4757.453184</td>\n",
       "      <td>4.594732</td>\n",
       "      <td>13066.638371</td>\n",
       "      <td>8942.506507</td>\n",
       "      <td>63.808959</td>\n",
       "      <td>183.524333</td>\n",
       "      <td>12.796896</td>\n",
       "      <td>1.748880</td>\n",
       "      <td>5.762358</td>\n",
       "    </tr>\n",
       "    <tr>\n",
       "      <th>std</th>\n",
       "      <td>8391.139221</td>\n",
       "      <td>8391.139221</td>\n",
       "      <td>4.397419</td>\n",
       "      <td>251.653139</td>\n",
       "      <td>5.929352e+04</td>\n",
       "      <td>0.390362</td>\n",
       "      <td>8.538247</td>\n",
       "      <td>29.731549</td>\n",
       "      <td>29.731848</td>\n",
       "      <td>5.433122</td>\n",
       "      <td>23.515901</td>\n",
       "      <td>6466.767327</td>\n",
       "      <td>3.070996</td>\n",
       "      <td>16232.739293</td>\n",
       "      <td>14100.186250</td>\n",
       "      <td>27.051347</td>\n",
       "      <td>93.266430</td>\n",
       "      <td>16.224586</td>\n",
       "      <td>2.091488</td>\n",
       "      <td>3.224598</td>\n",
       "    </tr>\n",
       "    <tr>\n",
       "      <th>min</th>\n",
       "      <td>1000.000000</td>\n",
       "      <td>1000.000000</td>\n",
       "      <td>6.000000</td>\n",
       "      <td>30.420000</td>\n",
       "      <td>4.000000e+03</td>\n",
       "      <td>0.000000</td>\n",
       "      <td>0.000000</td>\n",
       "      <td>660.000000</td>\n",
       "      <td>664.000000</td>\n",
       "      <td>1.000000</td>\n",
       "      <td>0.000000</td>\n",
       "      <td>0.000000</td>\n",
       "      <td>0.000000</td>\n",
       "      <td>0.000000</td>\n",
       "      <td>0.000000</td>\n",
       "      <td>0.000000</td>\n",
       "      <td>3.000000</td>\n",
       "      <td>0.000000</td>\n",
       "      <td>0.000000</td>\n",
       "      <td>0.000000</td>\n",
       "    </tr>\n",
       "    <tr>\n",
       "      <th>25%</th>\n",
       "      <td>7800.000000</td>\n",
       "      <td>7800.000000</td>\n",
       "      <td>9.490000</td>\n",
       "      <td>248.480000</td>\n",
       "      <td>4.500000e+04</td>\n",
       "      <td>0.000000</td>\n",
       "      <td>12.070000</td>\n",
       "      <td>670.000000</td>\n",
       "      <td>674.000000</td>\n",
       "      <td>8.000000</td>\n",
       "      <td>37.200000</td>\n",
       "      <td>358.522500</td>\n",
       "      <td>2.000000</td>\n",
       "      <td>3010.000000</td>\n",
       "      <td>1087.000000</td>\n",
       "      <td>44.100000</td>\n",
       "      <td>118.000000</td>\n",
       "      <td>3.000000</td>\n",
       "      <td>0.000000</td>\n",
       "      <td>3.000000</td>\n",
       "    </tr>\n",
       "    <tr>\n",
       "      <th>50%</th>\n",
       "      <td>12000.000000</td>\n",
       "      <td>12000.000000</td>\n",
       "      <td>12.990000</td>\n",
       "      <td>370.480000</td>\n",
       "      <td>6.247372e+04</td>\n",
       "      <td>0.000000</td>\n",
       "      <td>17.950000</td>\n",
       "      <td>685.000000</td>\n",
       "      <td>689.000000</td>\n",
       "      <td>11.000000</td>\n",
       "      <td>54.900000</td>\n",
       "      <td>1241.230000</td>\n",
       "      <td>4.000000</td>\n",
       "      <td>6994.500000</td>\n",
       "      <td>3823.000000</td>\n",
       "      <td>67.700000</td>\n",
       "      <td>167.000000</td>\n",
       "      <td>8.000000</td>\n",
       "      <td>1.000000</td>\n",
       "      <td>5.000000</td>\n",
       "    </tr>\n",
       "    <tr>\n",
       "      <th>75%</th>\n",
       "      <td>20000.000000</td>\n",
       "      <td>20000.000000</td>\n",
       "      <td>15.610000</td>\n",
       "      <td>568.005000</td>\n",
       "      <td>9.000000e+04</td>\n",
       "      <td>0.000000</td>\n",
       "      <td>24.500000</td>\n",
       "      <td>705.000000</td>\n",
       "      <td>709.000000</td>\n",
       "      <td>14.000000</td>\n",
       "      <td>72.500000</td>\n",
       "      <td>7303.205000</td>\n",
       "      <td>6.000000</td>\n",
       "      <td>17905.000000</td>\n",
       "      <td>10588.000000</td>\n",
       "      <td>87.500000</td>\n",
       "      <td>232.000000</td>\n",
       "      <td>15.000000</td>\n",
       "      <td>3.000000</td>\n",
       "      <td>7.000000</td>\n",
       "    </tr>\n",
       "    <tr>\n",
       "      <th>max</th>\n",
       "      <td>35000.000000</td>\n",
       "      <td>35000.000000</td>\n",
       "      <td>26.060000</td>\n",
       "      <td>1408.130000</td>\n",
       "      <td>7.500000e+06</td>\n",
       "      <td>1.000000</td>\n",
       "      <td>39.990000</td>\n",
       "      <td>845.000000</td>\n",
       "      <td>850.000000</td>\n",
       "      <td>84.000000</td>\n",
       "      <td>180.300000</td>\n",
       "      <td>36234.440000</td>\n",
       "      <td>53.000000</td>\n",
       "      <td>447433.000000</td>\n",
       "      <td>249625.000000</td>\n",
       "      <td>255.200000</td>\n",
       "      <td>718.000000</td>\n",
       "      <td>372.000000</td>\n",
       "      <td>34.000000</td>\n",
       "      <td>38.000000</td>\n",
       "    </tr>\n",
       "  </tbody>\n",
       "</table>\n",
       "</div>"
      ],
      "text/plain": [
       "          loan_amnt   funded_amnt      int_rate   installment    annual_inc  \\\n",
       "count  86138.000000  86138.000000  86138.000000  86138.000000  8.613800e+04   \n",
       "mean   14106.526446  14106.526446     13.002360    430.737187  7.384311e+04   \n",
       "std     8391.139221   8391.139221      4.397419    251.653139  5.929352e+04   \n",
       "min     1000.000000   1000.000000      6.000000     30.420000  4.000000e+03   \n",
       "25%     7800.000000   7800.000000      9.490000    248.480000  4.500000e+04   \n",
       "50%    12000.000000  12000.000000     12.990000    370.480000  6.247372e+04   \n",
       "75%    20000.000000  20000.000000     15.610000    568.005000  9.000000e+04   \n",
       "max    35000.000000  35000.000000     26.060000   1408.130000  7.500000e+06   \n",
       "\n",
       "        loan_status           dti  fico_range_low  fico_range_high  \\\n",
       "count  86138.000000  86138.000000    86138.000000     86138.000000   \n",
       "mean       0.187559     18.532747      692.462966       696.463024   \n",
       "std        0.390362      8.538247       29.731549        29.731848   \n",
       "min        0.000000      0.000000      660.000000       664.000000   \n",
       "25%        0.000000     12.070000      670.000000       674.000000   \n",
       "50%        0.000000     17.950000      685.000000       689.000000   \n",
       "75%        0.000000     24.500000      705.000000       709.000000   \n",
       "max        1.000000     39.990000      845.000000       850.000000   \n",
       "\n",
       "           open_acc    revol_util  last_pymnt_amnt  acc_open_past_24mths  \\\n",
       "count  86138.000000  86094.000000     86138.000000          86138.000000   \n",
       "mean      11.746453     54.582777      4757.453184              4.594732   \n",
       "std        5.433122     23.515901      6466.767327              3.070996   \n",
       "min        1.000000      0.000000         0.000000              0.000000   \n",
       "25%        8.000000     37.200000       358.522500              2.000000   \n",
       "50%       11.000000     54.900000      1241.230000              4.000000   \n",
       "75%       14.000000     72.500000      7303.205000              6.000000   \n",
       "max       84.000000    180.300000     36234.440000             53.000000   \n",
       "\n",
       "         avg_cur_bal  bc_open_to_buy       bc_util  mo_sin_old_rev_tl_op  \\\n",
       "count   86138.000000    85142.000000  85089.000000          86138.000000   \n",
       "mean    13066.638371     8942.506507     63.808959            183.524333   \n",
       "std     16232.739293    14100.186250     27.051347             93.266430   \n",
       "min         0.000000        0.000000      0.000000              3.000000   \n",
       "25%      3010.000000     1087.000000     44.100000            118.000000   \n",
       "50%      6994.500000     3823.000000     67.700000            167.000000   \n",
       "75%     17905.000000    10588.000000     87.500000            232.000000   \n",
       "max    447433.000000   249625.000000    255.200000            718.000000   \n",
       "\n",
       "       mo_sin_rcnt_rev_tl_op      mort_acc  num_actv_rev_tl  \n",
       "count           86138.000000  86138.000000     86138.000000  \n",
       "mean               12.796896      1.748880         5.762358  \n",
       "std                16.224586      2.091488         3.224598  \n",
       "min                 0.000000      0.000000         0.000000  \n",
       "25%                 3.000000      0.000000         3.000000  \n",
       "50%                 8.000000      1.000000         5.000000  \n",
       "75%                15.000000      3.000000         7.000000  \n",
       "max               372.000000     34.000000        38.000000  "
      ]
     },
     "execution_count": 232,
     "metadata": {},
     "output_type": "execute_result"
    }
   ],
   "source": [
    "# Check the statistics amoung all features\n",
    "dataset_1.describe()"
   ]
  },
  {
   "cell_type": "markdown",
   "metadata": {},
   "source": [
    "<a id='3.1'></a>\n",
    "## 4.1 Feature Analysis and Exploration"
   ]
  },
  {
   "cell_type": "markdown",
   "metadata": {},
   "source": [
    "<a id='3.1.1'></a>\n",
    "### 4.1.1. Analysing the categorical features "
   ]
  },
  {
   "cell_type": "markdown",
   "metadata": {},
   "source": [
    "### List the categorical features and take a decision on what to do with them - drop them or process them. Explain your decisions."
   ]
  },
  {
   "cell_type": "code",
   "execution_count": 233,
   "metadata": {},
   "outputs": [
    {
     "name": "stdout",
     "output_type": "stream",
     "text": [
      "['term', 'grade', 'sub_grade', 'emp_title', 'emp_length', 'home_ownership', 'verification_status', 'purpose', 'title', 'zip_code', 'addr_state', 'earliest_cr_line', 'initial_list_status', 'application_type']\n"
     ]
    }
   ],
   "source": [
    "# List the categorical features\n",
    "print([column for column in dataset_1.columns if dataset_1[column].dtype == object])"
   ]
  },
  {
   "cell_type": "code",
   "execution_count": 234,
   "metadata": {},
   "outputs": [
    {
     "name": "stdout",
     "output_type": "stream",
     "text": [
      "term - labels number =  2 \n",
      "\n",
      "grade - labels number =  7 \n",
      "\n",
      "sub_grade - labels number =  35 \n",
      "\n",
      "emp_title - labels number =  32988 \n",
      "\n",
      "emp_length - labels number =  12 \n",
      "\n",
      "home_ownership - labels number =  4 \n",
      "\n",
      "verification_status - labels number =  3 \n",
      "\n",
      "purpose - labels number =  13 \n",
      "\n",
      "title - labels number =  20 \n",
      "\n",
      "zip_code - labels number =  846 \n",
      "\n",
      "addr_state - labels number =  46 \n",
      "\n",
      "earliest_cr_line - labels number =  598 \n",
      "\n",
      "initial_list_status - labels number =  2 \n",
      "\n",
      "application_type - labels number =  1 \n",
      "\n"
     ]
    }
   ],
   "source": [
    "# Check the labels number of all categorical features\n",
    "for i in range(len(dataset_1.select_dtypes(include=['object']).columns)):\n",
    "    print(str(dataset_1.select_dtypes(include=['object']).columns[i]) + \" - labels number = \",len(dataset_1.select_dtypes(include=['object']).iloc[:,i].unique()),\"\\n\")"
   ]
  },
  {
   "cell_type": "markdown",
   "metadata": {},
   "source": [
    "<font color='darkblue'> We decide to drop the **emp_title**, **zip_code** and **earliest_cr_line** features as they have too many different labels and intuitively they don not contain much useful information. We will also drop the **application_type** feature as it only has one single label value and thus it has no explanatory power."
   ]
  },
  {
   "cell_type": "code",
   "execution_count": 235,
   "metadata": {},
   "outputs": [],
   "source": [
    "# Define a function that plot the percentage of \"charge off\" and \"fully paid\" within each feature\n",
    "def plot_function(feature, dataset = dataset_1, width=0.4):\n",
    "    \"\"\"\n",
    "    plot function showing the charge-off rate and fully paid rate for different feature within the dataset chosen\n",
    "    feature: categorical feature name within the dataset\n",
    "    dataset:defauled as our loans dataset\n",
    "    \"\"\"\n",
    "    # generate feature labels to list\n",
    "    labels = sorted(dataset[feature].unique().tolist())\n",
    "    #count the values for each feature label\n",
    "    feature_counts = dataset[feature].value_counts().sort_index()\n",
    "    #compute the fully paid rate and charge off rate\n",
    "    fp_percentage = dataset[dataset.loan_status==0][feature].value_counts().sort_index() / feature_counts\n",
    "    cf_percentage =  dataset[dataset.loan_status==1][feature].value_counts().sort_index() / feature_counts\n",
    "    x = np.arange(len(labels))\n",
    "    #Plot\n",
    "    fig,ax = plt.subplots(figsize=(7,6))\n",
    "    ax.bar(x-width/2,fp_percentage,width,label='Fully Paid Rate')\n",
    "    ax.bar(x+width/2,cf_percentage,width,label='Charged Off Rate')\n",
    "    ax.set_title('Percentage by feature = ' + str(feature))\n",
    "    ax.set_ylabel('Percentage')\n",
    "    ax.set_xticks(x)\n",
    "    ax.set_xticklabels(labels,rotation=90)\n",
    "    ax.legend()\n",
    "    plt.tight_layout()\n",
    "    \n",
    "    return plt"
   ]
  },
  {
   "cell_type": "code",
   "execution_count": 236,
   "metadata": {},
   "outputs": [
    {
     "data": {
      "text/plain": [
       "<module 'matplotlib.pyplot' from '/Users/cenghui/opt/anaconda3/lib/python3.8/site-packages/matplotlib/pyplot.py'>"
      ]
     },
     "execution_count": 236,
     "metadata": {},
     "output_type": "execute_result"
    },
    {
     "data": {
      "image/png": "[encoded data removed]",
      "text/plain": [
       "<Figure size 504x432 with 1 Axes>"
      ]
     },
     "metadata": {
      "needs_background": "light"
     },
     "output_type": "display_data"
    },
    {
     "data": {
      "image/png": "[encoded data removed]",
      "text/plain": [
       "<Figure size 504x432 with 1 Axes>"
      ]
     },
     "metadata": {
      "needs_background": "light"
     },
     "output_type": "display_data"
    },
    {
     "data": {
      "image/png": "[encoded data removed]",
      "text/plain": [
       "<Figure size 504x432 with 1 Axes>"
      ]
     },
     "metadata": {
      "needs_background": "light"
     },
     "output_type": "display_data"
    },
    {
     "data": {
      "image/png": "[encoded data removed]",
      "text/plain": [
       "<Figure size 504x432 with 1 Axes>"
      ]
     },
     "metadata": {
      "needs_background": "light"
     },
     "output_type": "display_data"
    },
    {
     "data": {
      "image/png": "[encoded data removed]",
      "text/plain": [
       "<Figure size 504x432 with 1 Axes>"
      ]
     },
     "metadata": {
      "needs_background": "light"
     },
     "output_type": "display_data"
    }
   ],
   "source": [
    "# Let's plot and check the following features' fully paid rate and charge off rate\n",
    "plot_function(feature='term', dataset = dataset_1,width=0.4)\n",
    "plot_function(feature='home_ownership', dataset = dataset_1,width=0.4)\n",
    "plot_function(feature='verification_status',dataset = dataset_1,width=0.4)\n",
    "plot_function(feature='addr_state',dataset = dataset_1,width=0.4)\n",
    "plot_function(feature='initial_list_status',dataset = dataset_1,width=0.4)"
   ]
  },
  {
   "cell_type": "markdown",
   "metadata": {},
   "source": [
    "<font color = 'darkblue'> Description on the plots above and reasons to keep them: As per the plots above, we can notice that these features have distinct charged off rates across their labels. For instance, a 60-month loan tends to have a higher default rate than a 36-month loan; People who are paying mortgagae or already own a property are less likely to default than those who rent etc. Since these feature all express some explanatory power, we decide to process them."
   ]
  },
  {
   "cell_type": "code",
   "execution_count": 237,
   "metadata": {},
   "outputs": [
    {
     "data": {
      "text/plain": [
       "<module 'matplotlib.pyplot' from '/Users/cenghui/opt/anaconda3/lib/python3.8/site-packages/matplotlib/pyplot.py'>"
      ]
     },
     "execution_count": 237,
     "metadata": {},
     "output_type": "execute_result"
    },
    {
     "data": {
      "image/png": "[encoded data removed]",
      "text/plain": [
       "<Figure size 504x432 with 1 Axes>"
      ]
     },
     "metadata": {
      "needs_background": "light"
     },
     "output_type": "display_data"
    },
    {
     "data": {
      "image/png": "[encoded data removed]",
      "text/plain": [
       "<Figure size 504x432 with 1 Axes>"
      ]
     },
     "metadata": {
      "needs_background": "light"
     },
     "output_type": "display_data"
    }
   ],
   "source": [
    "# Let's plot the percentage for title and purpose feature\n",
    "plot_function(feature='title', dataset = dataset_1,width=0.4)\n",
    "plot_function(feature='purpose', dataset = dataset_1,width=0.4)"
   ]
  },
  {
   "cell_type": "markdown",
   "metadata": {},
   "source": [
    "<font color = 'darkblue'> The reason that we drop the feature 'purpose' is that the information in these two features are very similar and we decided to drop the feature 'purpose' in stead of 'title 'because 'title' has more labels and we think it is more precise and helpful to our predictions. "
   ]
  },
  {
   "cell_type": "code",
   "execution_count": 238,
   "metadata": {},
   "outputs": [
    {
     "data": {
      "text/html": [
       "<div>\n",
       "<style scoped>\n",
       "    .dataframe tbody tr th:only-of-type {\n",
       "        vertical-align: middle;\n",
       "    }\n",
       "\n",
       "    .dataframe tbody tr th {\n",
       "        vertical-align: top;\n",
       "    }\n",
       "\n",
       "    .dataframe thead th {\n",
       "        text-align: right;\n",
       "    }\n",
       "</style>\n",
       "<table border=\"1\" class=\"dataframe\">\n",
       "  <thead>\n",
       "    <tr style=\"text-align: right;\">\n",
       "      <th></th>\n",
       "      <th>loan_amnt</th>\n",
       "      <th>funded_amnt</th>\n",
       "      <th>term</th>\n",
       "      <th>int_rate</th>\n",
       "      <th>installment</th>\n",
       "      <th>grade</th>\n",
       "      <th>sub_grade</th>\n",
       "      <th>emp_length</th>\n",
       "      <th>home_ownership</th>\n",
       "      <th>annual_inc</th>\n",
       "      <th>...</th>\n",
       "      <th>initial_list_status</th>\n",
       "      <th>last_pymnt_amnt</th>\n",
       "      <th>acc_open_past_24mths</th>\n",
       "      <th>avg_cur_bal</th>\n",
       "      <th>bc_open_to_buy</th>\n",
       "      <th>bc_util</th>\n",
       "      <th>mo_sin_old_rev_tl_op</th>\n",
       "      <th>mo_sin_rcnt_rev_tl_op</th>\n",
       "      <th>mort_acc</th>\n",
       "      <th>num_actv_rev_tl</th>\n",
       "    </tr>\n",
       "  </thead>\n",
       "  <tbody>\n",
       "    <tr>\n",
       "      <th>0</th>\n",
       "      <td>15000.0</td>\n",
       "      <td>15000.0</td>\n",
       "      <td>60 months</td>\n",
       "      <td>12.39</td>\n",
       "      <td>336.64</td>\n",
       "      <td>C</td>\n",
       "      <td>C1</td>\n",
       "      <td>10+ years</td>\n",
       "      <td>RENT</td>\n",
       "      <td>78000.0</td>\n",
       "      <td>...</td>\n",
       "      <td>w</td>\n",
       "      <td>12017.81</td>\n",
       "      <td>5.0</td>\n",
       "      <td>29828.0</td>\n",
       "      <td>9525.0</td>\n",
       "      <td>4.7</td>\n",
       "      <td>244.0</td>\n",
       "      <td>1.0</td>\n",
       "      <td>0.0</td>\n",
       "      <td>4.0</td>\n",
       "    </tr>\n",
       "    <tr>\n",
       "      <th>2</th>\n",
       "      <td>21425.0</td>\n",
       "      <td>21425.0</td>\n",
       "      <td>60 months</td>\n",
       "      <td>15.59</td>\n",
       "      <td>516.36</td>\n",
       "      <td>D</td>\n",
       "      <td>D1</td>\n",
       "      <td>6 years</td>\n",
       "      <td>RENT</td>\n",
       "      <td>63800.0</td>\n",
       "      <td>...</td>\n",
       "      <td>w</td>\n",
       "      <td>17813.19</td>\n",
       "      <td>4.0</td>\n",
       "      <td>4232.0</td>\n",
       "      <td>324.0</td>\n",
       "      <td>97.8</td>\n",
       "      <td>136.0</td>\n",
       "      <td>7.0</td>\n",
       "      <td>0.0</td>\n",
       "      <td>4.0</td>\n",
       "    </tr>\n",
       "    <tr>\n",
       "      <th>5</th>\n",
       "      <td>9600.0</td>\n",
       "      <td>9600.0</td>\n",
       "      <td>36 months</td>\n",
       "      <td>13.66</td>\n",
       "      <td>326.53</td>\n",
       "      <td>C</td>\n",
       "      <td>C3</td>\n",
       "      <td>10+ years</td>\n",
       "      <td>RENT</td>\n",
       "      <td>69000.0</td>\n",
       "      <td>...</td>\n",
       "      <td>f</td>\n",
       "      <td>9338.58</td>\n",
       "      <td>8.0</td>\n",
       "      <td>3214.0</td>\n",
       "      <td>6494.0</td>\n",
       "      <td>69.2</td>\n",
       "      <td>265.0</td>\n",
       "      <td>23.0</td>\n",
       "      <td>0.0</td>\n",
       "      <td>7.0</td>\n",
       "    </tr>\n",
       "    <tr>\n",
       "      <th>6</th>\n",
       "      <td>2500.0</td>\n",
       "      <td>2500.0</td>\n",
       "      <td>36 months</td>\n",
       "      <td>11.99</td>\n",
       "      <td>83.03</td>\n",
       "      <td>B</td>\n",
       "      <td>B5</td>\n",
       "      <td>&lt; 1 year</td>\n",
       "      <td>MORTGAGE</td>\n",
       "      <td>89000.0</td>\n",
       "      <td>...</td>\n",
       "      <td>f</td>\n",
       "      <td>2294.26</td>\n",
       "      <td>6.0</td>\n",
       "      <td>44136.0</td>\n",
       "      <td>1333.0</td>\n",
       "      <td>86.4</td>\n",
       "      <td>148.0</td>\n",
       "      <td>24.0</td>\n",
       "      <td>5.0</td>\n",
       "      <td>4.0</td>\n",
       "    </tr>\n",
       "    <tr>\n",
       "      <th>7</th>\n",
       "      <td>16000.0</td>\n",
       "      <td>16000.0</td>\n",
       "      <td>60 months</td>\n",
       "      <td>11.44</td>\n",
       "      <td>351.40</td>\n",
       "      <td>B</td>\n",
       "      <td>B4</td>\n",
       "      <td>6 years</td>\n",
       "      <td>OWN</td>\n",
       "      <td>109777.0</td>\n",
       "      <td>...</td>\n",
       "      <td>w</td>\n",
       "      <td>4935.54</td>\n",
       "      <td>3.0</td>\n",
       "      <td>53392.0</td>\n",
       "      <td>2559.0</td>\n",
       "      <td>72.2</td>\n",
       "      <td>133.0</td>\n",
       "      <td>17.0</td>\n",
       "      <td>2.0</td>\n",
       "      <td>3.0</td>\n",
       "    </tr>\n",
       "    <tr>\n",
       "      <th>...</th>\n",
       "      <td>...</td>\n",
       "      <td>...</td>\n",
       "      <td>...</td>\n",
       "      <td>...</td>\n",
       "      <td>...</td>\n",
       "      <td>...</td>\n",
       "      <td>...</td>\n",
       "      <td>...</td>\n",
       "      <td>...</td>\n",
       "      <td>...</td>\n",
       "      <td>...</td>\n",
       "      <td>...</td>\n",
       "      <td>...</td>\n",
       "      <td>...</td>\n",
       "      <td>...</td>\n",
       "      <td>...</td>\n",
       "      <td>...</td>\n",
       "      <td>...</td>\n",
       "      <td>...</td>\n",
       "      <td>...</td>\n",
       "      <td>...</td>\n",
       "    </tr>\n",
       "    <tr>\n",
       "      <th>99967</th>\n",
       "      <td>3600.0</td>\n",
       "      <td>3600.0</td>\n",
       "      <td>36 months</td>\n",
       "      <td>12.99</td>\n",
       "      <td>121.29</td>\n",
       "      <td>C</td>\n",
       "      <td>C1</td>\n",
       "      <td>1 year</td>\n",
       "      <td>OWN</td>\n",
       "      <td>52500.0</td>\n",
       "      <td>...</td>\n",
       "      <td>w</td>\n",
       "      <td>425.71</td>\n",
       "      <td>3.0</td>\n",
       "      <td>44549.0</td>\n",
       "      <td>1449.0</td>\n",
       "      <td>58.6</td>\n",
       "      <td>214.0</td>\n",
       "      <td>3.0</td>\n",
       "      <td>3.0</td>\n",
       "      <td>2.0</td>\n",
       "    </tr>\n",
       "    <tr>\n",
       "      <th>99978</th>\n",
       "      <td>28250.0</td>\n",
       "      <td>28250.0</td>\n",
       "      <td>60 months</td>\n",
       "      <td>15.61</td>\n",
       "      <td>681.15</td>\n",
       "      <td>D</td>\n",
       "      <td>D1</td>\n",
       "      <td>9 years</td>\n",
       "      <td>MORTGAGE</td>\n",
       "      <td>82000.0</td>\n",
       "      <td>...</td>\n",
       "      <td>w</td>\n",
       "      <td>681.15</td>\n",
       "      <td>7.0</td>\n",
       "      <td>18704.0</td>\n",
       "      <td>45883.0</td>\n",
       "      <td>31.4</td>\n",
       "      <td>303.0</td>\n",
       "      <td>2.0</td>\n",
       "      <td>6.0</td>\n",
       "      <td>8.0</td>\n",
       "    </tr>\n",
       "    <tr>\n",
       "      <th>99986</th>\n",
       "      <td>19200.0</td>\n",
       "      <td>19200.0</td>\n",
       "      <td>36 months</td>\n",
       "      <td>6.03</td>\n",
       "      <td>584.37</td>\n",
       "      <td>A</td>\n",
       "      <td>A1</td>\n",
       "      <td>8 years</td>\n",
       "      <td>MORTGAGE</td>\n",
       "      <td>79000.0</td>\n",
       "      <td>...</td>\n",
       "      <td>f</td>\n",
       "      <td>584.37</td>\n",
       "      <td>1.0</td>\n",
       "      <td>24442.0</td>\n",
       "      <td>29266.0</td>\n",
       "      <td>11.0</td>\n",
       "      <td>255.0</td>\n",
       "      <td>88.0</td>\n",
       "      <td>1.0</td>\n",
       "      <td>1.0</td>\n",
       "    </tr>\n",
       "    <tr>\n",
       "      <th>99992</th>\n",
       "      <td>8800.0</td>\n",
       "      <td>8800.0</td>\n",
       "      <td>36 months</td>\n",
       "      <td>22.15</td>\n",
       "      <td>336.76</td>\n",
       "      <td>E</td>\n",
       "      <td>E5</td>\n",
       "      <td>3 years</td>\n",
       "      <td>MORTGAGE</td>\n",
       "      <td>62000.0</td>\n",
       "      <td>...</td>\n",
       "      <td>f</td>\n",
       "      <td>336.76</td>\n",
       "      <td>14.0</td>\n",
       "      <td>10831.0</td>\n",
       "      <td>5378.0</td>\n",
       "      <td>28.3</td>\n",
       "      <td>115.0</td>\n",
       "      <td>2.0</td>\n",
       "      <td>1.0</td>\n",
       "      <td>6.0</td>\n",
       "    </tr>\n",
       "    <tr>\n",
       "      <th>99998</th>\n",
       "      <td>8475.0</td>\n",
       "      <td>8475.0</td>\n",
       "      <td>36 months</td>\n",
       "      <td>24.99</td>\n",
       "      <td>336.92</td>\n",
       "      <td>F</td>\n",
       "      <td>F4</td>\n",
       "      <td>10+ years</td>\n",
       "      <td>RENT</td>\n",
       "      <td>52000.0</td>\n",
       "      <td>...</td>\n",
       "      <td>f</td>\n",
       "      <td>336.92</td>\n",
       "      <td>8.0</td>\n",
       "      <td>3125.0</td>\n",
       "      <td>324.0</td>\n",
       "      <td>88.0</td>\n",
       "      <td>164.0</td>\n",
       "      <td>7.0</td>\n",
       "      <td>0.0</td>\n",
       "      <td>3.0</td>\n",
       "    </tr>\n",
       "  </tbody>\n",
       "</table>\n",
       "<p>86138 rows × 29 columns</p>\n",
       "</div>"
      ],
      "text/plain": [
       "       loan_amnt  funded_amnt        term  int_rate  installment grade  \\\n",
       "0        15000.0      15000.0   60 months     12.39       336.64     C   \n",
       "2        21425.0      21425.0   60 months     15.59       516.36     D   \n",
       "5         9600.0       9600.0   36 months     13.66       326.53     C   \n",
       "6         2500.0       2500.0   36 months     11.99        83.03     B   \n",
       "7        16000.0      16000.0   60 months     11.44       351.40     B   \n",
       "...          ...          ...         ...       ...          ...   ...   \n",
       "99967     3600.0       3600.0   36 months     12.99       121.29     C   \n",
       "99978    28250.0      28250.0   60 months     15.61       681.15     D   \n",
       "99986    19200.0      19200.0   36 months      6.03       584.37     A   \n",
       "99992     8800.0       8800.0   36 months     22.15       336.76     E   \n",
       "99998     8475.0       8475.0   36 months     24.99       336.92     F   \n",
       "\n",
       "      sub_grade emp_length home_ownership  annual_inc  ...  \\\n",
       "0            C1  10+ years           RENT     78000.0  ...   \n",
       "2            D1    6 years           RENT     63800.0  ...   \n",
       "5            C3  10+ years           RENT     69000.0  ...   \n",
       "6            B5   < 1 year       MORTGAGE     89000.0  ...   \n",
       "7            B4    6 years            OWN    109777.0  ...   \n",
       "...         ...        ...            ...         ...  ...   \n",
       "99967        C1     1 year            OWN     52500.0  ...   \n",
       "99978        D1    9 years       MORTGAGE     82000.0  ...   \n",
       "99986        A1    8 years       MORTGAGE     79000.0  ...   \n",
       "99992        E5    3 years       MORTGAGE     62000.0  ...   \n",
       "99998        F4  10+ years           RENT     52000.0  ...   \n",
       "\n",
       "      initial_list_status  last_pymnt_amnt acc_open_past_24mths avg_cur_bal  \\\n",
       "0                       w         12017.81                  5.0     29828.0   \n",
       "2                       w         17813.19                  4.0      4232.0   \n",
       "5                       f          9338.58                  8.0      3214.0   \n",
       "6                       f          2294.26                  6.0     44136.0   \n",
       "7                       w          4935.54                  3.0     53392.0   \n",
       "...                   ...              ...                  ...         ...   \n",
       "99967                   w           425.71                  3.0     44549.0   \n",
       "99978                   w           681.15                  7.0     18704.0   \n",
       "99986                   f           584.37                  1.0     24442.0   \n",
       "99992                   f           336.76                 14.0     10831.0   \n",
       "99998                   f           336.92                  8.0      3125.0   \n",
       "\n",
       "       bc_open_to_buy  bc_util  mo_sin_old_rev_tl_op  mo_sin_rcnt_rev_tl_op  \\\n",
       "0              9525.0      4.7                 244.0                    1.0   \n",
       "2               324.0     97.8                 136.0                    7.0   \n",
       "5              6494.0     69.2                 265.0                   23.0   \n",
       "6              1333.0     86.4                 148.0                   24.0   \n",
       "7              2559.0     72.2                 133.0                   17.0   \n",
       "...               ...      ...                   ...                    ...   \n",
       "99967          1449.0     58.6                 214.0                    3.0   \n",
       "99978         45883.0     31.4                 303.0                    2.0   \n",
       "99986         29266.0     11.0                 255.0                   88.0   \n",
       "99992          5378.0     28.3                 115.0                    2.0   \n",
       "99998           324.0     88.0                 164.0                    7.0   \n",
       "\n",
       "       mort_acc num_actv_rev_tl  \n",
       "0           0.0             4.0  \n",
       "2           0.0             4.0  \n",
       "5           0.0             7.0  \n",
       "6           5.0             4.0  \n",
       "7           2.0             3.0  \n",
       "...         ...             ...  \n",
       "99967       3.0             2.0  \n",
       "99978       6.0             8.0  \n",
       "99986       1.0             1.0  \n",
       "99992       1.0             6.0  \n",
       "99998       0.0             3.0  \n",
       "\n",
       "[86138 rows x 29 columns]"
      ]
     },
     "execution_count": 238,
     "metadata": {},
     "output_type": "execute_result"
    }
   ],
   "source": [
    "# Drop the features that we decided previously\n",
    "droplist=['zip_code','earliest_cr_line','application_type','emp_title','purpose']\n",
    "for i in range(len(droplist)):\n",
    "    dataset_1 = dataset_1.drop([droplist[i]],axis=1)\n",
    "dataset_1"
   ]
  },
  {
   "cell_type": "markdown",
   "metadata": {},
   "source": [
    "### Convert Term to a numerical feature"
   ]
  },
  {
   "cell_type": "code",
   "execution_count": 239,
   "metadata": {},
   "outputs": [
    {
     "data": {
      "text/plain": [
       "array([' 60 months', ' 36 months'], dtype=object)"
      ]
     },
     "execution_count": 239,
     "metadata": {},
     "output_type": "execute_result"
    }
   ],
   "source": [
    "dataset_1.term.unique()"
   ]
  },
  {
   "cell_type": "code",
   "execution_count": 240,
   "metadata": {},
   "outputs": [],
   "source": [
    "# Convert the Term to numerical feature\n",
    "term_values = {' 36 months':36, ' 60 months':60}\n",
    "dataset_1['term'] = dataset_1.term.map(term_values)"
   ]
  },
  {
   "cell_type": "code",
   "execution_count": 241,
   "metadata": {},
   "outputs": [
    {
     "data": {
      "text/html": [
       "<div>\n",
       "<style scoped>\n",
       "    .dataframe tbody tr th:only-of-type {\n",
       "        vertical-align: middle;\n",
       "    }\n",
       "\n",
       "    .dataframe tbody tr th {\n",
       "        vertical-align: top;\n",
       "    }\n",
       "\n",
       "    .dataframe thead th {\n",
       "        text-align: right;\n",
       "    }\n",
       "</style>\n",
       "<table border=\"1\" class=\"dataframe\">\n",
       "  <thead>\n",
       "    <tr style=\"text-align: right;\">\n",
       "      <th></th>\n",
       "      <th>term</th>\n",
       "    </tr>\n",
       "  </thead>\n",
       "  <tbody>\n",
       "    <tr>\n",
       "      <th>0</th>\n",
       "      <td>60</td>\n",
       "    </tr>\n",
       "    <tr>\n",
       "      <th>2</th>\n",
       "      <td>60</td>\n",
       "    </tr>\n",
       "    <tr>\n",
       "      <th>5</th>\n",
       "      <td>36</td>\n",
       "    </tr>\n",
       "    <tr>\n",
       "      <th>6</th>\n",
       "      <td>36</td>\n",
       "    </tr>\n",
       "    <tr>\n",
       "      <th>7</th>\n",
       "      <td>60</td>\n",
       "    </tr>\n",
       "    <tr>\n",
       "      <th>...</th>\n",
       "      <td>...</td>\n",
       "    </tr>\n",
       "    <tr>\n",
       "      <th>99967</th>\n",
       "      <td>36</td>\n",
       "    </tr>\n",
       "    <tr>\n",
       "      <th>99978</th>\n",
       "      <td>60</td>\n",
       "    </tr>\n",
       "    <tr>\n",
       "      <th>99986</th>\n",
       "      <td>36</td>\n",
       "    </tr>\n",
       "    <tr>\n",
       "      <th>99992</th>\n",
       "      <td>36</td>\n",
       "    </tr>\n",
       "    <tr>\n",
       "      <th>99998</th>\n",
       "      <td>36</td>\n",
       "    </tr>\n",
       "  </tbody>\n",
       "</table>\n",
       "<p>86138 rows × 1 columns</p>\n",
       "</div>"
      ],
      "text/plain": [
       "       term\n",
       "0        60\n",
       "2        60\n",
       "5        36\n",
       "6        36\n",
       "7        60\n",
       "...     ...\n",
       "99967    36\n",
       "99978    60\n",
       "99986    36\n",
       "99992    36\n",
       "99998    36\n",
       "\n",
       "[86138 rows x 1 columns]"
      ]
     },
     "execution_count": 241,
     "metadata": {},
     "output_type": "execute_result"
    }
   ],
   "source": [
    "dataset_1[['term']]"
   ]
  },
  {
   "cell_type": "markdown",
   "metadata": {},
   "source": [
    "### Decide if you want to do anything to emp_length"
   ]
  },
  {
   "cell_type": "code",
   "execution_count": 242,
   "metadata": {},
   "outputs": [],
   "source": [
    "# Lets convert the labels to numeric values first\n",
    "package = {'emp_length': {'< 1 year': 0, '1 year': 1, '2 years': 2, '3 years': 3, '4 years': 4, \n",
    "                         '5 years': 5, '6 years': 6, '7 years': 7, '8 years': 8, '9 years': 9, '10+ years': 10}}\n",
    "dataset_1 = dataset_1.replace(package)"
   ]
  },
  {
   "cell_type": "code",
   "execution_count": 243,
   "metadata": {},
   "outputs": [
    {
     "name": "stdout",
     "output_type": "stream",
     "text": [
      "10.0 fully paid and charged off rate:\n",
      "0    0.818079\n",
      "1    0.181921\n",
      "Name: loan_status, dtype: float64 \n",
      "\n",
      "----------------------------------------- \n",
      "\n",
      "6.0 fully paid and charged off rate:\n",
      "0    0.811358\n",
      "1    0.188642\n",
      "Name: loan_status, dtype: float64 \n",
      "\n",
      "----------------------------------------- \n",
      "\n",
      "0.0 fully paid and charged off rate:\n",
      "0    0.799433\n",
      "1    0.200567\n",
      "Name: loan_status, dtype: float64 \n",
      "\n",
      "----------------------------------------- \n",
      "\n",
      "2.0 fully paid and charged off rate:\n",
      "0    0.820366\n",
      "1    0.179634\n",
      "Name: loan_status, dtype: float64 \n",
      "\n",
      "----------------------------------------- \n",
      "\n",
      "8.0 fully paid and charged off rate:\n",
      "0    0.808984\n",
      "1    0.191016\n",
      "Name: loan_status, dtype: float64 \n",
      "\n",
      "----------------------------------------- \n",
      "\n",
      "9.0 fully paid and charged off rate:\n",
      "0    0.809067\n",
      "1    0.190933\n",
      "Name: loan_status, dtype: float64 \n",
      "\n",
      "----------------------------------------- \n",
      "\n",
      "7.0 fully paid and charged off rate:\n",
      "0    0.814273\n",
      "1    0.185727\n",
      "Name: loan_status, dtype: float64 \n",
      "\n",
      "----------------------------------------- \n",
      "\n",
      "3.0 fully paid and charged off rate:\n",
      "0    0.815743\n",
      "1    0.184257\n",
      "Name: loan_status, dtype: float64 \n",
      "\n",
      "----------------------------------------- \n",
      "\n",
      "1.0 fully paid and charged off rate:\n",
      "0    0.809741\n",
      "1    0.190259\n",
      "Name: loan_status, dtype: float64 \n",
      "\n",
      "----------------------------------------- \n",
      "\n",
      "nan fully paid and charged off rate:\n",
      "Series([], Name: loan_status, dtype: float64) \n",
      "\n",
      "----------------------------------------- \n",
      "\n",
      "4.0 fully paid and charged off rate:\n",
      "0    0.824738\n",
      "1    0.175262\n",
      "Name: loan_status, dtype: float64 \n",
      "\n",
      "----------------------------------------- \n",
      "\n",
      "5.0 fully paid and charged off rate:\n",
      "0    0.827395\n",
      "1    0.172605\n",
      "Name: loan_status, dtype: float64 \n",
      "\n",
      "----------------------------------------- \n",
      "\n"
     ]
    }
   ],
   "source": [
    "# Compute the fully paid rate and charged off rate for each label\n",
    "for year in dataset_1.emp_length.unique():\n",
    "    print(f\"{year} fully paid and charged off rate:\")\n",
    "    print(f\"{dataset_1[dataset_1.emp_length == year].loan_status.value_counts(normalize=True)}\",\"\\n\")\n",
    "    print('-----------------------------------------',\"\\n\")"
   ]
  },
  {
   "cell_type": "code",
   "execution_count": 244,
   "metadata": {},
   "outputs": [
    {
     "data": {
      "text/plain": [
       "0.0     0.200567\n",
       "1.0     0.190259\n",
       "2.0     0.179634\n",
       "3.0     0.184257\n",
       "4.0     0.175262\n",
       "5.0     0.172605\n",
       "6.0     0.188642\n",
       "7.0     0.185727\n",
       "8.0     0.191016\n",
       "9.0     0.190933\n",
       "10.0    0.181921\n",
       "Name: emp_length, dtype: float64"
      ]
     },
     "execution_count": 244,
     "metadata": {},
     "output_type": "execute_result"
    }
   ],
   "source": [
    "# We only concern about the charge off rate which is the default rate\n",
    "chargeOff_rate =  dataset_1[dataset_1.loan_status==1]['emp_length'].value_counts().sort_index() / dataset_1['emp_length'].value_counts().sort_index()\n",
    "chargeOff_rate"
   ]
  },
  {
   "cell_type": "markdown",
   "metadata": {},
   "source": [
    "<font color='darkblue'>We can see that the rates are not much different across different employment lengths, thus we drop this columns."
   ]
  },
  {
   "cell_type": "code",
   "execution_count": 245,
   "metadata": {},
   "outputs": [],
   "source": [
    "# We drop 'emp_length'\n",
    "dataset_1 = dataset_1.drop(['emp_length'],axis=1)"
   ]
  },
  {
   "cell_type": "markdown",
   "metadata": {},
   "source": [
    "### Is sub_grade worth keeping ?"
   ]
  },
  {
   "cell_type": "code",
   "execution_count": 246,
   "metadata": {},
   "outputs": [
    {
     "data": {
      "image/png": "[encoded data removed]",
      "text/plain": [
       "<Figure size 1008x432 with 2 Axes>"
      ]
     },
     "metadata": {
      "needs_background": "light"
     },
     "output_type": "display_data"
    }
   ],
   "source": [
    "# Let look at the distribution of grade and sub_grade features\n",
    "plt.figure(figsize=(14, 6))\n",
    "# Plot by grade\n",
    "plt.subplot(1,2,1)\n",
    "grade = sorted(dataset_1.grade.unique().tolist())\n",
    "sns.countplot(x='grade', data=dataset_1, hue='loan_status', order=grade)\n",
    "\n",
    "# Plot by subgrade\n",
    "plt.subplot(1,2,2)\n",
    "sub_grade = sorted(dataset_1.sub_grade.unique().tolist())\n",
    "g = sns.countplot(x='sub_grade', data=dataset_1, hue='loan_status', order=sub_grade)\n",
    "g.set_xticklabels(g.get_xticklabels(), rotation=90)\n",
    "\n",
    "plt.tight_layout()\n",
    "plt.show()"
   ]
  },
  {
   "cell_type": "code",
   "execution_count": 247,
   "metadata": {},
   "outputs": [
    {
     "data": {
      "image/png": "[encoded data removed]",
      "text/plain": [
       "<Figure size 504x432 with 1 Axes>"
      ]
     },
     "metadata": {
      "needs_background": "light"
     },
     "output_type": "display_data"
    },
    {
     "data": {
      "image/png": "[encoded data removed]",
      "text/plain": [
       "<Figure size 504x432 with 1 Axes>"
      ]
     },
     "metadata": {
      "needs_background": "light"
     },
     "output_type": "display_data"
    }
   ],
   "source": [
    "# Compute and plot their chargeoff rate\n",
    "plot_function(feature='grade', dataset = dataset_1,width=0.4);\n",
    "plot_function(feature='sub_grade', dataset = dataset_1,width=0.4);"
   ]
  },
  {
   "cell_type": "markdown",
   "metadata": {},
   "source": [
    "<font color='darkblue'>Clearly we can see that the grade is implied by sub_grade feature and they have nearly the same distribution in terms of both counts and percentage. **Thus we drop grade and keep the sub_grade feature**."
   ]
  },
  {
   "cell_type": "code",
   "execution_count": 248,
   "metadata": {},
   "outputs": [
    {
     "data": {
      "text/html": [
       "<div>\n",
       "<style scoped>\n",
       "    .dataframe tbody tr th:only-of-type {\n",
       "        vertical-align: middle;\n",
       "    }\n",
       "\n",
       "    .dataframe tbody tr th {\n",
       "        vertical-align: top;\n",
       "    }\n",
       "\n",
       "    .dataframe thead th {\n",
       "        text-align: right;\n",
       "    }\n",
       "</style>\n",
       "<table border=\"1\" class=\"dataframe\">\n",
       "  <thead>\n",
       "    <tr style=\"text-align: right;\">\n",
       "      <th></th>\n",
       "      <th>loan_amnt</th>\n",
       "      <th>funded_amnt</th>\n",
       "      <th>term</th>\n",
       "      <th>int_rate</th>\n",
       "      <th>installment</th>\n",
       "      <th>sub_grade</th>\n",
       "      <th>home_ownership</th>\n",
       "      <th>annual_inc</th>\n",
       "      <th>verification_status</th>\n",
       "      <th>loan_status</th>\n",
       "      <th>...</th>\n",
       "      <th>initial_list_status</th>\n",
       "      <th>last_pymnt_amnt</th>\n",
       "      <th>acc_open_past_24mths</th>\n",
       "      <th>avg_cur_bal</th>\n",
       "      <th>bc_open_to_buy</th>\n",
       "      <th>bc_util</th>\n",
       "      <th>mo_sin_old_rev_tl_op</th>\n",
       "      <th>mo_sin_rcnt_rev_tl_op</th>\n",
       "      <th>mort_acc</th>\n",
       "      <th>num_actv_rev_tl</th>\n",
       "    </tr>\n",
       "  </thead>\n",
       "  <tbody>\n",
       "    <tr>\n",
       "      <th>0</th>\n",
       "      <td>15000.0</td>\n",
       "      <td>15000.0</td>\n",
       "      <td>60</td>\n",
       "      <td>12.39</td>\n",
       "      <td>336.64</td>\n",
       "      <td>C1</td>\n",
       "      <td>RENT</td>\n",
       "      <td>78000.0</td>\n",
       "      <td>Source Verified</td>\n",
       "      <td>0</td>\n",
       "      <td>...</td>\n",
       "      <td>w</td>\n",
       "      <td>12017.81</td>\n",
       "      <td>5.0</td>\n",
       "      <td>29828.0</td>\n",
       "      <td>9525.0</td>\n",
       "      <td>4.7</td>\n",
       "      <td>244.0</td>\n",
       "      <td>1.0</td>\n",
       "      <td>0.0</td>\n",
       "      <td>4.0</td>\n",
       "    </tr>\n",
       "    <tr>\n",
       "      <th>2</th>\n",
       "      <td>21425.0</td>\n",
       "      <td>21425.0</td>\n",
       "      <td>60</td>\n",
       "      <td>15.59</td>\n",
       "      <td>516.36</td>\n",
       "      <td>D1</td>\n",
       "      <td>RENT</td>\n",
       "      <td>63800.0</td>\n",
       "      <td>Source Verified</td>\n",
       "      <td>0</td>\n",
       "      <td>...</td>\n",
       "      <td>w</td>\n",
       "      <td>17813.19</td>\n",
       "      <td>4.0</td>\n",
       "      <td>4232.0</td>\n",
       "      <td>324.0</td>\n",
       "      <td>97.8</td>\n",
       "      <td>136.0</td>\n",
       "      <td>7.0</td>\n",
       "      <td>0.0</td>\n",
       "      <td>4.0</td>\n",
       "    </tr>\n",
       "    <tr>\n",
       "      <th>5</th>\n",
       "      <td>9600.0</td>\n",
       "      <td>9600.0</td>\n",
       "      <td>36</td>\n",
       "      <td>13.66</td>\n",
       "      <td>326.53</td>\n",
       "      <td>C3</td>\n",
       "      <td>RENT</td>\n",
       "      <td>69000.0</td>\n",
       "      <td>Source Verified</td>\n",
       "      <td>0</td>\n",
       "      <td>...</td>\n",
       "      <td>f</td>\n",
       "      <td>9338.58</td>\n",
       "      <td>8.0</td>\n",
       "      <td>3214.0</td>\n",
       "      <td>6494.0</td>\n",
       "      <td>69.2</td>\n",
       "      <td>265.0</td>\n",
       "      <td>23.0</td>\n",
       "      <td>0.0</td>\n",
       "      <td>7.0</td>\n",
       "    </tr>\n",
       "    <tr>\n",
       "      <th>6</th>\n",
       "      <td>2500.0</td>\n",
       "      <td>2500.0</td>\n",
       "      <td>36</td>\n",
       "      <td>11.99</td>\n",
       "      <td>83.03</td>\n",
       "      <td>B5</td>\n",
       "      <td>MORTGAGE</td>\n",
       "      <td>89000.0</td>\n",
       "      <td>Source Verified</td>\n",
       "      <td>0</td>\n",
       "      <td>...</td>\n",
       "      <td>f</td>\n",
       "      <td>2294.26</td>\n",
       "      <td>6.0</td>\n",
       "      <td>44136.0</td>\n",
       "      <td>1333.0</td>\n",
       "      <td>86.4</td>\n",
       "      <td>148.0</td>\n",
       "      <td>24.0</td>\n",
       "      <td>5.0</td>\n",
       "      <td>4.0</td>\n",
       "    </tr>\n",
       "    <tr>\n",
       "      <th>7</th>\n",
       "      <td>16000.0</td>\n",
       "      <td>16000.0</td>\n",
       "      <td>60</td>\n",
       "      <td>11.44</td>\n",
       "      <td>351.40</td>\n",
       "      <td>B4</td>\n",
       "      <td>OWN</td>\n",
       "      <td>109777.0</td>\n",
       "      <td>Verified</td>\n",
       "      <td>0</td>\n",
       "      <td>...</td>\n",
       "      <td>w</td>\n",
       "      <td>4935.54</td>\n",
       "      <td>3.0</td>\n",
       "      <td>53392.0</td>\n",
       "      <td>2559.0</td>\n",
       "      <td>72.2</td>\n",
       "      <td>133.0</td>\n",
       "      <td>17.0</td>\n",
       "      <td>2.0</td>\n",
       "      <td>3.0</td>\n",
       "    </tr>\n",
       "  </tbody>\n",
       "</table>\n",
       "<p>5 rows × 27 columns</p>\n",
       "</div>"
      ],
      "text/plain": [
       "   loan_amnt  funded_amnt  term  int_rate  installment sub_grade  \\\n",
       "0    15000.0      15000.0    60     12.39       336.64        C1   \n",
       "2    21425.0      21425.0    60     15.59       516.36        D1   \n",
       "5     9600.0       9600.0    36     13.66       326.53        C3   \n",
       "6     2500.0       2500.0    36     11.99        83.03        B5   \n",
       "7    16000.0      16000.0    60     11.44       351.40        B4   \n",
       "\n",
       "  home_ownership  annual_inc verification_status  loan_status  ...  \\\n",
       "0           RENT     78000.0     Source Verified            0  ...   \n",
       "2           RENT     63800.0     Source Verified            0  ...   \n",
       "5           RENT     69000.0     Source Verified            0  ...   \n",
       "6       MORTGAGE     89000.0     Source Verified            0  ...   \n",
       "7            OWN    109777.0            Verified            0  ...   \n",
       "\n",
       "  initial_list_status last_pymnt_amnt  acc_open_past_24mths  avg_cur_bal  \\\n",
       "0                   w        12017.81                   5.0      29828.0   \n",
       "2                   w        17813.19                   4.0       4232.0   \n",
       "5                   f         9338.58                   8.0       3214.0   \n",
       "6                   f         2294.26                   6.0      44136.0   \n",
       "7                   w         4935.54                   3.0      53392.0   \n",
       "\n",
       "   bc_open_to_buy  bc_util  mo_sin_old_rev_tl_op mo_sin_rcnt_rev_tl_op  \\\n",
       "0          9525.0      4.7                 244.0                   1.0   \n",
       "2           324.0     97.8                 136.0                   7.0   \n",
       "5          6494.0     69.2                 265.0                  23.0   \n",
       "6          1333.0     86.4                 148.0                  24.0   \n",
       "7          2559.0     72.2                 133.0                  17.0   \n",
       "\n",
       "   mort_acc  num_actv_rev_tl  \n",
       "0       0.0              4.0  \n",
       "2       0.0              4.0  \n",
       "5       0.0              7.0  \n",
       "6       5.0              4.0  \n",
       "7       2.0              3.0  \n",
       "\n",
       "[5 rows x 27 columns]"
      ]
     },
     "execution_count": 248,
     "metadata": {},
     "output_type": "execute_result"
    }
   ],
   "source": [
    "# Drop grade\n",
    "dataset_1 = dataset_1.drop(['grade'],axis=1)\n",
    "dataset_1.head()"
   ]
  },
  {
   "cell_type": "markdown",
   "metadata": {},
   "source": [
    "<a id='3.1.2'></a>\n",
    "### 4.1.2. Analysing the continuous features "
   ]
  },
  {
   "cell_type": "markdown",
   "metadata": {},
   "source": [
    "### Do you want to do anything to Annual Income ?"
   ]
  },
  {
   "cell_type": "markdown",
   "metadata": {},
   "source": [
    "#### Feature : Annual Income"
   ]
  },
  {
   "cell_type": "code",
   "execution_count": 249,
   "metadata": {},
   "outputs": [
    {
     "data": {
      "image/png": "[encoded data removed]",
      "text/plain": [
       "<Figure size 432x288 with 1 Axes>"
      ]
     },
     "metadata": {
      "needs_background": "light"
     },
     "output_type": "display_data"
    }
   ],
   "source": [
    "# Plot the distribution of annual income\n",
    "plt.hist(dataset_1['annual_inc'], bins = 500, facecolor='b', alpha=0.75) \n",
    "plt.xlabel('Annual Income')\n",
    "plt.ylabel('Fequency')\n",
    "plt.title('Histogram of Annual Income')\n",
    "plt.grid(True)\n",
    "plt.show()"
   ]
  },
  {
   "cell_type": "markdown",
   "metadata": {},
   "source": [
    "<font color ='darkblue'>As we can see that the figure above is not very clear as it has outliers. We will show a new and clearer distribution chart below."
   ]
  },
  {
   "cell_type": "code",
   "execution_count": 250,
   "metadata": {},
   "outputs": [
    {
     "name": "stdout",
     "output_type": "stream",
     "text": [
      "7500000.0\n",
      "4000.0\n"
     ]
    }
   ],
   "source": [
    "# We look for the max and min value in 'annual_inc'\n",
    "print(dataset_1['annual_inc'].max())\n",
    "print(dataset_1['annual_inc'].min())"
   ]
  },
  {
   "cell_type": "code",
   "execution_count": 251,
   "metadata": {},
   "outputs": [
    {
     "data": {
      "text/plain": [
       "(50000, 100000]      41543\n",
       "(0, 50000]           29827\n",
       "(100000, 150000]     10650\n",
       "(150000, 200000]      2460\n",
       "(200000, 8000000]     1658\n",
       "Name: annual_inc, dtype: int64"
      ]
     },
     "execution_count": 251,
     "metadata": {},
     "output_type": "execute_result"
    }
   ],
   "source": [
    "annual_inc=pd.cut(x=dataset_1['annual_inc'], bins=[0, 50000, 100000, 150000, 200000, 8000000])\n",
    "annual_inc.value_counts()"
   ]
  },
  {
   "cell_type": "code",
   "execution_count": 252,
   "metadata": {},
   "outputs": [
    {
     "data": {
      "image/png": "[encoded data removed]",
      "text/plain": [
       "<Figure size 432x288 with 1 Axes>"
      ]
     },
     "metadata": {
      "needs_background": "light"
     },
     "output_type": "display_data"
    }
   ],
   "source": [
    "pr = annual_inc.value_counts()\n",
    "pr.plot(kind='barh', title='The number of data in different annual income ranges');"
   ]
  },
  {
   "cell_type": "markdown",
   "metadata": {},
   "source": [
    "<font color='darkblue'>We can see that the annual income feature is very 'unbalanced' in terms of value."
   ]
  },
  {
   "cell_type": "code",
   "execution_count": 253,
   "metadata": {},
   "outputs": [
    {
     "data": {
      "text/html": [
       "<div>\n",
       "<style scoped>\n",
       "    .dataframe tbody tr th:only-of-type {\n",
       "        vertical-align: middle;\n",
       "    }\n",
       "\n",
       "    .dataframe tbody tr th {\n",
       "        vertical-align: top;\n",
       "    }\n",
       "\n",
       "    .dataframe thead th {\n",
       "        text-align: right;\n",
       "    }\n",
       "</style>\n",
       "<table border=\"1\" class=\"dataframe\">\n",
       "  <thead>\n",
       "    <tr style=\"text-align: right;\">\n",
       "      <th></th>\n",
       "      <th>count</th>\n",
       "      <th>mean</th>\n",
       "      <th>std</th>\n",
       "      <th>min</th>\n",
       "      <th>25%</th>\n",
       "      <th>50%</th>\n",
       "      <th>75%</th>\n",
       "      <th>max</th>\n",
       "    </tr>\n",
       "    <tr>\n",
       "      <th>loan_status</th>\n",
       "      <th></th>\n",
       "      <th></th>\n",
       "      <th></th>\n",
       "      <th></th>\n",
       "      <th></th>\n",
       "      <th></th>\n",
       "      <th></th>\n",
       "      <th></th>\n",
       "    </tr>\n",
       "  </thead>\n",
       "  <tbody>\n",
       "    <tr>\n",
       "      <th>0</th>\n",
       "      <td>69982.0</td>\n",
       "      <td>75277.520514</td>\n",
       "      <td>55816.645504</td>\n",
       "      <td>4000.0</td>\n",
       "      <td>45000.0</td>\n",
       "      <td>65000.0</td>\n",
       "      <td>90000.0</td>\n",
       "      <td>4900000.0</td>\n",
       "    </tr>\n",
       "    <tr>\n",
       "      <th>1</th>\n",
       "      <td>16156.0</td>\n",
       "      <td>67629.772470</td>\n",
       "      <td>72125.748438</td>\n",
       "      <td>4000.0</td>\n",
       "      <td>42000.0</td>\n",
       "      <td>59000.0</td>\n",
       "      <td>80000.0</td>\n",
       "      <td>7500000.0</td>\n",
       "    </tr>\n",
       "  </tbody>\n",
       "</table>\n",
       "</div>"
      ],
      "text/plain": [
       "               count          mean           std     min      25%      50%  \\\n",
       "loan_status                                                                  \n",
       "0            69982.0  75277.520514  55816.645504  4000.0  45000.0  65000.0   \n",
       "1            16156.0  67629.772470  72125.748438  4000.0  42000.0  59000.0   \n",
       "\n",
       "                 75%        max  \n",
       "loan_status                      \n",
       "0            90000.0  4900000.0  \n",
       "1            80000.0  7500000.0  "
      ]
     },
     "execution_count": 253,
     "metadata": {},
     "output_type": "execute_result"
    }
   ],
   "source": [
    "# Check the statistics of annual_income\n",
    "dataset_1.groupby('loan_status')['annual_inc'].describe()"
   ]
  },
  {
   "cell_type": "markdown",
   "metadata": {},
   "source": [
    "<font color='darkblue'>We believe it is necessary to standardise the feauture 'annual income'. We did not do it here because we are going to standardise all the features later. So we just keep it unchanged and process to following part at this point."
   ]
  },
  {
   "cell_type": "markdown",
   "metadata": {},
   "source": [
    "### How do you want to treat the two FICO scores ?"
   ]
  },
  {
   "cell_type": "code",
   "execution_count": 254,
   "metadata": {},
   "outputs": [
    {
     "name": "stdout",
     "output_type": "stream",
     "text": [
      "<class 'pandas.core.frame.DataFrame'>\n",
      "Int64Index: 86138 entries, 0 to 99998\n",
      "Data columns (total 27 columns):\n",
      " #   Column                 Non-Null Count  Dtype  \n",
      "---  ------                 --------------  -----  \n",
      " 0   loan_amnt              86138 non-null  float64\n",
      " 1   funded_amnt            86138 non-null  float64\n",
      " 2   term                   86138 non-null  int64  \n",
      " 3   int_rate               86138 non-null  float64\n",
      " 4   installment            86138 non-null  float64\n",
      " 5   sub_grade              86138 non-null  object \n",
      " 6   home_ownership         86138 non-null  object \n",
      " 7   annual_inc             86138 non-null  float64\n",
      " 8   verification_status    86138 non-null  object \n",
      " 9   loan_status            86138 non-null  int64  \n",
      " 10  title                  86138 non-null  object \n",
      " 11  addr_state             86138 non-null  object \n",
      " 12  dti                    86138 non-null  float64\n",
      " 13  fico_range_low         86138 non-null  float64\n",
      " 14  fico_range_high        86138 non-null  float64\n",
      " 15  open_acc               86138 non-null  float64\n",
      " 16  revol_util             86094 non-null  float64\n",
      " 17  initial_list_status    86138 non-null  object \n",
      " 18  last_pymnt_amnt        86138 non-null  float64\n",
      " 19  acc_open_past_24mths   86138 non-null  float64\n",
      " 20  avg_cur_bal            86138 non-null  float64\n",
      " 21  bc_open_to_buy         85142 non-null  float64\n",
      " 22  bc_util                85089 non-null  float64\n",
      " 23  mo_sin_old_rev_tl_op   86138 non-null  float64\n",
      " 24  mo_sin_rcnt_rev_tl_op  86138 non-null  float64\n",
      " 25  mort_acc               86138 non-null  float64\n",
      " 26  num_actv_rev_tl        86138 non-null  float64\n",
      "dtypes: float64(19), int64(2), object(6)\n",
      "memory usage: 20.9+ MB\n"
     ]
    }
   ],
   "source": [
    "# Check the data info and find the two FICO scores: FICO_range_low and FICO_range_high\n",
    "dataset_1.info()"
   ]
  },
  {
   "cell_type": "code",
   "execution_count": 255,
   "metadata": {},
   "outputs": [
    {
     "data": {
      "image/png": "[encoded data removed]",
      "text/plain": [
       "<Figure size 504x432 with 1 Axes>"
      ]
     },
     "metadata": {
      "needs_background": "light"
     },
     "output_type": "display_data"
    },
    {
     "data": {
      "image/png": "[encoded data removed]",
      "text/plain": [
       "<Figure size 504x432 with 1 Axes>"
      ]
     },
     "metadata": {
      "needs_background": "light"
     },
     "output_type": "display_data"
    }
   ],
   "source": [
    "# Plot their fully paid rate and defalut rate\n",
    "fico_range = dataset_1\n",
    "plot_function(feature='fico_range_low', dataset = dataset_1,width=0.4);\n",
    "plot_function(feature='fico_range_high', dataset = dataset_1,width=0.4);"
   ]
  },
  {
   "cell_type": "markdown",
   "metadata": {},
   "source": [
    "<font color='darkblue'>We notice they have almost the same rate across different label, let's check their correlation to be certain."
   ]
  },
  {
   "cell_type": "code",
   "execution_count": 256,
   "metadata": {},
   "outputs": [
    {
     "data": {
      "text/html": [
       "<div>\n",
       "<style scoped>\n",
       "    .dataframe tbody tr th:only-of-type {\n",
       "        vertical-align: middle;\n",
       "    }\n",
       "\n",
       "    .dataframe tbody tr th {\n",
       "        vertical-align: top;\n",
       "    }\n",
       "\n",
       "    .dataframe thead th {\n",
       "        text-align: right;\n",
       "    }\n",
       "</style>\n",
       "<table border=\"1\" class=\"dataframe\">\n",
       "  <thead>\n",
       "    <tr style=\"text-align: right;\">\n",
       "      <th></th>\n",
       "      <th>fico_range_low</th>\n",
       "      <th>fico_range_high</th>\n",
       "    </tr>\n",
       "  </thead>\n",
       "  <tbody>\n",
       "    <tr>\n",
       "      <th>fico_range_low</th>\n",
       "      <td>1.0</td>\n",
       "      <td>1.0</td>\n",
       "    </tr>\n",
       "    <tr>\n",
       "      <th>fico_range_high</th>\n",
       "      <td>1.0</td>\n",
       "      <td>1.0</td>\n",
       "    </tr>\n",
       "  </tbody>\n",
       "</table>\n",
       "</div>"
      ],
      "text/plain": [
       "                 fico_range_low  fico_range_high\n",
       "fico_range_low              1.0              1.0\n",
       "fico_range_high             1.0              1.0"
      ]
     },
     "execution_count": 256,
     "metadata": {},
     "output_type": "execute_result"
    }
   ],
   "source": [
    "dataset_1[['fico_range_low','fico_range_high']].corr()"
   ]
  },
  {
   "cell_type": "markdown",
   "metadata": {},
   "source": [
    "<font color='darkblue'>The two features are perfectly correlated! We take an average score of the two and replace the orginal ones."
   ]
  },
  {
   "cell_type": "code",
   "execution_count": 257,
   "metadata": {},
   "outputs": [
    {
     "data": {
      "image/png": "[encoded data removed]",
      "text/plain": [
       "<Figure size 504x432 with 1 Axes>"
      ]
     },
     "metadata": {
      "needs_background": "light"
     },
     "output_type": "display_data"
    }
   ],
   "source": [
    "# Compute the average score and replace the old two.\n",
    "# Plot the new feature\n",
    "dataset_1['fico_scores'] = 0.5*(dataset_1['fico_range_low'] + dataset_1['fico_range_high'])\n",
    "dataset_1.drop(['fico_range_high', 'fico_range_low'], axis=1, inplace=True)\n",
    "plot_function(feature='fico_scores', dataset = dataset_1,width=0.4);"
   ]
  },
  {
   "cell_type": "markdown",
   "metadata": {},
   "source": [
    "<a id='3.2'></a>\n",
    "## 4.2. Encoding Categorical Data"
   ]
  },
  {
   "cell_type": "markdown",
   "metadata": {},
   "source": [
    "### Decide how to handle the categorical data in columns ['grade', 'sub_grade', 'home_ownership', 'verification_status', 'purpose', 'addr_state', 'initial_list_status', 'application_type']\n",
    "\n",
    "### You may wish to use a LabelEncoder\n"
   ]
  },
  {
   "cell_type": "code",
   "execution_count": 258,
   "metadata": {},
   "outputs": [
    {
     "data": {
      "text/html": [
       "<div>\n",
       "<style scoped>\n",
       "    .dataframe tbody tr th:only-of-type {\n",
       "        vertical-align: middle;\n",
       "    }\n",
       "\n",
       "    .dataframe tbody tr th {\n",
       "        vertical-align: top;\n",
       "    }\n",
       "\n",
       "    .dataframe thead th {\n",
       "        text-align: right;\n",
       "    }\n",
       "</style>\n",
       "<table border=\"1\" class=\"dataframe\">\n",
       "  <thead>\n",
       "    <tr style=\"text-align: right;\">\n",
       "      <th></th>\n",
       "      <th>sub_grade</th>\n",
       "      <th>home_ownership</th>\n",
       "      <th>verification_status</th>\n",
       "      <th>title</th>\n",
       "      <th>addr_state</th>\n",
       "      <th>initial_list_status</th>\n",
       "    </tr>\n",
       "  </thead>\n",
       "  <tbody>\n",
       "    <tr>\n",
       "      <th>0</th>\n",
       "      <td>C1</td>\n",
       "      <td>RENT</td>\n",
       "      <td>Source Verified</td>\n",
       "      <td>Debt consolidation</td>\n",
       "      <td>VA</td>\n",
       "      <td>w</td>\n",
       "    </tr>\n",
       "    <tr>\n",
       "      <th>2</th>\n",
       "      <td>D1</td>\n",
       "      <td>RENT</td>\n",
       "      <td>Source Verified</td>\n",
       "      <td>Credit card refinancing</td>\n",
       "      <td>MO</td>\n",
       "      <td>w</td>\n",
       "    </tr>\n",
       "    <tr>\n",
       "      <th>5</th>\n",
       "      <td>C3</td>\n",
       "      <td>RENT</td>\n",
       "      <td>Source Verified</td>\n",
       "      <td>Debt consolidation</td>\n",
       "      <td>NJ</td>\n",
       "      <td>f</td>\n",
       "    </tr>\n",
       "    <tr>\n",
       "      <th>6</th>\n",
       "      <td>B5</td>\n",
       "      <td>MORTGAGE</td>\n",
       "      <td>Source Verified</td>\n",
       "      <td>Home improvement</td>\n",
       "      <td>MN</td>\n",
       "      <td>f</td>\n",
       "    </tr>\n",
       "    <tr>\n",
       "      <th>7</th>\n",
       "      <td>B4</td>\n",
       "      <td>OWN</td>\n",
       "      <td>Verified</td>\n",
       "      <td>Debt consolidation</td>\n",
       "      <td>VA</td>\n",
       "      <td>w</td>\n",
       "    </tr>\n",
       "  </tbody>\n",
       "</table>\n",
       "</div>"
      ],
      "text/plain": [
       "  sub_grade home_ownership verification_status                    title  \\\n",
       "0        C1           RENT     Source Verified       Debt consolidation   \n",
       "2        D1           RENT     Source Verified  Credit card refinancing   \n",
       "5        C3           RENT     Source Verified       Debt consolidation   \n",
       "6        B5       MORTGAGE     Source Verified         Home improvement   \n",
       "7        B4            OWN            Verified       Debt consolidation   \n",
       "\n",
       "  addr_state initial_list_status  \n",
       "0         VA                   w  \n",
       "2         MO                   w  \n",
       "5         NJ                   f  \n",
       "6         MN                   f  \n",
       "7         VA                   w  "
      ]
     },
     "execution_count": 258,
     "metadata": {},
     "output_type": "execute_result"
    }
   ],
   "source": [
    "# We have already dropped 'grade', 'purpose', 'application_type' \n",
    "categorical_features = dataset_1.select_dtypes(include=['object'])\n",
    "categorical_features.head()"
   ]
  },
  {
   "cell_type": "code",
   "execution_count": 259,
   "metadata": {},
   "outputs": [],
   "source": [
    "# Encode the categorical features above using LabelEncoder\n",
    "for i in range(len(categorical_features.columns)):\n",
    "    col_name = categorical_features.columns[i]\n",
    "    X = categorical_features[[col_name]].values\n",
    "    le = LabelEncoder()\n",
    "    X[:,0] = le.fit_transform(X[:,0])\n",
    "    categorical_features[col_name] = X[:,0] #update the orginal dataframe"
   ]
  },
  {
   "cell_type": "code",
   "execution_count": 260,
   "metadata": {},
   "outputs": [
    {
     "data": {
      "text/html": [
       "<div>\n",
       "<style scoped>\n",
       "    .dataframe tbody tr th:only-of-type {\n",
       "        vertical-align: middle;\n",
       "    }\n",
       "\n",
       "    .dataframe tbody tr th {\n",
       "        vertical-align: top;\n",
       "    }\n",
       "\n",
       "    .dataframe thead th {\n",
       "        text-align: right;\n",
       "    }\n",
       "</style>\n",
       "<table border=\"1\" class=\"dataframe\">\n",
       "  <thead>\n",
       "    <tr style=\"text-align: right;\">\n",
       "      <th></th>\n",
       "      <th>sub_grade</th>\n",
       "      <th>home_ownership</th>\n",
       "      <th>verification_status</th>\n",
       "      <th>title</th>\n",
       "      <th>addr_state</th>\n",
       "      <th>initial_list_status</th>\n",
       "    </tr>\n",
       "  </thead>\n",
       "  <tbody>\n",
       "    <tr>\n",
       "      <th>0</th>\n",
       "      <td>10</td>\n",
       "      <td>3</td>\n",
       "      <td>1</td>\n",
       "      <td>5</td>\n",
       "      <td>40</td>\n",
       "      <td>1</td>\n",
       "    </tr>\n",
       "    <tr>\n",
       "      <th>2</th>\n",
       "      <td>15</td>\n",
       "      <td>3</td>\n",
       "      <td>1</td>\n",
       "      <td>3</td>\n",
       "      <td>21</td>\n",
       "      <td>1</td>\n",
       "    </tr>\n",
       "    <tr>\n",
       "      <th>5</th>\n",
       "      <td>12</td>\n",
       "      <td>3</td>\n",
       "      <td>1</td>\n",
       "      <td>5</td>\n",
       "      <td>26</td>\n",
       "      <td>0</td>\n",
       "    </tr>\n",
       "    <tr>\n",
       "      <th>6</th>\n",
       "      <td>9</td>\n",
       "      <td>1</td>\n",
       "      <td>1</td>\n",
       "      <td>11</td>\n",
       "      <td>20</td>\n",
       "      <td>0</td>\n",
       "    </tr>\n",
       "    <tr>\n",
       "      <th>7</th>\n",
       "      <td>8</td>\n",
       "      <td>2</td>\n",
       "      <td>2</td>\n",
       "      <td>5</td>\n",
       "      <td>40</td>\n",
       "      <td>1</td>\n",
       "    </tr>\n",
       "  </tbody>\n",
       "</table>\n",
       "</div>"
      ],
      "text/plain": [
       "  sub_grade home_ownership verification_status title addr_state  \\\n",
       "0        10              3                   1     5         40   \n",
       "2        15              3                   1     3         21   \n",
       "5        12              3                   1     5         26   \n",
       "6         9              1                   1    11         20   \n",
       "7         8              2                   2     5         40   \n",
       "\n",
       "  initial_list_status  \n",
       "0                   1  \n",
       "2                   1  \n",
       "5                   0  \n",
       "6                   0  \n",
       "7                   1  "
      ]
     },
     "execution_count": 260,
     "metadata": {},
     "output_type": "execute_result"
    }
   ],
   "source": [
    "# Have a look at the encoded features\n",
    "categorical_features.head()"
   ]
  },
  {
   "cell_type": "code",
   "execution_count": 261,
   "metadata": {},
   "outputs": [
    {
     "data": {
      "text/html": [
       "<div>\n",
       "<style scoped>\n",
       "    .dataframe tbody tr th:only-of-type {\n",
       "        vertical-align: middle;\n",
       "    }\n",
       "\n",
       "    .dataframe tbody tr th {\n",
       "        vertical-align: top;\n",
       "    }\n",
       "\n",
       "    .dataframe thead th {\n",
       "        text-align: right;\n",
       "    }\n",
       "</style>\n",
       "<table border=\"1\" class=\"dataframe\">\n",
       "  <thead>\n",
       "    <tr style=\"text-align: right;\">\n",
       "      <th></th>\n",
       "      <th>loan_amnt</th>\n",
       "      <th>funded_amnt</th>\n",
       "      <th>term</th>\n",
       "      <th>int_rate</th>\n",
       "      <th>installment</th>\n",
       "      <th>annual_inc</th>\n",
       "      <th>loan_status</th>\n",
       "      <th>dti</th>\n",
       "      <th>open_acc</th>\n",
       "      <th>revol_util</th>\n",
       "      <th>...</th>\n",
       "      <th>mo_sin_rcnt_rev_tl_op</th>\n",
       "      <th>mort_acc</th>\n",
       "      <th>num_actv_rev_tl</th>\n",
       "      <th>fico_scores</th>\n",
       "      <th>sub_grade</th>\n",
       "      <th>home_ownership</th>\n",
       "      <th>verification_status</th>\n",
       "      <th>title</th>\n",
       "      <th>addr_state</th>\n",
       "      <th>initial_list_status</th>\n",
       "    </tr>\n",
       "  </thead>\n",
       "  <tbody>\n",
       "    <tr>\n",
       "      <th>0</th>\n",
       "      <td>15000.0</td>\n",
       "      <td>15000.0</td>\n",
       "      <td>60</td>\n",
       "      <td>12.39</td>\n",
       "      <td>336.64</td>\n",
       "      <td>78000.0</td>\n",
       "      <td>0</td>\n",
       "      <td>12.03</td>\n",
       "      <td>6.0</td>\n",
       "      <td>29.0</td>\n",
       "      <td>...</td>\n",
       "      <td>1.0</td>\n",
       "      <td>0.0</td>\n",
       "      <td>4.0</td>\n",
       "      <td>752.0</td>\n",
       "      <td>10</td>\n",
       "      <td>3</td>\n",
       "      <td>1</td>\n",
       "      <td>5</td>\n",
       "      <td>40</td>\n",
       "      <td>1</td>\n",
       "    </tr>\n",
       "    <tr>\n",
       "      <th>2</th>\n",
       "      <td>21425.0</td>\n",
       "      <td>21425.0</td>\n",
       "      <td>60</td>\n",
       "      <td>15.59</td>\n",
       "      <td>516.36</td>\n",
       "      <td>63800.0</td>\n",
       "      <td>0</td>\n",
       "      <td>18.49</td>\n",
       "      <td>10.0</td>\n",
       "      <td>76.2</td>\n",
       "      <td>...</td>\n",
       "      <td>7.0</td>\n",
       "      <td>0.0</td>\n",
       "      <td>4.0</td>\n",
       "      <td>687.0</td>\n",
       "      <td>15</td>\n",
       "      <td>3</td>\n",
       "      <td>1</td>\n",
       "      <td>3</td>\n",
       "      <td>21</td>\n",
       "      <td>1</td>\n",
       "    </tr>\n",
       "    <tr>\n",
       "      <th>5</th>\n",
       "      <td>9600.0</td>\n",
       "      <td>9600.0</td>\n",
       "      <td>36</td>\n",
       "      <td>13.66</td>\n",
       "      <td>326.53</td>\n",
       "      <td>69000.0</td>\n",
       "      <td>0</td>\n",
       "      <td>25.81</td>\n",
       "      <td>12.0</td>\n",
       "      <td>59.4</td>\n",
       "      <td>...</td>\n",
       "      <td>23.0</td>\n",
       "      <td>0.0</td>\n",
       "      <td>7.0</td>\n",
       "      <td>682.0</td>\n",
       "      <td>12</td>\n",
       "      <td>3</td>\n",
       "      <td>1</td>\n",
       "      <td>5</td>\n",
       "      <td>26</td>\n",
       "      <td>0</td>\n",
       "    </tr>\n",
       "    <tr>\n",
       "      <th>6</th>\n",
       "      <td>2500.0</td>\n",
       "      <td>2500.0</td>\n",
       "      <td>36</td>\n",
       "      <td>11.99</td>\n",
       "      <td>83.03</td>\n",
       "      <td>89000.0</td>\n",
       "      <td>0</td>\n",
       "      <td>13.77</td>\n",
       "      <td>9.0</td>\n",
       "      <td>94.3</td>\n",
       "      <td>...</td>\n",
       "      <td>24.0</td>\n",
       "      <td>5.0</td>\n",
       "      <td>4.0</td>\n",
       "      <td>687.0</td>\n",
       "      <td>9</td>\n",
       "      <td>1</td>\n",
       "      <td>1</td>\n",
       "      <td>11</td>\n",
       "      <td>20</td>\n",
       "      <td>0</td>\n",
       "    </tr>\n",
       "    <tr>\n",
       "      <th>7</th>\n",
       "      <td>16000.0</td>\n",
       "      <td>16000.0</td>\n",
       "      <td>60</td>\n",
       "      <td>11.44</td>\n",
       "      <td>351.40</td>\n",
       "      <td>109777.0</td>\n",
       "      <td>0</td>\n",
       "      <td>11.63</td>\n",
       "      <td>7.0</td>\n",
       "      <td>60.4</td>\n",
       "      <td>...</td>\n",
       "      <td>17.0</td>\n",
       "      <td>2.0</td>\n",
       "      <td>3.0</td>\n",
       "      <td>702.0</td>\n",
       "      <td>8</td>\n",
       "      <td>2</td>\n",
       "      <td>2</td>\n",
       "      <td>5</td>\n",
       "      <td>40</td>\n",
       "      <td>1</td>\n",
       "    </tr>\n",
       "    <tr>\n",
       "      <th>...</th>\n",
       "      <td>...</td>\n",
       "      <td>...</td>\n",
       "      <td>...</td>\n",
       "      <td>...</td>\n",
       "      <td>...</td>\n",
       "      <td>...</td>\n",
       "      <td>...</td>\n",
       "      <td>...</td>\n",
       "      <td>...</td>\n",
       "      <td>...</td>\n",
       "      <td>...</td>\n",
       "      <td>...</td>\n",
       "      <td>...</td>\n",
       "      <td>...</td>\n",
       "      <td>...</td>\n",
       "      <td>...</td>\n",
       "      <td>...</td>\n",
       "      <td>...</td>\n",
       "      <td>...</td>\n",
       "      <td>...</td>\n",
       "      <td>...</td>\n",
       "    </tr>\n",
       "    <tr>\n",
       "      <th>99967</th>\n",
       "      <td>3600.0</td>\n",
       "      <td>3600.0</td>\n",
       "      <td>36</td>\n",
       "      <td>12.99</td>\n",
       "      <td>121.29</td>\n",
       "      <td>52500.0</td>\n",
       "      <td>1</td>\n",
       "      <td>31.43</td>\n",
       "      <td>5.0</td>\n",
       "      <td>54.1</td>\n",
       "      <td>...</td>\n",
       "      <td>3.0</td>\n",
       "      <td>3.0</td>\n",
       "      <td>2.0</td>\n",
       "      <td>662.0</td>\n",
       "      <td>10</td>\n",
       "      <td>2</td>\n",
       "      <td>0</td>\n",
       "      <td>15</td>\n",
       "      <td>4</td>\n",
       "      <td>1</td>\n",
       "    </tr>\n",
       "    <tr>\n",
       "      <th>99978</th>\n",
       "      <td>28250.0</td>\n",
       "      <td>28250.0</td>\n",
       "      <td>60</td>\n",
       "      <td>15.61</td>\n",
       "      <td>681.15</td>\n",
       "      <td>82000.0</td>\n",
       "      <td>1</td>\n",
       "      <td>16.54</td>\n",
       "      <td>18.0</td>\n",
       "      <td>29.0</td>\n",
       "      <td>...</td>\n",
       "      <td>2.0</td>\n",
       "      <td>6.0</td>\n",
       "      <td>8.0</td>\n",
       "      <td>717.0</td>\n",
       "      <td>15</td>\n",
       "      <td>1</td>\n",
       "      <td>2</td>\n",
       "      <td>5</td>\n",
       "      <td>10</td>\n",
       "      <td>1</td>\n",
       "    </tr>\n",
       "    <tr>\n",
       "      <th>99986</th>\n",
       "      <td>19200.0</td>\n",
       "      <td>19200.0</td>\n",
       "      <td>36</td>\n",
       "      <td>6.03</td>\n",
       "      <td>584.37</td>\n",
       "      <td>79000.0</td>\n",
       "      <td>1</td>\n",
       "      <td>8.61</td>\n",
       "      <td>7.0</td>\n",
       "      <td>9.0</td>\n",
       "      <td>...</td>\n",
       "      <td>88.0</td>\n",
       "      <td>1.0</td>\n",
       "      <td>1.0</td>\n",
       "      <td>832.0</td>\n",
       "      <td>0</td>\n",
       "      <td>1</td>\n",
       "      <td>0</td>\n",
       "      <td>1</td>\n",
       "      <td>10</td>\n",
       "      <td>0</td>\n",
       "    </tr>\n",
       "    <tr>\n",
       "      <th>99992</th>\n",
       "      <td>8800.0</td>\n",
       "      <td>8800.0</td>\n",
       "      <td>36</td>\n",
       "      <td>22.15</td>\n",
       "      <td>336.76</td>\n",
       "      <td>62000.0</td>\n",
       "      <td>1</td>\n",
       "      <td>21.45</td>\n",
       "      <td>15.0</td>\n",
       "      <td>32.9</td>\n",
       "      <td>...</td>\n",
       "      <td>2.0</td>\n",
       "      <td>1.0</td>\n",
       "      <td>6.0</td>\n",
       "      <td>677.0</td>\n",
       "      <td>24</td>\n",
       "      <td>1</td>\n",
       "      <td>2</td>\n",
       "      <td>5</td>\n",
       "      <td>15</td>\n",
       "      <td>0</td>\n",
       "    </tr>\n",
       "    <tr>\n",
       "      <th>99998</th>\n",
       "      <td>8475.0</td>\n",
       "      <td>8475.0</td>\n",
       "      <td>36</td>\n",
       "      <td>24.99</td>\n",
       "      <td>336.92</td>\n",
       "      <td>52000.0</td>\n",
       "      <td>1</td>\n",
       "      <td>17.61</td>\n",
       "      <td>11.0</td>\n",
       "      <td>35.7</td>\n",
       "      <td>...</td>\n",
       "      <td>7.0</td>\n",
       "      <td>0.0</td>\n",
       "      <td>3.0</td>\n",
       "      <td>662.0</td>\n",
       "      <td>28</td>\n",
       "      <td>3</td>\n",
       "      <td>2</td>\n",
       "      <td>5</td>\n",
       "      <td>21</td>\n",
       "      <td>0</td>\n",
       "    </tr>\n",
       "  </tbody>\n",
       "</table>\n",
       "<p>86138 rows × 26 columns</p>\n",
       "</div>"
      ],
      "text/plain": [
       "       loan_amnt  funded_amnt  term  int_rate  installment  annual_inc  \\\n",
       "0        15000.0      15000.0    60     12.39       336.64     78000.0   \n",
       "2        21425.0      21425.0    60     15.59       516.36     63800.0   \n",
       "5         9600.0       9600.0    36     13.66       326.53     69000.0   \n",
       "6         2500.0       2500.0    36     11.99        83.03     89000.0   \n",
       "7        16000.0      16000.0    60     11.44       351.40    109777.0   \n",
       "...          ...          ...   ...       ...          ...         ...   \n",
       "99967     3600.0       3600.0    36     12.99       121.29     52500.0   \n",
       "99978    28250.0      28250.0    60     15.61       681.15     82000.0   \n",
       "99986    19200.0      19200.0    36      6.03       584.37     79000.0   \n",
       "99992     8800.0       8800.0    36     22.15       336.76     62000.0   \n",
       "99998     8475.0       8475.0    36     24.99       336.92     52000.0   \n",
       "\n",
       "       loan_status    dti  open_acc  revol_util  ...  mo_sin_rcnt_rev_tl_op  \\\n",
       "0                0  12.03       6.0        29.0  ...                    1.0   \n",
       "2                0  18.49      10.0        76.2  ...                    7.0   \n",
       "5                0  25.81      12.0        59.4  ...                   23.0   \n",
       "6                0  13.77       9.0        94.3  ...                   24.0   \n",
       "7                0  11.63       7.0        60.4  ...                   17.0   \n",
       "...            ...    ...       ...         ...  ...                    ...   \n",
       "99967            1  31.43       5.0        54.1  ...                    3.0   \n",
       "99978            1  16.54      18.0        29.0  ...                    2.0   \n",
       "99986            1   8.61       7.0         9.0  ...                   88.0   \n",
       "99992            1  21.45      15.0        32.9  ...                    2.0   \n",
       "99998            1  17.61      11.0        35.7  ...                    7.0   \n",
       "\n",
       "       mort_acc  num_actv_rev_tl  fico_scores  sub_grade  home_ownership  \\\n",
       "0           0.0              4.0        752.0         10               3   \n",
       "2           0.0              4.0        687.0         15               3   \n",
       "5           0.0              7.0        682.0         12               3   \n",
       "6           5.0              4.0        687.0          9               1   \n",
       "7           2.0              3.0        702.0          8               2   \n",
       "...         ...              ...          ...        ...             ...   \n",
       "99967       3.0              2.0        662.0         10               2   \n",
       "99978       6.0              8.0        717.0         15               1   \n",
       "99986       1.0              1.0        832.0          0               1   \n",
       "99992       1.0              6.0        677.0         24               1   \n",
       "99998       0.0              3.0        662.0         28               3   \n",
       "\n",
       "       verification_status  title  addr_state  initial_list_status  \n",
       "0                        1      5          40                    1  \n",
       "2                        1      3          21                    1  \n",
       "5                        1      5          26                    0  \n",
       "6                        1     11          20                    0  \n",
       "7                        2      5          40                    1  \n",
       "...                    ...    ...         ...                  ...  \n",
       "99967                    0     15           4                    1  \n",
       "99978                    2      5          10                    1  \n",
       "99986                    0      1          10                    0  \n",
       "99992                    2      5          15                    0  \n",
       "99998                    2      5          21                    0  \n",
       "\n",
       "[86138 rows x 26 columns]"
      ]
     },
     "execution_count": 261,
     "metadata": {},
     "output_type": "execute_result"
    }
   ],
   "source": [
    "# Check the whole dataset after encoding\n",
    "numerical_features = dataset_1.select_dtypes(exclude=['object'])\n",
    "dataset_loans = pd.concat([numerical_features,categorical_features],axis=1)\n",
    "dataset_loans"
   ]
  },
  {
   "cell_type": "markdown",
   "metadata": {},
   "source": [
    "<font color='darkblue'>We notice that the features 'loan_amount' and 'funded_amount' seem completely the same, let's check if so."
   ]
  },
  {
   "cell_type": "code",
   "execution_count": 262,
   "metadata": {},
   "outputs": [
    {
     "name": "stdout",
     "output_type": "stream",
     "text": [
      "The number of same data between \"loan_amnt\" and \"funded_amnt\" is:  86138\n"
     ]
    }
   ],
   "source": [
    "# Let's check if the data in 'loan_amnt' and 'funded_amnt' are completely same\n",
    "mask = dataset_loans['loan_amnt'] == dataset_loans['funded_amnt']\n",
    "print('The number of same data between \"loan_amnt\" and \"funded_amnt\" is: ', dataset_loans[mask].shape[0])"
   ]
  },
  {
   "cell_type": "markdown",
   "metadata": {},
   "source": [
    "<font color='darkblue'>After check, it proves that the 'loan_amnt' and 'funded_amount' are the same, therefore we drop one of them."
   ]
  },
  {
   "cell_type": "code",
   "execution_count": 263,
   "metadata": {},
   "outputs": [],
   "source": [
    "dataset_loans = dataset_loans.drop(['loan_amnt'],axis=1)"
   ]
  },
  {
   "cell_type": "markdown",
   "metadata": {},
   "source": [
    "<a id='3.4'></a>\n",
    "## 4.3. Sampling Data"
   ]
  },
  {
   "cell_type": "markdown",
   "metadata": {},
   "source": [
    "### To create a balanced dataset, draw 5500 rows at random from each of the two classes and combine them into a new dataframe."
   ]
  },
  {
   "cell_type": "code",
   "execution_count": 264,
   "metadata": {},
   "outputs": [
    {
     "name": "stdout",
     "output_type": "stream",
     "text": [
      "(69982, 25)\n",
      "(16156, 25)\n"
     ]
    }
   ],
   "source": [
    "# Split the fully paid and charge off classes in order to draw data from them\n",
    "loans_0 = dataset_loans[dataset_loans.loan_status == 0]\n",
    "loans_1 = dataset_loans[dataset_loans.loan_status == 1]\n",
    "print(loans_0.shape)\n",
    "print(loans_1.shape)"
   ]
  },
  {
   "cell_type": "code",
   "execution_count": 265,
   "metadata": {},
   "outputs": [],
   "source": [
    "# Draw 5500 rows randomly from fully paid class\n",
    "loans0_5500 = loans_0.sample(n=5500,random_state=1)"
   ]
  },
  {
   "cell_type": "code",
   "execution_count": 266,
   "metadata": {},
   "outputs": [],
   "source": [
    "# Draw 5500 rows from charged off class\n",
    "loans1_5500 = loans_1.sample(n=5500,random_state=1)"
   ]
  },
  {
   "cell_type": "code",
   "execution_count": 267,
   "metadata": {},
   "outputs": [
    {
     "data": {
      "text/html": [
       "<div>\n",
       "<style scoped>\n",
       "    .dataframe tbody tr th:only-of-type {\n",
       "        vertical-align: middle;\n",
       "    }\n",
       "\n",
       "    .dataframe tbody tr th {\n",
       "        vertical-align: top;\n",
       "    }\n",
       "\n",
       "    .dataframe thead th {\n",
       "        text-align: right;\n",
       "    }\n",
       "</style>\n",
       "<table border=\"1\" class=\"dataframe\">\n",
       "  <thead>\n",
       "    <tr style=\"text-align: right;\">\n",
       "      <th></th>\n",
       "      <th>funded_amnt</th>\n",
       "      <th>term</th>\n",
       "      <th>int_rate</th>\n",
       "      <th>installment</th>\n",
       "      <th>annual_inc</th>\n",
       "      <th>loan_status</th>\n",
       "      <th>dti</th>\n",
       "      <th>open_acc</th>\n",
       "      <th>revol_util</th>\n",
       "      <th>last_pymnt_amnt</th>\n",
       "      <th>...</th>\n",
       "      <th>mo_sin_rcnt_rev_tl_op</th>\n",
       "      <th>mort_acc</th>\n",
       "      <th>num_actv_rev_tl</th>\n",
       "      <th>fico_scores</th>\n",
       "      <th>sub_grade</th>\n",
       "      <th>home_ownership</th>\n",
       "      <th>verification_status</th>\n",
       "      <th>title</th>\n",
       "      <th>addr_state</th>\n",
       "      <th>initial_list_status</th>\n",
       "    </tr>\n",
       "  </thead>\n",
       "  <tbody>\n",
       "    <tr>\n",
       "      <th>0</th>\n",
       "      <td>9000.0</td>\n",
       "      <td>36</td>\n",
       "      <td>9.17</td>\n",
       "      <td>286.92</td>\n",
       "      <td>76000.0</td>\n",
       "      <td>0</td>\n",
       "      <td>4.79</td>\n",
       "      <td>7.0</td>\n",
       "      <td>12.1</td>\n",
       "      <td>282.43</td>\n",
       "      <td>...</td>\n",
       "      <td>0.0</td>\n",
       "      <td>0.0</td>\n",
       "      <td>4.0</td>\n",
       "      <td>662.0</td>\n",
       "      <td>5</td>\n",
       "      <td>2</td>\n",
       "      <td>0</td>\n",
       "      <td>5</td>\n",
       "      <td>4</td>\n",
       "      <td>1</td>\n",
       "    </tr>\n",
       "    <tr>\n",
       "      <th>1</th>\n",
       "      <td>17500.0</td>\n",
       "      <td>60</td>\n",
       "      <td>21.99</td>\n",
       "      <td>483.24</td>\n",
       "      <td>45000.0</td>\n",
       "      <td>0</td>\n",
       "      <td>31.44</td>\n",
       "      <td>15.0</td>\n",
       "      <td>52.0</td>\n",
       "      <td>1162.47</td>\n",
       "      <td>...</td>\n",
       "      <td>6.0</td>\n",
       "      <td>4.0</td>\n",
       "      <td>6.0</td>\n",
       "      <td>707.0</td>\n",
       "      <td>24</td>\n",
       "      <td>1</td>\n",
       "      <td>1</td>\n",
       "      <td>3</td>\n",
       "      <td>12</td>\n",
       "      <td>1</td>\n",
       "    </tr>\n",
       "    <tr>\n",
       "      <th>2</th>\n",
       "      <td>30000.0</td>\n",
       "      <td>60</td>\n",
       "      <td>11.44</td>\n",
       "      <td>658.88</td>\n",
       "      <td>84739.0</td>\n",
       "      <td>0</td>\n",
       "      <td>23.17</td>\n",
       "      <td>15.0</td>\n",
       "      <td>38.5</td>\n",
       "      <td>29154.95</td>\n",
       "      <td>...</td>\n",
       "      <td>26.0</td>\n",
       "      <td>4.0</td>\n",
       "      <td>5.0</td>\n",
       "      <td>742.0</td>\n",
       "      <td>8</td>\n",
       "      <td>1</td>\n",
       "      <td>2</td>\n",
       "      <td>5</td>\n",
       "      <td>29</td>\n",
       "      <td>1</td>\n",
       "    </tr>\n",
       "    <tr>\n",
       "      <th>3</th>\n",
       "      <td>6000.0</td>\n",
       "      <td>36</td>\n",
       "      <td>7.69</td>\n",
       "      <td>187.17</td>\n",
       "      <td>58000.0</td>\n",
       "      <td>0</td>\n",
       "      <td>15.27</td>\n",
       "      <td>11.0</td>\n",
       "      <td>79.8</td>\n",
       "      <td>1287.14</td>\n",
       "      <td>...</td>\n",
       "      <td>58.0</td>\n",
       "      <td>0.0</td>\n",
       "      <td>3.0</td>\n",
       "      <td>692.0</td>\n",
       "      <td>3</td>\n",
       "      <td>3</td>\n",
       "      <td>0</td>\n",
       "      <td>3</td>\n",
       "      <td>17</td>\n",
       "      <td>1</td>\n",
       "    </tr>\n",
       "    <tr>\n",
       "      <th>4</th>\n",
       "      <td>6000.0</td>\n",
       "      <td>36</td>\n",
       "      <td>14.31</td>\n",
       "      <td>205.98</td>\n",
       "      <td>70000.0</td>\n",
       "      <td>0</td>\n",
       "      <td>16.03</td>\n",
       "      <td>9.0</td>\n",
       "      <td>20.0</td>\n",
       "      <td>5969.68</td>\n",
       "      <td>...</td>\n",
       "      <td>13.0</td>\n",
       "      <td>4.0</td>\n",
       "      <td>1.0</td>\n",
       "      <td>677.0</td>\n",
       "      <td>13</td>\n",
       "      <td>1</td>\n",
       "      <td>0</td>\n",
       "      <td>5</td>\n",
       "      <td>4</td>\n",
       "      <td>0</td>\n",
       "    </tr>\n",
       "    <tr>\n",
       "      <th>...</th>\n",
       "      <td>...</td>\n",
       "      <td>...</td>\n",
       "      <td>...</td>\n",
       "      <td>...</td>\n",
       "      <td>...</td>\n",
       "      <td>...</td>\n",
       "      <td>...</td>\n",
       "      <td>...</td>\n",
       "      <td>...</td>\n",
       "      <td>...</td>\n",
       "      <td>...</td>\n",
       "      <td>...</td>\n",
       "      <td>...</td>\n",
       "      <td>...</td>\n",
       "      <td>...</td>\n",
       "      <td>...</td>\n",
       "      <td>...</td>\n",
       "      <td>...</td>\n",
       "      <td>...</td>\n",
       "      <td>...</td>\n",
       "      <td>...</td>\n",
       "    </tr>\n",
       "    <tr>\n",
       "      <th>10995</th>\n",
       "      <td>22750.0</td>\n",
       "      <td>60</td>\n",
       "      <td>23.43</td>\n",
       "      <td>646.97</td>\n",
       "      <td>60000.0</td>\n",
       "      <td>1</td>\n",
       "      <td>17.88</td>\n",
       "      <td>4.0</td>\n",
       "      <td>93.6</td>\n",
       "      <td>646.97</td>\n",
       "      <td>...</td>\n",
       "      <td>69.0</td>\n",
       "      <td>0.0</td>\n",
       "      <td>1.0</td>\n",
       "      <td>697.0</td>\n",
       "      <td>25</td>\n",
       "      <td>3</td>\n",
       "      <td>1</td>\n",
       "      <td>5</td>\n",
       "      <td>4</td>\n",
       "      <td>1</td>\n",
       "    </tr>\n",
       "    <tr>\n",
       "      <th>10996</th>\n",
       "      <td>15550.0</td>\n",
       "      <td>60</td>\n",
       "      <td>24.99</td>\n",
       "      <td>456.33</td>\n",
       "      <td>52000.0</td>\n",
       "      <td>1</td>\n",
       "      <td>20.33</td>\n",
       "      <td>9.0</td>\n",
       "      <td>85.9</td>\n",
       "      <td>456.33</td>\n",
       "      <td>...</td>\n",
       "      <td>0.0</td>\n",
       "      <td>0.0</td>\n",
       "      <td>4.0</td>\n",
       "      <td>672.0</td>\n",
       "      <td>28</td>\n",
       "      <td>3</td>\n",
       "      <td>2</td>\n",
       "      <td>5</td>\n",
       "      <td>33</td>\n",
       "      <td>1</td>\n",
       "    </tr>\n",
       "    <tr>\n",
       "      <th>10997</th>\n",
       "      <td>4800.0</td>\n",
       "      <td>36</td>\n",
       "      <td>13.98</td>\n",
       "      <td>164.01</td>\n",
       "      <td>90000.0</td>\n",
       "      <td>1</td>\n",
       "      <td>36.79</td>\n",
       "      <td>13.0</td>\n",
       "      <td>44.1</td>\n",
       "      <td>164.01</td>\n",
       "      <td>...</td>\n",
       "      <td>4.0</td>\n",
       "      <td>0.0</td>\n",
       "      <td>2.0</td>\n",
       "      <td>757.0</td>\n",
       "      <td>12</td>\n",
       "      <td>3</td>\n",
       "      <td>2</td>\n",
       "      <td>5</td>\n",
       "      <td>29</td>\n",
       "      <td>0</td>\n",
       "    </tr>\n",
       "    <tr>\n",
       "      <th>10998</th>\n",
       "      <td>10000.0</td>\n",
       "      <td>60</td>\n",
       "      <td>17.57</td>\n",
       "      <td>251.61</td>\n",
       "      <td>39000.0</td>\n",
       "      <td>1</td>\n",
       "      <td>20.55</td>\n",
       "      <td>10.0</td>\n",
       "      <td>33.4</td>\n",
       "      <td>251.61</td>\n",
       "      <td>...</td>\n",
       "      <td>17.0</td>\n",
       "      <td>0.0</td>\n",
       "      <td>6.0</td>\n",
       "      <td>677.0</td>\n",
       "      <td>18</td>\n",
       "      <td>3</td>\n",
       "      <td>1</td>\n",
       "      <td>5</td>\n",
       "      <td>37</td>\n",
       "      <td>1</td>\n",
       "    </tr>\n",
       "    <tr>\n",
       "      <th>10999</th>\n",
       "      <td>20000.0</td>\n",
       "      <td>36</td>\n",
       "      <td>12.49</td>\n",
       "      <td>668.98</td>\n",
       "      <td>50000.0</td>\n",
       "      <td>1</td>\n",
       "      <td>9.24</td>\n",
       "      <td>4.0</td>\n",
       "      <td>72.2</td>\n",
       "      <td>668.98</td>\n",
       "      <td>...</td>\n",
       "      <td>13.0</td>\n",
       "      <td>1.0</td>\n",
       "      <td>1.0</td>\n",
       "      <td>662.0</td>\n",
       "      <td>9</td>\n",
       "      <td>1</td>\n",
       "      <td>2</td>\n",
       "      <td>3</td>\n",
       "      <td>9</td>\n",
       "      <td>0</td>\n",
       "    </tr>\n",
       "  </tbody>\n",
       "</table>\n",
       "<p>11000 rows × 25 columns</p>\n",
       "</div>"
      ],
      "text/plain": [
       "       funded_amnt  term  int_rate  installment  annual_inc  loan_status  \\\n",
       "0           9000.0    36      9.17       286.92     76000.0            0   \n",
       "1          17500.0    60     21.99       483.24     45000.0            0   \n",
       "2          30000.0    60     11.44       658.88     84739.0            0   \n",
       "3           6000.0    36      7.69       187.17     58000.0            0   \n",
       "4           6000.0    36     14.31       205.98     70000.0            0   \n",
       "...            ...   ...       ...          ...         ...          ...   \n",
       "10995      22750.0    60     23.43       646.97     60000.0            1   \n",
       "10996      15550.0    60     24.99       456.33     52000.0            1   \n",
       "10997       4800.0    36     13.98       164.01     90000.0            1   \n",
       "10998      10000.0    60     17.57       251.61     39000.0            1   \n",
       "10999      20000.0    36     12.49       668.98     50000.0            1   \n",
       "\n",
       "         dti  open_acc  revol_util  last_pymnt_amnt  ...  \\\n",
       "0       4.79       7.0        12.1           282.43  ...   \n",
       "1      31.44      15.0        52.0          1162.47  ...   \n",
       "2      23.17      15.0        38.5         29154.95  ...   \n",
       "3      15.27      11.0        79.8          1287.14  ...   \n",
       "4      16.03       9.0        20.0          5969.68  ...   \n",
       "...      ...       ...         ...              ...  ...   \n",
       "10995  17.88       4.0        93.6           646.97  ...   \n",
       "10996  20.33       9.0        85.9           456.33  ...   \n",
       "10997  36.79      13.0        44.1           164.01  ...   \n",
       "10998  20.55      10.0        33.4           251.61  ...   \n",
       "10999   9.24       4.0        72.2           668.98  ...   \n",
       "\n",
       "       mo_sin_rcnt_rev_tl_op  mort_acc  num_actv_rev_tl  fico_scores  \\\n",
       "0                        0.0       0.0              4.0        662.0   \n",
       "1                        6.0       4.0              6.0        707.0   \n",
       "2                       26.0       4.0              5.0        742.0   \n",
       "3                       58.0       0.0              3.0        692.0   \n",
       "4                       13.0       4.0              1.0        677.0   \n",
       "...                      ...       ...              ...          ...   \n",
       "10995                   69.0       0.0              1.0        697.0   \n",
       "10996                    0.0       0.0              4.0        672.0   \n",
       "10997                    4.0       0.0              2.0        757.0   \n",
       "10998                   17.0       0.0              6.0        677.0   \n",
       "10999                   13.0       1.0              1.0        662.0   \n",
       "\n",
       "       sub_grade  home_ownership  verification_status  title  addr_state  \\\n",
       "0              5               2                    0      5           4   \n",
       "1             24               1                    1      3          12   \n",
       "2              8               1                    2      5          29   \n",
       "3              3               3                    0      3          17   \n",
       "4             13               1                    0      5           4   \n",
       "...          ...             ...                  ...    ...         ...   \n",
       "10995         25               3                    1      5           4   \n",
       "10996         28               3                    2      5          33   \n",
       "10997         12               3                    2      5          29   \n",
       "10998         18               3                    1      5          37   \n",
       "10999          9               1                    2      3           9   \n",
       "\n",
       "      initial_list_status  \n",
       "0                       1  \n",
       "1                       1  \n",
       "2                       1  \n",
       "3                       1  \n",
       "4                       0  \n",
       "...                   ...  \n",
       "10995                   1  \n",
       "10996                   1  \n",
       "10997                   0  \n",
       "10998                   1  \n",
       "10999                   0  \n",
       "\n",
       "[11000 rows x 25 columns]"
      ]
     },
     "execution_count": 267,
     "metadata": {},
     "output_type": "execute_result"
    }
   ],
   "source": [
    "# Combine the 2 class and creat a balanced dataset\n",
    "loans_new = pd.concat([loans0_5500,loans1_5500],axis=0)\n",
    "loans_new.index = np.arange(11000)\n",
    "loans_new"
   ]
  },
  {
   "cell_type": "markdown",
   "metadata": {},
   "source": [
    "### Choose a method to handle any NAs that may be in a column."
   ]
  },
  {
   "cell_type": "code",
   "execution_count": 268,
   "metadata": {},
   "outputs": [
    {
     "name": "stdout",
     "output_type": "stream",
     "text": [
      "<class 'pandas.core.frame.DataFrame'>\n",
      "Int64Index: 11000 entries, 0 to 10999\n",
      "Data columns (total 25 columns):\n",
      " #   Column                 Non-Null Count  Dtype  \n",
      "---  ------                 --------------  -----  \n",
      " 0   funded_amnt            11000 non-null  float64\n",
      " 1   term                   11000 non-null  int64  \n",
      " 2   int_rate               11000 non-null  float64\n",
      " 3   installment            11000 non-null  float64\n",
      " 4   annual_inc             11000 non-null  float64\n",
      " 5   loan_status            11000 non-null  int64  \n",
      " 6   dti                    11000 non-null  float64\n",
      " 7   open_acc               11000 non-null  float64\n",
      " 8   revol_util             10996 non-null  float64\n",
      " 9   last_pymnt_amnt        11000 non-null  float64\n",
      " 10  acc_open_past_24mths   11000 non-null  float64\n",
      " 11  avg_cur_bal            11000 non-null  float64\n",
      " 12  bc_open_to_buy         10856 non-null  float64\n",
      " 13  bc_util                10847 non-null  float64\n",
      " 14  mo_sin_old_rev_tl_op   11000 non-null  float64\n",
      " 15  mo_sin_rcnt_rev_tl_op  11000 non-null  float64\n",
      " 16  mort_acc               11000 non-null  float64\n",
      " 17  num_actv_rev_tl        11000 non-null  float64\n",
      " 18  fico_scores            11000 non-null  float64\n",
      " 19  sub_grade              11000 non-null  object \n",
      " 20  home_ownership         11000 non-null  object \n",
      " 21  verification_status    11000 non-null  object \n",
      " 22  title                  11000 non-null  object \n",
      " 23  addr_state             11000 non-null  object \n",
      " 24  initial_list_status    11000 non-null  object \n",
      "dtypes: float64(17), int64(2), object(6)\n",
      "memory usage: 2.2+ MB\n"
     ]
    }
   ],
   "source": [
    "# Have a look at the new dataset info\n",
    "loans_new.info()"
   ]
  },
  {
   "cell_type": "markdown",
   "metadata": {},
   "source": [
    "<font color='darkblue'>There are not too many missing values, unlikely causing serious problems. We fill the NAs in order to make sure that we have a perfect balanced dataset."
   ]
  },
  {
   "cell_type": "code",
   "execution_count": 269,
   "metadata": {},
   "outputs": [
    {
     "name": "stdout",
     "output_type": "stream",
     "text": [
      "<class 'pandas.core.frame.DataFrame'>\n",
      "Int64Index: 11000 entries, 0 to 10999\n",
      "Data columns (total 25 columns):\n",
      " #   Column                 Non-Null Count  Dtype  \n",
      "---  ------                 --------------  -----  \n",
      " 0   funded_amnt            11000 non-null  float64\n",
      " 1   term                   11000 non-null  int64  \n",
      " 2   int_rate               11000 non-null  float64\n",
      " 3   installment            11000 non-null  float64\n",
      " 4   annual_inc             11000 non-null  float64\n",
      " 5   loan_status            11000 non-null  int64  \n",
      " 6   dti                    11000 non-null  float64\n",
      " 7   open_acc               11000 non-null  float64\n",
      " 8   revol_util             11000 non-null  float64\n",
      " 9   last_pymnt_amnt        11000 non-null  float64\n",
      " 10  acc_open_past_24mths   11000 non-null  float64\n",
      " 11  avg_cur_bal            11000 non-null  float64\n",
      " 12  bc_open_to_buy         11000 non-null  float64\n",
      " 13  bc_util                11000 non-null  float64\n",
      " 14  mo_sin_old_rev_tl_op   11000 non-null  float64\n",
      " 15  mo_sin_rcnt_rev_tl_op  11000 non-null  float64\n",
      " 16  mort_acc               11000 non-null  float64\n",
      " 17  num_actv_rev_tl        11000 non-null  float64\n",
      " 18  fico_scores            11000 non-null  float64\n",
      " 19  sub_grade              11000 non-null  int64  \n",
      " 20  home_ownership         11000 non-null  int64  \n",
      " 21  verification_status    11000 non-null  int64  \n",
      " 22  title                  11000 non-null  int64  \n",
      " 23  addr_state             11000 non-null  int64  \n",
      " 24  initial_list_status    11000 non-null  int64  \n",
      "dtypes: float64(17), int64(8)\n",
      "memory usage: 2.2 MB\n"
     ]
    }
   ],
   "source": [
    "# Fill the NA with the previous value\n",
    "loans_new = loans_new.fillna(method='ffill')\n",
    "loans_new.info()"
   ]
  },
  {
   "cell_type": "markdown",
   "metadata": {},
   "source": [
    "<a id='4'></a>\n",
    "# 5. Evaluate Algorithms and Models"
   ]
  },
  {
   "cell_type": "markdown",
   "metadata": {},
   "source": [
    "<a id='4.1'></a>\n",
    "## 5.1. Train Test Split"
   ]
  },
  {
   "cell_type": "markdown",
   "metadata": {},
   "source": [
    "### Use an 80:20 split"
   ]
  },
  {
   "cell_type": "code",
   "execution_count": 270,
   "metadata": {},
   "outputs": [],
   "source": [
    "# Split the target feature\n",
    "loans_features = loans_new.drop(['loan_status'],axis=1)\n",
    "loans_target = loans_new[['loan_status']]"
   ]
  },
  {
   "cell_type": "code",
   "execution_count": 271,
   "metadata": {},
   "outputs": [],
   "source": [
    "# train-test split as required\n",
    "X_train,X_test,y_train,y_test = train_test_split(loans_features,loans_target,test_size=0.2, random_state=111)"
   ]
  },
  {
   "cell_type": "code",
   "execution_count": 272,
   "metadata": {},
   "outputs": [
    {
     "name": "stdout",
     "output_type": "stream",
     "text": [
      "(8800, 24)\n",
      "(8800, 1)\n"
     ]
    }
   ],
   "source": [
    "# Check training set shape\n",
    "print(X_train.shape)\n",
    "print(y_train.shape)"
   ]
  },
  {
   "cell_type": "code",
   "execution_count": 273,
   "metadata": {},
   "outputs": [
    {
     "name": "stdout",
     "output_type": "stream",
     "text": [
      "(2200, 24)\n",
      "(2200, 1)\n"
     ]
    }
   ],
   "source": [
    "# Check testing set shape\n",
    "print(X_test.shape)\n",
    "print(y_test.shape)"
   ]
  },
  {
   "cell_type": "markdown",
   "metadata": {},
   "source": [
    "<a id='4.2'></a>\n",
    "## 5.2. Test Options and Evaluation Metrics\n"
   ]
  },
  {
   "cell_type": "markdown",
   "metadata": {},
   "source": [
    "### Use K-Folds cross validation with 10 folds and 'roc-auc' as your score."
   ]
  },
  {
   "cell_type": "code",
   "execution_count": 274,
   "metadata": {
    "_cell_guid": "5702bc31-06bf-8b6a-42de-366a6b3311a8"
   },
   "outputs": [],
   "source": [
    "# DO THIS HERE\n",
    "k_fold = KFold(n_splits=10)"
   ]
  },
  {
   "cell_type": "code",
   "execution_count": 275,
   "metadata": {},
   "outputs": [
    {
     "name": "stdout",
     "output_type": "stream",
     "text": [
      "(7920,) (880,)\n",
      "(7920,) (880,)\n",
      "(7920,) (880,)\n",
      "(7920,) (880,)\n",
      "(7920,) (880,)\n",
      "(7920,) (880,)\n",
      "(7920,) (880,)\n",
      "(7920,) (880,)\n",
      "(7920,) (880,)\n",
      "(7920,) (880,)\n"
     ]
    }
   ],
   "source": [
    "# Obtain 10 folds through KFold split\n",
    "for train, test in k_fold.split(X_train):\n",
    "    print(train.shape,test.shape)"
   ]
  },
  {
   "cell_type": "markdown",
   "metadata": {},
   "source": [
    "<a id='4.3'></a>\n",
    "## 5.3. Compare Models and Algorithms"
   ]
  },
  {
   "cell_type": "markdown",
   "metadata": {},
   "source": [
    "### Use a wide range of classification models. I have added them below to a Python list."
   ]
  },
  {
   "cell_type": "code",
   "execution_count": 276,
   "metadata": {
    "_cell_guid": "772802f7-f4e4-84ee-6377-6464ab2e5da4"
   },
   "outputs": [],
   "source": [
    "# Spot check the algorithms\n",
    "models = []\n",
    "models.append(('LR', LogisticRegression(random_state=111)))\n",
    "models.append(('KNN', KNeighborsClassifier()))\n",
    "models.append(('DT', DecisionTreeClassifier(random_state=111)))\n",
    "models.append(('NB', GaussianNB()))\n",
    "# Neural Network\n",
    "models.append(('NN', MLPClassifier(random_state=111)))\n",
    "# Boosting methods\n",
    "models.append(('AB',AdaBoostClassifier(random_state=111)))\n",
    "# Bagging methods\n",
    "models.append(('RF', RandomForestClassifier(random_state=111)))"
   ]
  },
  {
   "cell_type": "markdown",
   "metadata": {},
   "source": [
    "### K-folds cross validation"
   ]
  },
  {
   "cell_type": "code",
   "execution_count": 277,
   "metadata": {},
   "outputs": [],
   "source": [
    "from sklearn.metrics import roc_curve,auc,roc_auc_score"
   ]
  },
  {
   "cell_type": "markdown",
   "metadata": {},
   "source": [
    "<font color='darkblue'>The dataset we currently have is a not scaled dataset. We are concerned that the scaling could have some impact especially on the Logistic Regression, KNN and Neural Network. We decided to do two sets of classification in order to capture the impact of feature scaling for our dataset."
   ]
  },
  {
   "cell_type": "markdown",
   "metadata": {},
   "source": [
    "### Cross-Validation with Unscaled Dataset"
   ]
  },
  {
   "cell_type": "code",
   "execution_count": 278,
   "metadata": {},
   "outputs": [
    {
     "name": "stdout",
     "output_type": "stream",
     "text": [
      "---------------------------------------------------- \n",
      "\n",
      "<class 'sklearn.linear_model._logistic.LogisticRegression'>\n",
      "AUC Score =  [0.90291904 0.87339614 0.88299862 0.87408314 0.86808612 0.8871361\n",
      " 0.9005403  0.86331329 0.87037955 0.87126284] \n",
      "\n",
      "---------------------------------------------------- \n",
      "\n",
      "<class 'sklearn.neighbors._classification.KNeighborsClassifier'>\n",
      "AUC Score =  [0.81292519 0.77605426 0.78449193 0.78034412 0.80587667 0.80871506\n",
      " 0.78826525 0.78104403 0.78677245 0.76433656] \n",
      "\n",
      "---------------------------------------------------- \n",
      "\n",
      "<class 'sklearn.tree._classes.DecisionTreeClassifier'>\n",
      "AUC Score =  [0.81228208 0.79197401 0.79650923 0.79666419 0.80335854 0.81589496\n",
      " 0.80350317 0.77379181 0.78626625 0.78750077] \n",
      "\n",
      "---------------------------------------------------- \n",
      "\n",
      "<class 'sklearn.naive_bayes.GaussianNB'>\n",
      "AUC Score =  [0.90716511 0.8924203  0.90375834 0.88917643 0.90045249 0.9062274\n",
      " 0.91133598 0.88082398 0.88992541 0.89505465] \n",
      "\n",
      "---------------------------------------------------- \n",
      "\n",
      "<class 'sklearn.neural_network._multilayer_perceptron.MLPClassifier'>\n",
      "AUC Score =  [0.87999959 0.87321794 0.81213971 0.8282635  0.86117998 0.80071386\n",
      " 0.90997748 0.8652968  0.79708517 0.8626108 ] \n",
      "\n",
      "---------------------------------------------------- \n",
      "\n",
      "<class 'sklearn.ensemble._weight_boosting.AdaBoostClassifier'>\n",
      "AUC Score =  [0.93161097 0.9271705  0.93129249 0.91911248 0.92605994 0.93775698\n",
      " 0.93994969 0.91249303 0.9222143  0.92992624] \n",
      "\n",
      "---------------------------------------------------- \n",
      "\n",
      "<class 'sklearn.ensemble._forest.RandomForestClassifier'>\n",
      "AUC Score =  [0.93657763 0.92131552 0.92815192 0.93150943 0.92524897 0.93925494\n",
      " 0.93747288 0.91598483 0.92412808 0.9256932 ] \n",
      "\n",
      "---------------------------------------------------- \n",
      "\n"
     ]
    }
   ],
   "source": [
    "# Do a 10-fold cross validation using roc_auc score, print the results\n",
    "result = {}\n",
    "for model in models:\n",
    "\n",
    "    print(\"----------------------------------------------------\",\"\\n\")    \n",
    "    print(model[1].__class__)         \n",
    "    scores = cross_val_score(model[1],X_train,y_train,cv=10,scoring=\"roc_auc\")\n",
    "    result[model[0]] = scores\n",
    "    print(\"AUC Score = \", scores,\"\\n\")\n",
    "        \n",
    "print(\"----------------------------------------------------\",\"\\n\")"
   ]
  },
  {
   "cell_type": "markdown",
   "metadata": {},
   "source": [
    "#### Plot a model comparison using a BoxPlot to capture the range of values coming from the K Folds for each model"
   ]
  },
  {
   "cell_type": "code",
   "execution_count": 279,
   "metadata": {},
   "outputs": [
    {
     "data": {
      "text/html": [
       "<div>\n",
       "<style scoped>\n",
       "    .dataframe tbody tr th:only-of-type {\n",
       "        vertical-align: middle;\n",
       "    }\n",
       "\n",
       "    .dataframe tbody tr th {\n",
       "        vertical-align: top;\n",
       "    }\n",
       "\n",
       "    .dataframe thead th {\n",
       "        text-align: right;\n",
       "    }\n",
       "</style>\n",
       "<table border=\"1\" class=\"dataframe\">\n",
       "  <thead>\n",
       "    <tr style=\"text-align: right;\">\n",
       "      <th></th>\n",
       "      <th>LR</th>\n",
       "      <th>KNN</th>\n",
       "      <th>DT</th>\n",
       "      <th>NB</th>\n",
       "      <th>NN</th>\n",
       "      <th>AB</th>\n",
       "      <th>RF</th>\n",
       "    </tr>\n",
       "  </thead>\n",
       "  <tbody>\n",
       "    <tr>\n",
       "      <th>0</th>\n",
       "      <td>0.902919</td>\n",
       "      <td>0.812925</td>\n",
       "      <td>0.812282</td>\n",
       "      <td>0.907165</td>\n",
       "      <td>0.880000</td>\n",
       "      <td>0.931611</td>\n",
       "      <td>0.936578</td>\n",
       "    </tr>\n",
       "    <tr>\n",
       "      <th>1</th>\n",
       "      <td>0.873396</td>\n",
       "      <td>0.776054</td>\n",
       "      <td>0.791974</td>\n",
       "      <td>0.892420</td>\n",
       "      <td>0.873218</td>\n",
       "      <td>0.927170</td>\n",
       "      <td>0.921316</td>\n",
       "    </tr>\n",
       "    <tr>\n",
       "      <th>2</th>\n",
       "      <td>0.882999</td>\n",
       "      <td>0.784492</td>\n",
       "      <td>0.796509</td>\n",
       "      <td>0.903758</td>\n",
       "      <td>0.812140</td>\n",
       "      <td>0.931292</td>\n",
       "      <td>0.928152</td>\n",
       "    </tr>\n",
       "    <tr>\n",
       "      <th>3</th>\n",
       "      <td>0.874083</td>\n",
       "      <td>0.780344</td>\n",
       "      <td>0.796664</td>\n",
       "      <td>0.889176</td>\n",
       "      <td>0.828263</td>\n",
       "      <td>0.919112</td>\n",
       "      <td>0.931509</td>\n",
       "    </tr>\n",
       "    <tr>\n",
       "      <th>4</th>\n",
       "      <td>0.868086</td>\n",
       "      <td>0.805877</td>\n",
       "      <td>0.803359</td>\n",
       "      <td>0.900452</td>\n",
       "      <td>0.861180</td>\n",
       "      <td>0.926060</td>\n",
       "      <td>0.925249</td>\n",
       "    </tr>\n",
       "    <tr>\n",
       "      <th>5</th>\n",
       "      <td>0.887136</td>\n",
       "      <td>0.808715</td>\n",
       "      <td>0.815895</td>\n",
       "      <td>0.906227</td>\n",
       "      <td>0.800714</td>\n",
       "      <td>0.937757</td>\n",
       "      <td>0.939255</td>\n",
       "    </tr>\n",
       "    <tr>\n",
       "      <th>6</th>\n",
       "      <td>0.900540</td>\n",
       "      <td>0.788265</td>\n",
       "      <td>0.803503</td>\n",
       "      <td>0.911336</td>\n",
       "      <td>0.909977</td>\n",
       "      <td>0.939950</td>\n",
       "      <td>0.937473</td>\n",
       "    </tr>\n",
       "    <tr>\n",
       "      <th>7</th>\n",
       "      <td>0.863313</td>\n",
       "      <td>0.781044</td>\n",
       "      <td>0.773792</td>\n",
       "      <td>0.880824</td>\n",
       "      <td>0.865297</td>\n",
       "      <td>0.912493</td>\n",
       "      <td>0.915985</td>\n",
       "    </tr>\n",
       "    <tr>\n",
       "      <th>8</th>\n",
       "      <td>0.870380</td>\n",
       "      <td>0.786772</td>\n",
       "      <td>0.786266</td>\n",
       "      <td>0.889925</td>\n",
       "      <td>0.797085</td>\n",
       "      <td>0.922214</td>\n",
       "      <td>0.924128</td>\n",
       "    </tr>\n",
       "    <tr>\n",
       "      <th>9</th>\n",
       "      <td>0.871263</td>\n",
       "      <td>0.764337</td>\n",
       "      <td>0.787501</td>\n",
       "      <td>0.895055</td>\n",
       "      <td>0.862611</td>\n",
       "      <td>0.929926</td>\n",
       "      <td>0.925693</td>\n",
       "    </tr>\n",
       "  </tbody>\n",
       "</table>\n",
       "</div>"
      ],
      "text/plain": [
       "         LR       KNN        DT        NB        NN        AB        RF\n",
       "0  0.902919  0.812925  0.812282  0.907165  0.880000  0.931611  0.936578\n",
       "1  0.873396  0.776054  0.791974  0.892420  0.873218  0.927170  0.921316\n",
       "2  0.882999  0.784492  0.796509  0.903758  0.812140  0.931292  0.928152\n",
       "3  0.874083  0.780344  0.796664  0.889176  0.828263  0.919112  0.931509\n",
       "4  0.868086  0.805877  0.803359  0.900452  0.861180  0.926060  0.925249\n",
       "5  0.887136  0.808715  0.815895  0.906227  0.800714  0.937757  0.939255\n",
       "6  0.900540  0.788265  0.803503  0.911336  0.909977  0.939950  0.937473\n",
       "7  0.863313  0.781044  0.773792  0.880824  0.865297  0.912493  0.915985\n",
       "8  0.870380  0.786772  0.786266  0.889925  0.797085  0.922214  0.924128\n",
       "9  0.871263  0.764337  0.787501  0.895055  0.862611  0.929926  0.925693"
      ]
     },
     "execution_count": 279,
     "metadata": {},
     "output_type": "execute_result"
    }
   ],
   "source": [
    "df_auc = pd.DataFrame(result)\n",
    "df_auc"
   ]
  },
  {
   "cell_type": "code",
   "execution_count": 280,
   "metadata": {},
   "outputs": [
    {
     "data": {
      "image/png": "[encoded data removed]",
      "text/plain": [
       "<Figure size 432x288 with 1 Axes>"
      ]
     },
     "metadata": {
      "needs_background": "light"
     },
     "output_type": "display_data"
    }
   ],
   "source": [
    "# Boxplot to capture the range of values for each model\n",
    "sns.boxplot(data=df_auc, orient=\"h\", palette=\"Set2\").set_title('AUC Score Boxplot');"
   ]
  },
  {
   "cell_type": "markdown",
   "metadata": {},
   "source": [
    "<font color='darkblue'>As we can see from the boxplot above, when applying on unscaled data, the RnadomForestClassifier algorithm has best AUC score, while the KNN is the worst model in terms of AUC score. We believe that it is mainly because the model needs feature scalling and we will work on this point afterwards."
   ]
  },
  {
   "cell_type": "code",
   "execution_count": 281,
   "metadata": {},
   "outputs": [
    {
     "data": {
      "text/plain": [
       "LR     0.879412\n",
       "KNN    0.788883\n",
       "DT     0.796775\n",
       "NB     0.897634\n",
       "NN     0.849048\n",
       "AB     0.927759\n",
       "RF     0.928534\n",
       "dtype: float64"
      ]
     },
     "execution_count": 281,
     "metadata": {},
     "output_type": "execute_result"
    }
   ],
   "source": [
    "# Average AUC score of models cross validation\n",
    "df_auc.mean()"
   ]
  },
  {
   "cell_type": "markdown",
   "metadata": {},
   "source": [
    "### Cross-Validate with standardized dataset and rerun the all the models to see the differences"
   ]
  },
  {
   "cell_type": "code",
   "execution_count": 282,
   "metadata": {},
   "outputs": [],
   "source": [
    "# Standardize the dataset\n",
    "from sklearn.preprocessing import StandardScaler\n",
    "df_feature_std = pd.DataFrame()\n",
    "for i in range(len(loans_new.columns)):\n",
    "    scale = StandardScaler().fit_transform(loans_new[[loans_new.columns[i]]])\n",
    "    scale = pd.DataFrame(scale,columns=[loans_new.columns[i]])\n",
    "    df_feature_std = pd.concat([df_feature_std, scale],axis=1)"
   ]
  },
  {
   "cell_type": "code",
   "execution_count": 283,
   "metadata": {},
   "outputs": [
    {
     "name": "stdout",
     "output_type": "stream",
     "text": [
      "(8800, 24)\n",
      "(2200, 24)\n",
      "(8800, 1)\n",
      "(2200, 1)\n"
     ]
    }
   ],
   "source": [
    "# Repeat the train test split on the standardized dataset\n",
    "loan_fts = df_feature_std.drop(['loan_status'],axis=1)\n",
    "loans_sts = df_feature_std[['loan_status']].replace({'loan_status': {-1: 0}}) # We keep the labels as they were\n",
    "x_train,x_test,Y_train,Y_test = train_test_split(loan_fts,loans_sts,test_size=0.2, random_state=111)\n",
    "\n",
    "# Check the shape\n",
    "print(x_train.shape)\n",
    "print(x_test.shape)\n",
    "print(Y_train.shape)\n",
    "print(Y_test.shape)"
   ]
  },
  {
   "cell_type": "markdown",
   "metadata": {},
   "source": [
    "<font color='darkblue'>Use Standardized data to run all models."
   ]
  },
  {
   "cell_type": "code",
   "execution_count": 284,
   "metadata": {},
   "outputs": [
    {
     "name": "stdout",
     "output_type": "stream",
     "text": [
      "---------------------------------------------------- \n",
      "\n",
      "<class 'sklearn.linear_model._logistic.LogisticRegression'>\n",
      "AUC Score =  [0.9208331  0.91589702 0.92194054 0.91820595 0.91657369 0.92254489\n",
      " 0.9380669  0.9029887  0.91221926 0.91619145] \n",
      "\n",
      "---------------------------------------------------- \n",
      "\n",
      "<class 'sklearn.neighbors._classification.KNeighborsClassifier'>\n",
      "AUC Score =  [0.81476928 0.80897591 0.80480485 0.80444069 0.79901186 0.81640375\n",
      " 0.83986239 0.76668165 0.80381051 0.79281338] \n",
      "\n",
      "---------------------------------------------------- \n",
      "\n",
      "<class 'sklearn.tree._classes.DecisionTreeClassifier'>\n",
      "AUC Score =  [0.81228208 0.79311556 0.79650923 0.79438108 0.80450009 0.81589496\n",
      " 0.80350317 0.77379181 0.78626625 0.78750077] \n",
      "\n",
      "---------------------------------------------------- \n",
      "\n",
      "<class 'sklearn.naive_bayes.GaussianNB'>\n",
      "AUC Score =  [0.9062973  0.89205355 0.90280274 0.88950185 0.89898035 0.90842786\n",
      " 0.91230191 0.88094795 0.88875287 0.89531292] \n",
      "\n",
      "---------------------------------------------------- \n",
      "\n",
      "<class 'sklearn.neural_network._multilayer_perceptron.MLPClassifier'>\n",
      "AUC Score =  [0.91978966 0.90574185 0.9074671  0.90462096 0.89771483 0.90785967\n",
      " 0.92185272 0.88681068 0.90196078 0.90307134] \n",
      "\n",
      "---------------------------------------------------- \n",
      "\n",
      "<class 'sklearn.ensemble._weight_boosting.AdaBoostClassifier'>\n",
      "AUC Score =  [0.93156965 0.9271705  0.93129249 0.91911248 0.92605994 0.93775698\n",
      " 0.93994969 0.91249303 0.9222143  0.92992624] \n",
      "\n",
      "---------------------------------------------------- \n",
      "\n",
      "<class 'sklearn.ensemble._forest.RandomForestClassifier'>\n",
      "AUC Score =  [0.93656213 0.92151697 0.92800988 0.93165148 0.92524122 0.93916197\n",
      " 0.93764334 0.91607006 0.92447675 0.92568287] \n",
      "\n",
      "---------------------------------------------------- \n",
      "\n"
     ]
    }
   ],
   "source": [
    "# Do a 10-fold cross validation using roc_auc score, print the results\n",
    "result = {}\n",
    "for model in models:\n",
    "\n",
    "    print(\"----------------------------------------------------\",\"\\n\")    \n",
    "    print(model[1].__class__)         \n",
    "    scores = cross_val_score(model[1],x_train,Y_train,cv=10,scoring=\"roc_auc\")\n",
    "    result[model[0]] = scores\n",
    "    print(\"AUC Score = \", scores,\"\\n\")\n",
    "        \n",
    "print(\"----------------------------------------------------\",\"\\n\")"
   ]
  },
  {
   "cell_type": "code",
   "execution_count": 285,
   "metadata": {},
   "outputs": [
    {
     "data": {
      "text/html": [
       "<div>\n",
       "<style scoped>\n",
       "    .dataframe tbody tr th:only-of-type {\n",
       "        vertical-align: middle;\n",
       "    }\n",
       "\n",
       "    .dataframe tbody tr th {\n",
       "        vertical-align: top;\n",
       "    }\n",
       "\n",
       "    .dataframe thead th {\n",
       "        text-align: right;\n",
       "    }\n",
       "</style>\n",
       "<table border=\"1\" class=\"dataframe\">\n",
       "  <thead>\n",
       "    <tr style=\"text-align: right;\">\n",
       "      <th></th>\n",
       "      <th>LR</th>\n",
       "      <th>KNN</th>\n",
       "      <th>DT</th>\n",
       "      <th>NB</th>\n",
       "      <th>NN</th>\n",
       "      <th>AB</th>\n",
       "      <th>RF</th>\n",
       "    </tr>\n",
       "  </thead>\n",
       "  <tbody>\n",
       "    <tr>\n",
       "      <th>0</th>\n",
       "      <td>0.920833</td>\n",
       "      <td>0.814769</td>\n",
       "      <td>0.812282</td>\n",
       "      <td>0.906297</td>\n",
       "      <td>0.919790</td>\n",
       "      <td>0.931570</td>\n",
       "      <td>0.936562</td>\n",
       "    </tr>\n",
       "    <tr>\n",
       "      <th>1</th>\n",
       "      <td>0.915897</td>\n",
       "      <td>0.808976</td>\n",
       "      <td>0.793116</td>\n",
       "      <td>0.892054</td>\n",
       "      <td>0.905742</td>\n",
       "      <td>0.927170</td>\n",
       "      <td>0.921517</td>\n",
       "    </tr>\n",
       "    <tr>\n",
       "      <th>2</th>\n",
       "      <td>0.921941</td>\n",
       "      <td>0.804805</td>\n",
       "      <td>0.796509</td>\n",
       "      <td>0.902803</td>\n",
       "      <td>0.907467</td>\n",
       "      <td>0.931292</td>\n",
       "      <td>0.928010</td>\n",
       "    </tr>\n",
       "    <tr>\n",
       "      <th>3</th>\n",
       "      <td>0.918206</td>\n",
       "      <td>0.804441</td>\n",
       "      <td>0.794381</td>\n",
       "      <td>0.889502</td>\n",
       "      <td>0.904621</td>\n",
       "      <td>0.919112</td>\n",
       "      <td>0.931651</td>\n",
       "    </tr>\n",
       "    <tr>\n",
       "      <th>4</th>\n",
       "      <td>0.916574</td>\n",
       "      <td>0.799012</td>\n",
       "      <td>0.804500</td>\n",
       "      <td>0.898980</td>\n",
       "      <td>0.897715</td>\n",
       "      <td>0.926060</td>\n",
       "      <td>0.925241</td>\n",
       "    </tr>\n",
       "    <tr>\n",
       "      <th>5</th>\n",
       "      <td>0.922545</td>\n",
       "      <td>0.816404</td>\n",
       "      <td>0.815895</td>\n",
       "      <td>0.908428</td>\n",
       "      <td>0.907860</td>\n",
       "      <td>0.937757</td>\n",
       "      <td>0.939162</td>\n",
       "    </tr>\n",
       "    <tr>\n",
       "      <th>6</th>\n",
       "      <td>0.938067</td>\n",
       "      <td>0.839862</td>\n",
       "      <td>0.803503</td>\n",
       "      <td>0.912302</td>\n",
       "      <td>0.921853</td>\n",
       "      <td>0.939950</td>\n",
       "      <td>0.937643</td>\n",
       "    </tr>\n",
       "    <tr>\n",
       "      <th>7</th>\n",
       "      <td>0.902989</td>\n",
       "      <td>0.766682</td>\n",
       "      <td>0.773792</td>\n",
       "      <td>0.880948</td>\n",
       "      <td>0.886811</td>\n",
       "      <td>0.912493</td>\n",
       "      <td>0.916070</td>\n",
       "    </tr>\n",
       "    <tr>\n",
       "      <th>8</th>\n",
       "      <td>0.912219</td>\n",
       "      <td>0.803811</td>\n",
       "      <td>0.786266</td>\n",
       "      <td>0.888753</td>\n",
       "      <td>0.901961</td>\n",
       "      <td>0.922214</td>\n",
       "      <td>0.924477</td>\n",
       "    </tr>\n",
       "    <tr>\n",
       "      <th>9</th>\n",
       "      <td>0.916191</td>\n",
       "      <td>0.792813</td>\n",
       "      <td>0.787501</td>\n",
       "      <td>0.895313</td>\n",
       "      <td>0.903071</td>\n",
       "      <td>0.929926</td>\n",
       "      <td>0.925683</td>\n",
       "    </tr>\n",
       "  </tbody>\n",
       "</table>\n",
       "</div>"
      ],
      "text/plain": [
       "         LR       KNN        DT        NB        NN        AB        RF\n",
       "0  0.920833  0.814769  0.812282  0.906297  0.919790  0.931570  0.936562\n",
       "1  0.915897  0.808976  0.793116  0.892054  0.905742  0.927170  0.921517\n",
       "2  0.921941  0.804805  0.796509  0.902803  0.907467  0.931292  0.928010\n",
       "3  0.918206  0.804441  0.794381  0.889502  0.904621  0.919112  0.931651\n",
       "4  0.916574  0.799012  0.804500  0.898980  0.897715  0.926060  0.925241\n",
       "5  0.922545  0.816404  0.815895  0.908428  0.907860  0.937757  0.939162\n",
       "6  0.938067  0.839862  0.803503  0.912302  0.921853  0.939950  0.937643\n",
       "7  0.902989  0.766682  0.773792  0.880948  0.886811  0.912493  0.916070\n",
       "8  0.912219  0.803811  0.786266  0.888753  0.901961  0.922214  0.924477\n",
       "9  0.916191  0.792813  0.787501  0.895313  0.903071  0.929926  0.925683"
      ]
     },
     "execution_count": 285,
     "metadata": {},
     "output_type": "execute_result"
    }
   ],
   "source": [
    "pd.DataFrame(result)"
   ]
  },
  {
   "cell_type": "code",
   "execution_count": 286,
   "metadata": {},
   "outputs": [
    {
     "data": {
      "image/png": "[encoded data removed]",
      "text/plain": [
       "<Figure size 432x288 with 1 Axes>"
      ]
     },
     "metadata": {
      "needs_background": "light"
     },
     "output_type": "display_data"
    }
   ],
   "source": [
    "df_auc_new =  pd.DataFrame(result)\n",
    "sns.boxplot(data=df_auc_new, orient=\"h\", palette=\"Set2\").set_title('AUC Score Boxplot - standardized features');"
   ]
  },
  {
   "cell_type": "code",
   "execution_count": 287,
   "metadata": {},
   "outputs": [
    {
     "data": {
      "text/plain": [
       "LR     0.918546\n",
       "KNN    0.805157\n",
       "DT     0.796775\n",
       "NB     0.897538\n",
       "NN     0.905689\n",
       "AB     0.927755\n",
       "RF     0.928602\n",
       "dtype: float64"
      ]
     },
     "execution_count": 287,
     "metadata": {},
     "output_type": "execute_result"
    }
   ],
   "source": [
    "df_auc_new.mean()"
   ]
  },
  {
   "cell_type": "code",
   "execution_count": 288,
   "metadata": {},
   "outputs": [
    {
     "data": {
      "text/plain": [
       "LR     0.039135\n",
       "KNN    0.016275\n",
       "DT     0.000000\n",
       "NB    -0.000096\n",
       "NN     0.056640\n",
       "AB    -0.000004\n",
       "RF     0.000068\n",
       "dtype: float64"
      ]
     },
     "execution_count": 288,
     "metadata": {},
     "output_type": "execute_result"
    }
   ],
   "source": [
    "# Let's check the difference before and after the standardization\n",
    "df_auc_new.mean()-df_auc.mean()"
   ]
  },
  {
   "cell_type": "markdown",
   "metadata": {},
   "source": [
    "<font color = 'darkblue'> After the standardization, Logistic model,KNN model and Neural network model perform much better. RandomForest model continues to be the best model."
   ]
  },
  {
   "cell_type": "markdown",
   "metadata": {},
   "source": [
    "<a id='5'></a>\n",
    "# 6. Model Tuning and Grid Search"
   ]
  },
  {
   "cell_type": "markdown",
   "metadata": {
    "_cell_guid": "848ca488-b0fd-8e93-2e68-23d32c71d89c"
   },
   "source": [
    "### Choose the best model and do some hyperparameter tuning by looping over the hyper parameters of the model to fine-tune the model. "
   ]
  },
  {
   "cell_type": "markdown",
   "metadata": {},
   "source": [
    "<font color='darkblue'>We can see from the boxplot, the RandomForest model shows highest average auc score."
   ]
  },
  {
   "cell_type": "code",
   "execution_count": 302,
   "metadata": {},
   "outputs": [],
   "source": [
    "best_model = RandomForestClassifier(random_state=111)\n",
    "parameters = {'n_estimators':[100,150,200,300],'max_leaf_nodes':[10,20,30,40] }"
   ]
  },
  {
   "cell_type": "code",
   "execution_count": 303,
   "metadata": {
    "scrolled": true
   },
   "outputs": [
    {
     "name": "stdout",
     "output_type": "stream",
     "text": [
      "Fitting 5 folds for each of 16 candidates, totalling 80 fits\n",
      "[CV] max_leaf_nodes=10, n_estimators=100 .............................\n"
     ]
    },
    {
     "name": "stderr",
     "output_type": "stream",
     "text": [
      "[Parallel(n_jobs=1)]: Using backend SequentialBackend with 1 concurrent workers.\n"
     ]
    },
    {
     "name": "stdout",
     "output_type": "stream",
     "text": [
      "[CV]  max_leaf_nodes=10, n_estimators=100, score=(train=0.925, test=0.920), total=   0.6s\n",
      "[CV] max_leaf_nodes=10, n_estimators=100 .............................\n"
     ]
    },
    {
     "name": "stderr",
     "output_type": "stream",
     "text": [
      "[Parallel(n_jobs=1)]: Done   1 out of   1 | elapsed:    0.7s remaining:    0.0s\n"
     ]
    },
    {
     "name": "stdout",
     "output_type": "stream",
     "text": [
      "[CV]  max_leaf_nodes=10, n_estimators=100, score=(train=0.924, test=0.921), total=   0.6s\n",
      "[CV] max_leaf_nodes=10, n_estimators=100 .............................\n"
     ]
    },
    {
     "name": "stderr",
     "output_type": "stream",
     "text": [
      "[Parallel(n_jobs=1)]: Done   2 out of   2 | elapsed:    1.3s remaining:    0.0s\n"
     ]
    },
    {
     "name": "stdout",
     "output_type": "stream",
     "text": [
      "[CV]  max_leaf_nodes=10, n_estimators=100, score=(train=0.924, test=0.922), total=   0.7s\n",
      "[CV] max_leaf_nodes=10, n_estimators=100 .............................\n",
      "[CV]  max_leaf_nodes=10, n_estimators=100, score=(train=0.926, test=0.917), total=   0.6s\n",
      "[CV] max_leaf_nodes=10, n_estimators=100 .............................\n",
      "[CV]  max_leaf_nodes=10, n_estimators=100, score=(train=0.924, test=0.915), total=   0.6s\n",
      "[CV] max_leaf_nodes=10, n_estimators=150 .............................\n",
      "[CV]  max_leaf_nodes=10, n_estimators=150, score=(train=0.925, test=0.920), total=   0.8s\n",
      "[CV] max_leaf_nodes=10, n_estimators=150 .............................\n",
      "[CV]  max_leaf_nodes=10, n_estimators=150, score=(train=0.924, test=0.920), total=   0.9s\n",
      "[CV] max_leaf_nodes=10, n_estimators=150 .............................\n",
      "[CV]  max_leaf_nodes=10, n_estimators=150, score=(train=0.924, test=0.922), total=   0.8s\n",
      "[CV] max_leaf_nodes=10, n_estimators=150 .............................\n",
      "[CV]  max_leaf_nodes=10, n_estimators=150, score=(train=0.926, test=0.917), total=   0.8s\n",
      "[CV] max_leaf_nodes=10, n_estimators=150 .............................\n",
      "[CV]  max_leaf_nodes=10, n_estimators=150, score=(train=0.924, test=0.917), total=   0.8s\n",
      "[CV] max_leaf_nodes=10, n_estimators=200 .............................\n",
      "[CV]  max_leaf_nodes=10, n_estimators=200, score=(train=0.927, test=0.922), total=   1.1s\n",
      "[CV] max_leaf_nodes=10, n_estimators=200 .............................\n",
      "[CV]  max_leaf_nodes=10, n_estimators=200, score=(train=0.926, test=0.921), total=   1.1s\n",
      "[CV] max_leaf_nodes=10, n_estimators=200 .............................\n",
      "[CV]  max_leaf_nodes=10, n_estimators=200, score=(train=0.925, test=0.923), total=   1.1s\n",
      "[CV] max_leaf_nodes=10, n_estimators=200 .............................\n",
      "[CV]  max_leaf_nodes=10, n_estimators=200, score=(train=0.927, test=0.918), total=   1.1s\n",
      "[CV] max_leaf_nodes=10, n_estimators=200 .............................\n",
      "[CV]  max_leaf_nodes=10, n_estimators=200, score=(train=0.927, test=0.919), total=   1.1s\n",
      "[CV] max_leaf_nodes=10, n_estimators=300 .............................\n",
      "[CV]  max_leaf_nodes=10, n_estimators=300, score=(train=0.927, test=0.922), total=   1.6s\n",
      "[CV] max_leaf_nodes=10, n_estimators=300 .............................\n",
      "[CV]  max_leaf_nodes=10, n_estimators=300, score=(train=0.926, test=0.922), total=   1.6s\n",
      "[CV] max_leaf_nodes=10, n_estimators=300 .............................\n",
      "[CV]  max_leaf_nodes=10, n_estimators=300, score=(train=0.925, test=0.923), total=   1.6s\n",
      "[CV] max_leaf_nodes=10, n_estimators=300 .............................\n",
      "[CV]  max_leaf_nodes=10, n_estimators=300, score=(train=0.927, test=0.918), total=   1.6s\n",
      "[CV] max_leaf_nodes=10, n_estimators=300 .............................\n",
      "[CV]  max_leaf_nodes=10, n_estimators=300, score=(train=0.927, test=0.920), total=   1.6s\n",
      "[CV] max_leaf_nodes=20, n_estimators=100 .............................\n",
      "[CV]  max_leaf_nodes=20, n_estimators=100, score=(train=0.933, test=0.923), total=   0.6s\n",
      "[CV] max_leaf_nodes=20, n_estimators=100 .............................\n",
      "[CV]  max_leaf_nodes=20, n_estimators=100, score=(train=0.934, test=0.924), total=   0.7s\n",
      "[CV] max_leaf_nodes=20, n_estimators=100 .............................\n",
      "[CV]  max_leaf_nodes=20, n_estimators=100, score=(train=0.933, test=0.926), total=   0.7s\n",
      "[CV] max_leaf_nodes=20, n_estimators=100 .............................\n",
      "[CV]  max_leaf_nodes=20, n_estimators=100, score=(train=0.934, test=0.922), total=   0.7s\n",
      "[CV] max_leaf_nodes=20, n_estimators=100 .............................\n",
      "[CV]  max_leaf_nodes=20, n_estimators=100, score=(train=0.933, test=0.919), total=   0.7s\n",
      "[CV] max_leaf_nodes=20, n_estimators=150 .............................\n",
      "[CV]  max_leaf_nodes=20, n_estimators=150, score=(train=0.933, test=0.923), total=   1.0s\n",
      "[CV] max_leaf_nodes=20, n_estimators=150 .............................\n",
      "[CV]  max_leaf_nodes=20, n_estimators=150, score=(train=0.934, test=0.924), total=   1.0s\n",
      "[CV] max_leaf_nodes=20, n_estimators=150 .............................\n",
      "[CV]  max_leaf_nodes=20, n_estimators=150, score=(train=0.933, test=0.926), total=   1.0s\n",
      "[CV] max_leaf_nodes=20, n_estimators=150 .............................\n",
      "[CV]  max_leaf_nodes=20, n_estimators=150, score=(train=0.934, test=0.922), total=   1.0s\n",
      "[CV] max_leaf_nodes=20, n_estimators=150 .............................\n",
      "[CV]  max_leaf_nodes=20, n_estimators=150, score=(train=0.934, test=0.920), total=   1.1s\n",
      "[CV] max_leaf_nodes=20, n_estimators=200 .............................\n",
      "[CV]  max_leaf_nodes=20, n_estimators=200, score=(train=0.935, test=0.925), total=   1.5s\n",
      "[CV] max_leaf_nodes=20, n_estimators=200 .............................\n",
      "[CV]  max_leaf_nodes=20, n_estimators=200, score=(train=0.934, test=0.924), total=   1.5s\n",
      "[CV] max_leaf_nodes=20, n_estimators=200 .............................\n",
      "[CV]  max_leaf_nodes=20, n_estimators=200, score=(train=0.934, test=0.927), total=   1.5s\n",
      "[CV] max_leaf_nodes=20, n_estimators=200 .............................\n",
      "[CV]  max_leaf_nodes=20, n_estimators=200, score=(train=0.935, test=0.922), total=   1.5s\n",
      "[CV] max_leaf_nodes=20, n_estimators=200 .............................\n",
      "[CV]  max_leaf_nodes=20, n_estimators=200, score=(train=0.935, test=0.921), total=   1.4s\n",
      "[CV] max_leaf_nodes=20, n_estimators=300 .............................\n",
      "[CV]  max_leaf_nodes=20, n_estimators=300, score=(train=0.934, test=0.925), total=   2.2s\n",
      "[CV] max_leaf_nodes=20, n_estimators=300 .............................\n",
      "[CV]  max_leaf_nodes=20, n_estimators=300, score=(train=0.934, test=0.924), total=   2.6s\n",
      "[CV] max_leaf_nodes=20, n_estimators=300 .............................\n",
      "[CV]  max_leaf_nodes=20, n_estimators=300, score=(train=0.933, test=0.927), total=   2.6s\n",
      "[CV] max_leaf_nodes=20, n_estimators=300 .............................\n",
      "[CV]  max_leaf_nodes=20, n_estimators=300, score=(train=0.935, test=0.921), total=   2.9s\n",
      "[CV] max_leaf_nodes=20, n_estimators=300 .............................\n",
      "[CV]  max_leaf_nodes=20, n_estimators=300, score=(train=0.935, test=0.922), total=   2.3s\n",
      "[CV] max_leaf_nodes=30, n_estimators=100 .............................\n",
      "[CV]  max_leaf_nodes=30, n_estimators=100, score=(train=0.940, test=0.925), total=   0.7s\n",
      "[CV] max_leaf_nodes=30, n_estimators=100 .............................\n",
      "[CV]  max_leaf_nodes=30, n_estimators=100, score=(train=0.940, test=0.925), total=   0.7s\n",
      "[CV] max_leaf_nodes=30, n_estimators=100 .............................\n",
      "[CV]  max_leaf_nodes=30, n_estimators=100, score=(train=0.939, test=0.928), total=   0.7s\n",
      "[CV] max_leaf_nodes=30, n_estimators=100 .............................\n",
      "[CV]  max_leaf_nodes=30, n_estimators=100, score=(train=0.940, test=0.924), total=   0.7s\n",
      "[CV] max_leaf_nodes=30, n_estimators=100 .............................\n",
      "[CV]  max_leaf_nodes=30, n_estimators=100, score=(train=0.940, test=0.921), total=   1.0s\n",
      "[CV] max_leaf_nodes=30, n_estimators=150 .............................\n",
      "[CV]  max_leaf_nodes=30, n_estimators=150, score=(train=0.940, test=0.926), total=   1.3s\n",
      "[CV] max_leaf_nodes=30, n_estimators=150 .............................\n",
      "[CV]  max_leaf_nodes=30, n_estimators=150, score=(train=0.940, test=0.925), total=   1.0s\n",
      "[CV] max_leaf_nodes=30, n_estimators=150 .............................\n",
      "[CV]  max_leaf_nodes=30, n_estimators=150, score=(train=0.939, test=0.929), total=   1.3s\n",
      "[CV] max_leaf_nodes=30, n_estimators=150 .............................\n",
      "[CV]  max_leaf_nodes=30, n_estimators=150, score=(train=0.940, test=0.923), total=   1.0s\n",
      "[CV] max_leaf_nodes=30, n_estimators=150 .............................\n",
      "[CV]  max_leaf_nodes=30, n_estimators=150, score=(train=0.940, test=0.922), total=   1.0s\n",
      "[CV] max_leaf_nodes=30, n_estimators=200 .............................\n",
      "[CV]  max_leaf_nodes=30, n_estimators=200, score=(train=0.941, test=0.927), total=   1.5s\n",
      "[CV] max_leaf_nodes=30, n_estimators=200 .............................\n",
      "[CV]  max_leaf_nodes=30, n_estimators=200, score=(train=0.941, test=0.925), total=   1.4s\n",
      "[CV] max_leaf_nodes=30, n_estimators=200 .............................\n",
      "[CV]  max_leaf_nodes=30, n_estimators=200, score=(train=0.939, test=0.929), total=   1.3s\n",
      "[CV] max_leaf_nodes=30, n_estimators=200 .............................\n",
      "[CV]  max_leaf_nodes=30, n_estimators=200, score=(train=0.941, test=0.924), total=   1.4s\n",
      "[CV] max_leaf_nodes=30, n_estimators=200 .............................\n",
      "[CV]  max_leaf_nodes=30, n_estimators=200, score=(train=0.941, test=0.923), total=   1.4s\n",
      "[CV] max_leaf_nodes=30, n_estimators=300 .............................\n",
      "[CV]  max_leaf_nodes=30, n_estimators=300, score=(train=0.940, test=0.927), total=   2.1s\n",
      "[CV] max_leaf_nodes=30, n_estimators=300 .............................\n",
      "[CV]  max_leaf_nodes=30, n_estimators=300, score=(train=0.940, test=0.925), total=   2.0s\n",
      "[CV] max_leaf_nodes=30, n_estimators=300 .............................\n",
      "[CV]  max_leaf_nodes=30, n_estimators=300, score=(train=0.939, test=0.929), total=   2.0s\n",
      "[CV] max_leaf_nodes=30, n_estimators=300 .............................\n",
      "[CV]  max_leaf_nodes=30, n_estimators=300, score=(train=0.941, test=0.923), total=   2.0s\n",
      "[CV] max_leaf_nodes=30, n_estimators=300 .............................\n",
      "[CV]  max_leaf_nodes=30, n_estimators=300, score=(train=0.941, test=0.923), total=   2.0s\n",
      "[CV] max_leaf_nodes=40, n_estimators=100 .............................\n",
      "[CV]  max_leaf_nodes=40, n_estimators=100, score=(train=0.945, test=0.925), total=   0.7s\n",
      "[CV] max_leaf_nodes=40, n_estimators=100 .............................\n",
      "[CV]  max_leaf_nodes=40, n_estimators=100, score=(train=0.944, test=0.925), total=   0.7s\n",
      "[CV] max_leaf_nodes=40, n_estimators=100 .............................\n",
      "[CV]  max_leaf_nodes=40, n_estimators=100, score=(train=0.944, test=0.930), total=   0.7s\n",
      "[CV] max_leaf_nodes=40, n_estimators=100 .............................\n",
      "[CV]  max_leaf_nodes=40, n_estimators=100, score=(train=0.945, test=0.925), total=   0.7s\n",
      "[CV] max_leaf_nodes=40, n_estimators=100 .............................\n",
      "[CV]  max_leaf_nodes=40, n_estimators=100, score=(train=0.945, test=0.922), total=   0.8s\n",
      "[CV] max_leaf_nodes=40, n_estimators=150 .............................\n",
      "[CV]  max_leaf_nodes=40, n_estimators=150, score=(train=0.945, test=0.926), total=   1.1s\n",
      "[CV] max_leaf_nodes=40, n_estimators=150 .............................\n",
      "[CV]  max_leaf_nodes=40, n_estimators=150, score=(train=0.945, test=0.925), total=   1.1s\n",
      "[CV] max_leaf_nodes=40, n_estimators=150 .............................\n",
      "[CV]  max_leaf_nodes=40, n_estimators=150, score=(train=0.944, test=0.930), total=   1.1s\n",
      "[CV] max_leaf_nodes=40, n_estimators=150 .............................\n",
      "[CV]  max_leaf_nodes=40, n_estimators=150, score=(train=0.945, test=0.925), total=   1.1s\n",
      "[CV] max_leaf_nodes=40, n_estimators=150 .............................\n",
      "[CV]  max_leaf_nodes=40, n_estimators=150, score=(train=0.945, test=0.922), total=   1.1s\n",
      "[CV] max_leaf_nodes=40, n_estimators=200 .............................\n",
      "[CV]  max_leaf_nodes=40, n_estimators=200, score=(train=0.946, test=0.927), total=   1.4s\n",
      "[CV] max_leaf_nodes=40, n_estimators=200 .............................\n",
      "[CV]  max_leaf_nodes=40, n_estimators=200, score=(train=0.946, test=0.925), total=   1.4s\n",
      "[CV] max_leaf_nodes=40, n_estimators=200 .............................\n",
      "[CV]  max_leaf_nodes=40, n_estimators=200, score=(train=0.945, test=0.930), total=   1.6s\n",
      "[CV] max_leaf_nodes=40, n_estimators=200 .............................\n",
      "[CV]  max_leaf_nodes=40, n_estimators=200, score=(train=0.946, test=0.925), total=   1.6s\n",
      "[CV] max_leaf_nodes=40, n_estimators=200 .............................\n",
      "[CV]  max_leaf_nodes=40, n_estimators=200, score=(train=0.946, test=0.923), total=   1.6s\n",
      "[CV] max_leaf_nodes=40, n_estimators=300 .............................\n",
      "[CV]  max_leaf_nodes=40, n_estimators=300, score=(train=0.945, test=0.927), total=   2.5s\n",
      "[CV] max_leaf_nodes=40, n_estimators=300 .............................\n",
      "[CV]  max_leaf_nodes=40, n_estimators=300, score=(train=0.945, test=0.926), total=   2.4s\n",
      "[CV] max_leaf_nodes=40, n_estimators=300 .............................\n",
      "[CV]  max_leaf_nodes=40, n_estimators=300, score=(train=0.944, test=0.930), total=   2.4s\n",
      "[CV] max_leaf_nodes=40, n_estimators=300 .............................\n",
      "[CV]  max_leaf_nodes=40, n_estimators=300, score=(train=0.946, test=0.925), total=   2.2s\n",
      "[CV] max_leaf_nodes=40, n_estimators=300 .............................\n",
      "[CV]  max_leaf_nodes=40, n_estimators=300, score=(train=0.946, test=0.923), total=   2.5s\n"
     ]
    },
    {
     "name": "stderr",
     "output_type": "stream",
     "text": [
      "[Parallel(n_jobs=1)]: Done  80 out of  80 | elapsed:  1.9min finished\n"
     ]
    },
    {
     "data": {
      "text/plain": [
       "GridSearchCV(estimator=RandomForestClassifier(random_state=111),\n",
       "             param_grid={'max_leaf_nodes': [10, 20, 30, 40],\n",
       "                         'n_estimators': [100, 150, 200, 300]},\n",
       "             return_train_score=True, scoring='roc_auc', verbose=3)"
      ]
     },
     "execution_count": 303,
     "metadata": {},
     "output_type": "execute_result"
    }
   ],
   "source": [
    "# Model tuning using grid search - original dataset not standardized\n",
    "grid = GridSearchCV(best_model, parameters, verbose=3,scoring='roc_auc',return_train_score=True) \n",
    "grid.fit(X_train,y_train)"
   ]
  },
  {
   "cell_type": "code",
   "execution_count": 304,
   "metadata": {},
   "outputs": [
    {
     "data": {
      "text/plain": [
       "{'max_leaf_nodes': 40, 'n_estimators': 300}"
      ]
     },
     "execution_count": 304,
     "metadata": {},
     "output_type": "execute_result"
    }
   ],
   "source": [
    "# Obtain the best parameter after tuning\n",
    "best_param = grid.best_params_\n",
    "best_param"
   ]
  },
  {
   "cell_type": "markdown",
   "metadata": {},
   "source": [
    "<a id='6'></a>\n",
    "# 7. Finalise the Model"
   ]
  },
  {
   "cell_type": "markdown",
   "metadata": {},
   "source": [
    "### Finalize Model with best parameters found during tuning step."
   ]
  },
  {
   "cell_type": "code",
   "execution_count": 305,
   "metadata": {},
   "outputs": [],
   "source": [
    "# Assign the best parameters to our final model\n",
    "final_model = RandomForestClassifier(max_leaf_nodes= best_param['max_leaf_nodes'], n_estimators= best_param['n_estimators'], random_state=111)"
   ]
  },
  {
   "cell_type": "markdown",
   "metadata": {},
   "source": [
    "<a id='6.1'></a>\n",
    "## 7.1. Results on the Test Dataset"
   ]
  },
  {
   "cell_type": "markdown",
   "metadata": {},
   "source": [
    "### Calculate the fine-tuned model results on the test dataset. Calculate accuracy, confusion matrix, the classification report."
   ]
  },
  {
   "cell_type": "code",
   "execution_count": 306,
   "metadata": {},
   "outputs": [
    {
     "name": "stdout",
     "output_type": "stream",
     "text": [
      "[[878 201]\n",
      " [124 997]]\n",
      "Test Accuracy: 0.852\n"
     ]
    },
    {
     "data": {
      "image/png": "[encoded data removed]",
      "text/plain": [
       "<Figure size 432x288 with 2 Axes>"
      ]
     },
     "metadata": {
      "needs_background": "light"
     },
     "output_type": "display_data"
    }
   ],
   "source": [
    "# Since the RandomForest Classifier has the best performance on both scaled and unscaled dataset, it does not matter too much on the dataset we chose.\n",
    "# Here we only use the scaled dataset to predict\n",
    "\n",
    "final_model.fit(x_train,Y_train)\n",
    "predictions = final_model.predict(x_test)\n",
    "cm = confusion_matrix(Y_test,predictions)\n",
    "print(cm)\n",
    "print('Test Accuracy: %.3f' % final_model.score(x_test, Y_test))\n",
    "plot_confusion_matrix(final_model, x_test, Y_test,cmap=mpl.cm.Blues);"
   ]
  },
  {
   "cell_type": "markdown",
   "metadata": {},
   "source": [
    "<font color = 'darkblue'> From the confusion matrix above, we find that the False negative predictions *(124)* are much less than the False positive values *(201)*. This is a good sign because False Negative means the model incorrectly predicts that a default would not happen, thus we would lose the total loans in the future; while False Positive means the model incorrectly predicts that a good loan would default, thus we only lose the loan fees."
   ]
  },
  {
   "cell_type": "code",
   "execution_count": 307,
   "metadata": {
    "_cell_guid": "f9725666-3c21-69d1-ddf6-45e47d982444"
   },
   "outputs": [
    {
     "name": "stdout",
     "output_type": "stream",
     "text": [
      "              precision    recall  f1-score   support\n",
      "\n",
      "         0.0       0.88      0.81      0.84      1079\n",
      "         1.0       0.83      0.89      0.86      1121\n",
      "\n",
      "    accuracy                           0.85      2200\n",
      "   macro avg       0.85      0.85      0.85      2200\n",
      "weighted avg       0.85      0.85      0.85      2200\n",
      "\n"
     ]
    }
   ],
   "source": [
    "# Print the Claasification report\n",
    "print(classification_report(Y_test,predictions))"
   ]
  },
  {
   "cell_type": "markdown",
   "metadata": {},
   "source": [
    "<font color='darkblue'>Since we have constructued a balanced dataset, the precision and recall scores are both high and similar to the Accuracy score."
   ]
  },
  {
   "cell_type": "markdown",
   "metadata": {},
   "source": [
    "### Calculate the ROC curve for the model"
   ]
  },
  {
   "cell_type": "code",
   "execution_count": 308,
   "metadata": {},
   "outputs": [],
   "source": [
    "# We write a function to show ROC curve\n",
    "def plotROCCurve(fpr_v,tpr_v):\n",
    "    \"\"\"\n",
    "    This function designed to plot ROC curve\n",
    "    fpr_v: the false positive rate \n",
    "    tpr_v: the true positive rate\n",
    "    \"\"\"\n",
    "    plt.figure(figsize=(8, 8))\n",
    "    plt.plot(fpr_v, tpr_v)\n",
    "    plt.plot([0, 1], [0, 1], color='red', lw=2, linestyle='--')\n",
    "    plt.xlim([0.0, 1.0])\n",
    "    plt.ylim([0.0, 1.05])\n",
    "    plt.xlabel('False Positive Rate')\n",
    "    plt.ylabel('True Positive Rate')\n",
    "    plt.title('Receiver operating characteristic')"
   ]
  },
  {
   "cell_type": "code",
   "execution_count": 309,
   "metadata": {},
   "outputs": [
    {
     "name": "stdout",
     "output_type": "stream",
     "text": [
      "AUC: 0.9347191827765325\n"
     ]
    },
    {
     "data": {
      "image/png": "[encoded data removed]",
      "text/plain": [
       "<Figure size 576x576 with 1 Axes>"
      ]
     },
     "metadata": {
      "needs_background": "light"
     },
     "output_type": "display_data"
    }
   ],
   "source": [
    "y_score = final_model.predict_proba(x_test)[:,1]\n",
    "fpr, tpr, thresholds = roc_curve(Y_test, y_score)\n",
    "plotROCCurve(fpr,tpr)\n",
    "area = auc(fpr,tpr)\n",
    "print(\"AUC:\", area)"
   ]
  },
  {
   "cell_type": "markdown",
   "metadata": {},
   "source": [
    "<font color='darkblue'>We can see from the ROC curve that the RandomForest model shows a higher AUC score after tuning the hyperparameters and it has a good capability to avoid False Positives, but it is better at avioding False Negatives as you can see TPR is constantly equal to 1 after FPR takes over 0.4."
   ]
  },
  {
   "cell_type": "markdown",
   "metadata": {},
   "source": [
    "<a id='6.2'></a>\n",
    "## 7.2. Variable Intuition/Feature Importance\n",
    "Looking at the details above GBM might be worthy of further study.\n",
    "Let us look into the Feature Importance of the GBM model"
   ]
  },
  {
   "cell_type": "markdown",
   "metadata": {},
   "source": [
    "### Examine the importance of each of the model features. Some models may have a features_importances property. For others you may need to loop over features and exclude/include them to determine their impact on the score."
   ]
  },
  {
   "cell_type": "code",
   "execution_count": 310,
   "metadata": {},
   "outputs": [],
   "source": [
    "feature_names = loans_features.columns\n",
    "n_feats = len(feature_names)"
   ]
  },
  {
   "cell_type": "code",
   "execution_count": 311,
   "metadata": {},
   "outputs": [],
   "source": [
    "model_list = []\n",
    "for i in range(len(models)):\n",
    "    model_list.append((models[i][1]))\n",
    "rfe_model_list = [model_list[0],model_list[2],model_list[5], model_list[6]] #model list to use RFE method\n",
    "loop_model_list = [model_list[1],model_list[3],model_list[4]] #model list to loop over"
   ]
  },
  {
   "cell_type": "code",
   "execution_count": 312,
   "metadata": {},
   "outputs": [
    {
     "name": "stdout",
     "output_type": "stream",
     "text": [
      "----------------------------------------------------\n",
      "<class 'sklearn.neighbors._classification.KNeighborsClassifier'>\n",
      "0 : last_pymnt_amnt 0.80375\n",
      "1 : term 0.5947727272727272\n",
      "2 : sub_grade 0.5944318181818182\n",
      "3 : int_rate 0.5923863636363638\n",
      "4 : installment 0.551818181818182\n",
      "----------------------------------------------------\n",
      "<class 'sklearn.naive_bayes.GaussianNB'>\n",
      "0 : last_pymnt_amnt 0.7862500000000001\n",
      "1 : sub_grade 0.6470454545454545\n",
      "2 : int_rate 0.6464772727272727\n",
      "3 : term 0.6184090909090909\n",
      "4 : fico_scores 0.5642045454545455\n",
      "----------------------------------------------------\n",
      "<class 'sklearn.neural_network._multilayer_perceptron.MLPClassifier'>\n",
      "0 : last_pymnt_amnt 0.7972727272727272\n",
      "1 : int_rate 0.6476136363636364\n",
      "2 : sub_grade 0.6475\n",
      "3 : term 0.6184090909090909\n",
      "4 : fico_scores 0.565340909090909\n",
      "----------------------------------------------------\n"
     ]
    }
   ],
   "source": [
    "# Print top 5 important features from models which do not have RFE property\n",
    "for model in loop_model_list:\n",
    "\n",
    "    print(\"----------------------------------------------------\")    \n",
    "    print(model.__class__)\n",
    "    scores_list = []\n",
    "\n",
    "    for i in range(n_feats):\n",
    "        X_one_feature = np.array(x_train.iloc[:, i]).reshape(-1,1)\n",
    "        scores = cross_val_score(model, X_one_feature, Y_train, cv=k_fold)\n",
    "        scores_mean = scores.mean()\n",
    "        scores_list.append(scores.mean())\n",
    "\n",
    "    sorted_indices = np.argsort(np.array(scores_list) * -1) # negate to have descending\n",
    "\n",
    "    for i in range(0,5): # top 5 features\n",
    "        index = sorted_indices[i]\n",
    "        print(i, \":\", feature_names[index], scores_list[index])\n",
    "    \n",
    "print(\"----------------------------------------------------\")"
   ]
  },
  {
   "cell_type": "code",
   "execution_count": 313,
   "metadata": {},
   "outputs": [
    {
     "name": "stdout",
     "output_type": "stream",
     "text": [
      "-------------------------------------------------\n",
      "<class 'sklearn.linear_model._logistic.LogisticRegression'>\n",
      "funded_amnt\n",
      "term\n",
      "installment\n",
      "last_pymnt_amnt\n",
      "sub_grade\n",
      "\n",
      "-------------------------------------------------\n",
      "<class 'sklearn.tree._classes.DecisionTreeClassifier'>\n",
      "installment\n",
      "last_pymnt_amnt\n",
      "avg_cur_bal\n",
      "bc_open_to_buy\n",
      "mo_sin_old_rev_tl_op\n",
      "\n",
      "-------------------------------------------------\n",
      "<class 'sklearn.ensemble._weight_boosting.AdaBoostClassifier'>\n",
      "funded_amnt\n",
      "int_rate\n",
      "installment\n",
      "last_pymnt_amnt\n",
      "bc_open_to_buy\n",
      "\n",
      "-------------------------------------------------\n",
      "<class 'sklearn.ensemble._forest.RandomForestClassifier'>\n",
      "int_rate\n",
      "installment\n",
      "dti\n",
      "last_pymnt_amnt\n",
      "bc_open_to_buy\n",
      "\n"
     ]
    }
   ],
   "source": [
    "# Print top 5 important features from models which have RFE property\n",
    "for model in rfe_model_list:\n",
    "    \n",
    "    print(\"-------------------------------------------------\")\n",
    "    \n",
    "    rfe = RFE(estimator=model, n_features_to_select=5)\n",
    "    \n",
    "    print(model.__class__)\n",
    "    rfe.fit(x_train, Y_train)\n",
    "\n",
    "    for i in range(0,n_feats):\n",
    "        if rfe.support_[i] == True:\n",
    "            print(feature_names[i], end=\"\\n\")\n",
    "    print(\"\")"
   ]
  },
  {
   "cell_type": "markdown",
   "metadata": {},
   "source": [
    "<font color = 'darkblue'>The most importance features are last_pymnt_amnt, int_rate, term, installment as they appears many times."
   ]
  },
  {
   "cell_type": "markdown",
   "metadata": {},
   "source": [
    "### Conclusion"
   ]
  },
  {
   "cell_type": "markdown",
   "metadata": {},
   "source": [
    "### Write a summary of what you have found."
   ]
  },
  {
   "cell_type": "markdown",
   "metadata": {},
   "source": [
    "### Discovery of Feature Scaling\n",
    "In model implementation part, we not only followed the instructions given to find the best model, but also did the cross validation for the same split dataset without and with feature scaling. We desire to find the fact that what kind of models can be affected a lot by feature scaling. And the outcome turns out as follow:\n",
    "\n",
    "| Model         |   LR   |   KNN  |    DT   |    NB   |   NN   |   AB    |    RF   |\n",
    "|:-------------:|:------:|:------:|:-------:|:-------:|:------:|:-------:|:-------:|\n",
    "|**Differences**|0.039135|0.016275| 0.000000|-0.000096|0.056640|-0.000004| 0.000068|\n",
    "\n",
    "We can see from the table above that, measuring the AUC score, the performance of Logistic Regression model, KNN model and Neural Networks model have fairly improvement after feature scaling while other models do not have significant change. Therefore, we conclude that it is necessary to do feature scaling when we implement models involving or implicitly using distance calculations to predict.\n",
    "\n",
    "Without feature scaling, we got the mean of AUC score from 10 folds cross validation:\n",
    "\n",
    "|  Model        |   LR   |   KNN  |    DT   |    NB   |   NN   |   AB   |    RF   |\n",
    "|:-------------:|:------:|:------:|:-------:|:-------:|:------:|:------:|:-------:|\n",
    "| **AUC Score** |0.879412|0.788883|0.796775 |0.897634 |0.849048|0.927759| 0.928534|\n",
    "\n",
    "With feature scaling, we got the mean of AUC score from 10 folds cross validation:\n",
    "\n",
    "| Model         |   LR   |   KNN  |    DT   |    NB   |   NN   |   AB   |    RF   |\n",
    "|:-------------:|:------:|:------:|:-------:|:-------:|:------:|:------:|:-------:|\n",
    "| **AUC Score** |0.918546|0.805157|0.796775 |0.897538 |0.905689|0.927755| 0.928602|\n",
    "\n",
    "### Metrics From Random Forest Model\n",
    "According to AUC scores we got from models above, it is obviously that the **Random Forests model** has the best performance in predicting the probability that a loan will default without or with feature scaling. Then we found the best paramters for **'max_leaf_nodes' = 40 and 'n_estimators' = 300** by using GridSearchCV. The next step is to implement Random Forest model with best parameters to do prediction in testing set.\n",
    "\n",
    "| Metrics    | Recall | Precision | F1-score | Accuracy |\n",
    "|:----------:|:------:|:---------:|:--------:|:--------:|\n",
    "| **Values** |  0.89  |    0.83   |   0.86   |   0.85   |\n",
    "\n",
    "As we aim to predict the probability of default, we are more concerned about the False Negatives than False Positves. From the table above, our model did a considerably great job in reducing False Negatives with 0.89 recall rate. And other metrics are quite good as well. It is worth mentioning that accuracy could be a reasonable metric for our prediction as the dataset for which we implement the models is balanced. Finally We plot ROC curve and get the AUC score(**0.9347191827765325**).\n",
    "\n",
    "### Feature Importance\n",
    "Following the instructions, we then look for the important features. We run recursive feature elimination on Logistic Regression model, Decision Trees model, AdaptBoosting model and Random Forest Model as they have corresponding property. For other models, we loop over features, regress against the targets and determine each feature's explanatory power. We will show the top 5 important features for the different models we used:\n",
    "\n",
    "| Model       |         LR         |      KNN      |       DT           |       NB      |         \n",
    "|:-----------:|:------------------:|:-------------:|:------------------:|:-------------:|\n",
    "|**Feature 1**|funded_amnt         |last_pymnt_amnt|  installment       |last_pymnt_amnt|  \n",
    "|**Feature 2**|     term           |      term     |last_pymnt_amnt     |   sub_grade   |    \n",
    "|**Feature 3**|   installment      |   sub_grade   |avg_cur_bal         |    int_rate   |   \n",
    "|**Feature 4**|last_pymnt_amnt     |    int_rate   |bc_open_to_buy      |      term     |   \n",
    "|**Feature 5**|   sub_grade        |  installment  |mo_sin_old_rey_tl_op|  fico_scores  |\n",
    "\n",
    "| Model       |         NN         |       AB      |       RF      |\n",
    "|:-----------:|:------------------:|:-------------:|:-------------:|\n",
    "|**Feature 1**|   last_pymnt_amnt  |  funded_amnt  |    int_rate   |\n",
    "|**Feature 2**|      int_rate      |    int_rate   |  installment  |\n",
    "|**Feature 3**|       sub_grade    |  installment  |      dti      |\n",
    "|**Feature 4**|        term        |last_pymnt_amnt|last_pymnt_amnt|\n",
    "|**Feature 5**| fico_scores        | bc_open_to_buy| bc_open_to_buy|\n",
    "\n",
    "As we can see above, **'last_pymnt_amnt'** shows in the top 5 important feature list of models above and **'int_rate'** as well as **'installment'** shows in the top 5 important feature list of 5 models. Hence, we would say 'last_pymnt_amnt', 'int_rate' and 'installment' are the most important features to predict the probability of default in this dataset by implementing the models above. It is very reasonbale in reality. If the debtor is able to pay a decent amount of money back as the last payment, he/she is unlikely to default. If interest rate increases, the debtor has to pay more interests. Then the debtor would have more financial pressure so that he/she is more likely to default."
   ]
  }
 ],
 "metadata": {
  "_change_revision": 206,
  "_is_fork": false,
  "interpreter": {
   "hash": "ed225720166559e7176d3793db16a2fd8d295f725007103b21ac3099d2a89ee8"
  },
  "kernelspec": {
   "display_name": "Python 3",
   "language": "python",
   "name": "python3"
  },
  "language_info": {
   "codemirror_mode": {
    "name": "ipython",
    "version": 3
   },
   "file_extension": ".py",
   "mimetype": "text/x-python",
   "name": "python",
   "nbconvert_exporter": "python",
   "pygments_lexer": "ipython3",
   "version": "3.7.6"
  }
 },
 "nbformat": 4,
 "nbformat_minor": 4
}
